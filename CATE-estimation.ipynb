{
 "cells": [
  {
   "cell_type": "code",
   "execution_count": 1,
   "metadata": {},
   "outputs": [],
   "source": [
    "%load_ext autoreload\n",
    "%autoreload 2\n",
    "%matplotlib inline"
   ]
  },
  {
   "cell_type": "code",
   "execution_count": 2,
   "metadata": {},
   "outputs": [],
   "source": [
    "import numpy as np\n",
    "import matplotlib.pyplot as plt\n",
    "import scipy\n",
    "import scipy.special\n",
    "from sklearn.linear_model import LassoCV, LinearRegression, ElasticNetCV\n",
    "from sklearn.tree import DecisionTreeClassifier\n",
    "from sklearn.tree import plot_tree\n",
    "from sklearn.base import clone\n",
    "import joblib\n",
    "from statsmodels.api import OLS\n",
    "from sklearn.model_selection import StratifiedGroupKFold, GroupKFold, KFold, StratifiedKFold\n",
    "from sklearn.model_selection import cross_val_predict, cross_val_score\n",
    "from sklearn.pipeline import make_pipeline\n",
    "from sklearn.preprocessing import PolynomialFeatures\n",
    "import pandas as pd"
   ]
  },
  {
   "cell_type": "code",
   "execution_count": 3,
   "metadata": {},
   "outputs": [],
   "source": [
    "from myflaml import auto_reg, auto_clf, auto_weighted_reg"
   ]
  },
  {
   "cell_type": "markdown",
   "metadata": {},
   "source": [
    "# Setting the High Level Parameters for the Notebook"
   ]
  },
  {
   "cell_type": "code",
   "execution_count": 4,
   "metadata": {},
   "outputs": [],
   "source": [
    "time_budget = 60 # time budget for auto-ml in seconds (advisable at least 120)\n",
    "verbose = 0 # verbosity of auto-ml\n",
    "n_splits = 5 # cross-fitting and cross-validation splits\n",
    "data = 'criteo' # which dataset, one of {'401k', 'criteo', 'welfare', 'poverty', 'star'}\n",
    "plot = True # whether to plot results\n",
    "xfeat = 'f1' # feature to use as x axis in plotting, e.g. for criteo 'f1', for 401k 'inc', for welfare 'polviews'\n",
    "# Formula for the BLP of CATE regression.\n",
    "blp_formula = 'f1' # e.g. 'f1' for criteo, np.log(inc)' for 401k, 'C(polviews)' for the welfare case.\n",
    "hetero_feats = 'all' # list of subset of features to be used for CATE model or the string 'all' for everything\n",
    "binary_y = True\n",
    "\n",
    "## For semi-synthetic data generation\n",
    "semi_synth = False # Whether true outcome y should be replaced by a fake outcome from a known CEF\n",
    "simple_synth = True # Whether the true CEF of the fake y should be simple or fitted from data\n",
    "max_depth = 2 # max depth of random forest during for semi-synthetic model fitting\n",
    "scale = .2 # magnitude of noise in semi-synthetic data\n",
    "def simple_true_cef(D, X): # simple CEF of the outcome for semi-synthetic data\n",
    "    return .5 * np.array(X)[:, 1] * D + np.array(X)[:, 1]"
   ]
  },
  {
   "cell_type": "markdown",
   "metadata": {},
   "source": [
    "# Fetching the Data"
   ]
  },
  {
   "cell_type": "markdown",
   "metadata": {},
   "source": [
    "The Criteo dataset can be downloaded from here:\n",
    "https://www.kaggle.com/code/hughhuyton/criteo-uplift-modelling/input\n",
    "This file should be downloaded and stored in the same folder as the notebook with the name `criteo-uplift-v2.1.csv`.\n",
    "\n",
    "The welfare dataset can be downloaded from here:\n",
    "https://github.com/gsbDBI/ExperimentData/blob/master/Welfare/ProcessedData/welfarenolabel3.csv\n",
    "This file should be downloaded and stored in the same folder as the notebook with the name `welfarenolabel3.csv`. And is drawn from the analysis in this paper: [Green and Kern, 2012, Modeling Heterogeneous Treatment Effects in Survey Experiments with Bayesian Additive Regression Trees](https://github.com/gsbDBI/ExperimentData/blob/master/Welfare/Green%20and%20Kern%20BART.pdf)\n",
    "\n",
    "The 401k dataset is downloaded from the source by the code and no need to further download anything:\n",
    "https://raw.githubusercontent.com/CausalAIBook/MetricsMLNotebooks/main/data/401k.csv"
   ]
  },
  {
   "cell_type": "code",
   "execution_count": 11,
   "metadata": {},
   "outputs": [],
   "source": [
    "from datasets import fetch_data_generator\n",
    "\n",
    "get_data, abtest, true_cef, true_cate = fetch_data_generator(data=data, semi_synth=semi_synth,\n",
    "                                                             simple_synth=simple_synth,\n",
    "                                                             scale=scale, true_f=simple_true_cef,\n",
    "                                                             max_depth=max_depth)\n",
    "X, D, y, groups = get_data()"
   ]
  },
  {
   "cell_type": "code",
   "execution_count": 12,
   "metadata": {},
   "outputs": [],
   "source": [
    "if semi_synth:\n",
    "    true_ate = np.mean(true_cate(X))\n",
    "    print(f'True ATE: {true_ate}')"
   ]
  },
  {
   "cell_type": "code",
   "execution_count": 13,
   "metadata": {},
   "outputs": [],
   "source": [
    "def rmse(cate, preds):\n",
    "    return np.sqrt(np.mean((cate - preds)**2))"
   ]
  },
  {
   "cell_type": "markdown",
   "metadata": {},
   "source": [
    "# Data Analysis\n",
    "\n",
    "We now have our data $X$, $D$, $y$, of controls, treatments and outcomes. In some datasets, we also have \"groups\", also known as \"clusters\". These are group ids, that define a group of samples that are believed to be correlated through unobesrved factors. For instance, in randomized experiments when a whole class is being treated and we have data at the student level, the students in a class constitute a cluster, as their outcome variables are most probably correlated. In such settings, it is helpful to account for the cluster correlations when calculating confidence intervals and when performing sample splitting for either cross-validation or for nuisance estimation.\n",
    "\n",
    "We will be assuming throughout that conditional ignorability is satisfied if we control for all the variables $X$, i.e. the potential outcomes $Y(1), Y(0)$ satisfy\n",
    "\\begin{align}\n",
    "Y(1), Y(0) ~\\perp\\hspace{-1em}\\perp~D \\mid X\n",
    "\\end{align}\n",
    "Equivalently, we assume that the DAG the corresponds to our setting satisfies that $X$ is a valid adjustment set between $D$ and $Y$, i.e. it blocks all backdoor paths in the DAG."
   ]
  },
  {
   "cell_type": "code",
   "execution_count": 14,
   "metadata": {},
   "outputs": [
    {
     "data": {
      "text/html": [
       "<div>\n",
       "<style scoped>\n",
       "    .dataframe tbody tr th:only-of-type {\n",
       "        vertical-align: middle;\n",
       "    }\n",
       "\n",
       "    .dataframe tbody tr th {\n",
       "        vertical-align: top;\n",
       "    }\n",
       "\n",
       "    .dataframe thead th {\n",
       "        text-align: right;\n",
       "    }\n",
       "</style>\n",
       "<table border=\"1\" class=\"dataframe\">\n",
       "  <thead>\n",
       "    <tr style=\"text-align: right;\">\n",
       "      <th></th>\n",
       "      <th>f0</th>\n",
       "      <th>f1</th>\n",
       "      <th>f2</th>\n",
       "      <th>f3</th>\n",
       "      <th>f4</th>\n",
       "      <th>f5</th>\n",
       "      <th>f6</th>\n",
       "      <th>f7</th>\n",
       "      <th>f8</th>\n",
       "      <th>f9</th>\n",
       "      <th>f10</th>\n",
       "      <th>f11</th>\n",
       "    </tr>\n",
       "  </thead>\n",
       "  <tbody>\n",
       "    <tr>\n",
       "      <th>count</th>\n",
       "      <td>1.397959e+07</td>\n",
       "      <td>1.397959e+07</td>\n",
       "      <td>1.397959e+07</td>\n",
       "      <td>1.397959e+07</td>\n",
       "      <td>1.397959e+07</td>\n",
       "      <td>1.397959e+07</td>\n",
       "      <td>1.397959e+07</td>\n",
       "      <td>1.397959e+07</td>\n",
       "      <td>1.397959e+07</td>\n",
       "      <td>1.397959e+07</td>\n",
       "      <td>1.397959e+07</td>\n",
       "      <td>1.397959e+07</td>\n",
       "    </tr>\n",
       "    <tr>\n",
       "      <th>mean</th>\n",
       "      <td>1.962030e+01</td>\n",
       "      <td>1.006998e+01</td>\n",
       "      <td>8.446582e+00</td>\n",
       "      <td>4.178923e+00</td>\n",
       "      <td>1.033884e+01</td>\n",
       "      <td>4.028513e+00</td>\n",
       "      <td>-4.155356e+00</td>\n",
       "      <td>5.101765e+00</td>\n",
       "      <td>3.933581e+00</td>\n",
       "      <td>1.602764e+01</td>\n",
       "      <td>5.333396e+00</td>\n",
       "      <td>-1.709672e-01</td>\n",
       "    </tr>\n",
       "    <tr>\n",
       "      <th>std</th>\n",
       "      <td>5.377464e+00</td>\n",
       "      <td>1.047557e-01</td>\n",
       "      <td>2.993161e-01</td>\n",
       "      <td>1.336645e+00</td>\n",
       "      <td>3.433081e-01</td>\n",
       "      <td>4.310974e-01</td>\n",
       "      <td>4.577914e+00</td>\n",
       "      <td>1.205248e+00</td>\n",
       "      <td>5.665958e-02</td>\n",
       "      <td>7.018975e+00</td>\n",
       "      <td>1.682288e-01</td>\n",
       "      <td>2.283277e-02</td>\n",
       "    </tr>\n",
       "    <tr>\n",
       "      <th>min</th>\n",
       "      <td>1.261636e+01</td>\n",
       "      <td>1.005965e+01</td>\n",
       "      <td>8.214383e+00</td>\n",
       "      <td>-8.398387e+00</td>\n",
       "      <td>1.028053e+01</td>\n",
       "      <td>-9.011892e+00</td>\n",
       "      <td>-3.142978e+01</td>\n",
       "      <td>4.833815e+00</td>\n",
       "      <td>3.635107e+00</td>\n",
       "      <td>1.319006e+01</td>\n",
       "      <td>5.300375e+00</td>\n",
       "      <td>-1.383941e+00</td>\n",
       "    </tr>\n",
       "    <tr>\n",
       "      <th>25%</th>\n",
       "      <td>1.261636e+01</td>\n",
       "      <td>1.005965e+01</td>\n",
       "      <td>8.214383e+00</td>\n",
       "      <td>4.679882e+00</td>\n",
       "      <td>1.028053e+01</td>\n",
       "      <td>4.115453e+00</td>\n",
       "      <td>-6.699321e+00</td>\n",
       "      <td>4.833815e+00</td>\n",
       "      <td>3.910792e+00</td>\n",
       "      <td>1.319006e+01</td>\n",
       "      <td>5.300375e+00</td>\n",
       "      <td>-1.686792e-01</td>\n",
       "    </tr>\n",
       "    <tr>\n",
       "      <th>50%</th>\n",
       "      <td>2.192341e+01</td>\n",
       "      <td>1.005965e+01</td>\n",
       "      <td>8.214383e+00</td>\n",
       "      <td>4.679882e+00</td>\n",
       "      <td>1.028053e+01</td>\n",
       "      <td>4.115453e+00</td>\n",
       "      <td>-2.411115e+00</td>\n",
       "      <td>4.833815e+00</td>\n",
       "      <td>3.971858e+00</td>\n",
       "      <td>1.319006e+01</td>\n",
       "      <td>5.300375e+00</td>\n",
       "      <td>-1.686792e-01</td>\n",
       "    </tr>\n",
       "    <tr>\n",
       "      <th>75%</th>\n",
       "      <td>2.443646e+01</td>\n",
       "      <td>1.005965e+01</td>\n",
       "      <td>8.723335e+00</td>\n",
       "      <td>4.679882e+00</td>\n",
       "      <td>1.028053e+01</td>\n",
       "      <td>4.115453e+00</td>\n",
       "      <td>2.944427e-01</td>\n",
       "      <td>4.833815e+00</td>\n",
       "      <td>3.971858e+00</td>\n",
       "      <td>1.319006e+01</td>\n",
       "      <td>5.300375e+00</td>\n",
       "      <td>-1.686792e-01</td>\n",
       "    </tr>\n",
       "    <tr>\n",
       "      <th>max</th>\n",
       "      <td>2.674526e+01</td>\n",
       "      <td>1.634419e+01</td>\n",
       "      <td>9.051962e+00</td>\n",
       "      <td>4.679882e+00</td>\n",
       "      <td>2.112351e+01</td>\n",
       "      <td>4.115453e+00</td>\n",
       "      <td>2.944427e-01</td>\n",
       "      <td>1.199840e+01</td>\n",
       "      <td>3.971858e+00</td>\n",
       "      <td>7.529502e+01</td>\n",
       "      <td>6.473917e+00</td>\n",
       "      <td>-1.686792e-01</td>\n",
       "    </tr>\n",
       "  </tbody>\n",
       "</table>\n",
       "</div>"
      ],
      "text/plain": [
       "                 f0            f1            f2            f3            f4  \\\n",
       "count  1.397959e+07  1.397959e+07  1.397959e+07  1.397959e+07  1.397959e+07   \n",
       "mean   1.962030e+01  1.006998e+01  8.446582e+00  4.178923e+00  1.033884e+01   \n",
       "std    5.377464e+00  1.047557e-01  2.993161e-01  1.336645e+00  3.433081e-01   \n",
       "min    1.261636e+01  1.005965e+01  8.214383e+00 -8.398387e+00  1.028053e+01   \n",
       "25%    1.261636e+01  1.005965e+01  8.214383e+00  4.679882e+00  1.028053e+01   \n",
       "50%    2.192341e+01  1.005965e+01  8.214383e+00  4.679882e+00  1.028053e+01   \n",
       "75%    2.443646e+01  1.005965e+01  8.723335e+00  4.679882e+00  1.028053e+01   \n",
       "max    2.674526e+01  1.634419e+01  9.051962e+00  4.679882e+00  2.112351e+01   \n",
       "\n",
       "                 f5            f6            f7            f8            f9  \\\n",
       "count  1.397959e+07  1.397959e+07  1.397959e+07  1.397959e+07  1.397959e+07   \n",
       "mean   4.028513e+00 -4.155356e+00  5.101765e+00  3.933581e+00  1.602764e+01   \n",
       "std    4.310974e-01  4.577914e+00  1.205248e+00  5.665958e-02  7.018975e+00   \n",
       "min   -9.011892e+00 -3.142978e+01  4.833815e+00  3.635107e+00  1.319006e+01   \n",
       "25%    4.115453e+00 -6.699321e+00  4.833815e+00  3.910792e+00  1.319006e+01   \n",
       "50%    4.115453e+00 -2.411115e+00  4.833815e+00  3.971858e+00  1.319006e+01   \n",
       "75%    4.115453e+00  2.944427e-01  4.833815e+00  3.971858e+00  1.319006e+01   \n",
       "max    4.115453e+00  2.944427e-01  1.199840e+01  3.971858e+00  7.529502e+01   \n",
       "\n",
       "                f10           f11  \n",
       "count  1.397959e+07  1.397959e+07  \n",
       "mean   5.333396e+00 -1.709672e-01  \n",
       "std    1.682288e-01  2.283277e-02  \n",
       "min    5.300375e+00 -1.383941e+00  \n",
       "25%    5.300375e+00 -1.686792e-01  \n",
       "50%    5.300375e+00 -1.686792e-01  \n",
       "75%    5.300375e+00 -1.686792e-01  \n",
       "max    6.473917e+00 -1.686792e-01  "
      ]
     },
     "execution_count": 14,
     "metadata": {},
     "output_type": "execute_result"
    }
   ],
   "source": [
    "X.describe()"
   ]
  },
  {
   "cell_type": "code",
   "execution_count": 15,
   "metadata": {},
   "outputs": [
    {
     "data": {
      "image/png": "[encoded data removed]",
      "text/plain": [
       "<Figure size 1500x500 with 2 Axes>"
      ]
     },
     "metadata": {},
     "output_type": "display_data"
    }
   ],
   "source": [
    "plt.figure(figsize=(15, 5))\n",
    "plt.subplot(1, 2, 1)\n",
    "plt.hist(D)\n",
    "plt.title('Treatment')\n",
    "plt.subplot(1, 2, 2)\n",
    "plt.hist(y)\n",
    "plt.title('Outcome')\n",
    "plt.show()"
   ]
  },
  {
   "cell_type": "markdown",
   "metadata": {},
   "source": [
    "# Split Train and Validation and Test"
   ]
  },
  {
   "cell_type": "markdown",
   "metadata": {},
   "source": [
    "The training data will be used to fit the various CATE models. The validation data will be used for scoring and selection of the best CATE model or best ensemble of CATE models. The test data will be used for testing and evaluation of the performance of the best chosen model. "
   ]
  },
  {
   "cell_type": "code",
   "execution_count": 16,
   "metadata": {},
   "outputs": [],
   "source": [
    "from sklearn.model_selection import train_test_split\n",
    "from sklearn.model_selection import GroupShuffleSplit\n",
    "\n",
    "if groups is None:\n",
    "    X, Xval, D, Dval, y, yval = train_test_split(X, D, y, train_size=.6, shuffle=True, random_state=123)\n",
    "    Xval, Xtest, Dval, Dtest, yval, ytest = train_test_split(Xval, Dval, yval, train_size=.5, shuffle=True, random_state=123)\n",
    "    groupsval, groupstest = None, None\n",
    "else:\n",
    "    train, val = next(GroupShuffleSplit(n_splits=2, train_size=.6, random_state=123).split(X, y, groups=groups))\n",
    "    X, Xval, D, Dval, y, yval = X.iloc[train], X.iloc[val], D[train], D[val], y[train], y[val]\n",
    "    groups, groupsval = groups[train], groups[val]\n",
    "\n",
    "    val, test = next(GroupShuffleSplit(n_splits=2, train_size=.5, random_state=123).split(Xval, yval, groups=groupsval))\n",
    "    Xval, Xtest, Dval, Dtest, yval, ytest = Xval.iloc[val], Xval.iloc[test], Dval[val], Dval[test], yval[val], yval[test]\n",
    "    groupsval, groupstest = groupsval[val], groupsval[test]"
   ]
  },
  {
   "cell_type": "markdown",
   "metadata": {},
   "source": [
    "# Nuisance Model Selection\n",
    "\n",
    "Using the training data we will select the best model for each of the nuisance models that arise in meta learner CATE approaches. They five models correspond to the following five predictive problems:\n",
    "\\begin{align}\n",
    "\\text{model_reg} ~\\rightarrow~& g(d, x) := E[Y\\mid D=d, X=x]\\\\\n",
    "\\text{model_y} ~\\rightarrow~& q(x) := E[Y\\mid X=x]\\\\\n",
    "\\text{model_t} ~\\rightarrow~& p(x) := E[D\\mid X=x] = \\Pr(D=1\\mid X=x)\\\\\n",
    "\\text{model_reg_zero} ~\\rightarrow~& g_0(x) := E[Y\\mid D=0, X=x]\\\\\n",
    "\\text{model_reg_one} ~\\rightarrow~& g_1(x) := E[Y\\mid D=1, X=x]\\\\\n",
    "\\end{align}\n",
    "We will select the best hyperparameters/model type for each predictive problem using cross-validation, where the splits are also stratified by the treatment (so that we have balanced split of the treatment groups across folds)."
   ]
  },
  {
   "cell_type": "code",
   "execution_count": 17,
   "metadata": {},
   "outputs": [],
   "source": [
    "if groups is None:\n",
    "    split_type = 'auto'\n",
    "else:\n",
    "    split_type = GroupKFold(n_splits=n_splits)"
   ]
  },
  {
   "cell_type": "code",
   "execution_count": 18,
   "metadata": {
    "scrolled": true
   },
   "outputs": [],
   "source": [
    "\n",
    "# These function calls perform auto-ml hyperparameter tuning and return a \"model class generator\"\n",
    "# i.e. a function that whenever called returns an instance of an un-fitted model with the best hyper-parameters\n",
    "if binary_y:\n",
    "    model_reg = auto_clf(np.column_stack((D, X)), y, groups=groups, n_splits=n_splits, split_type=split_type, \n",
    "                         verbose=verbose, time_budget=time_budget)\n",
    "    model_y = auto_clf(X, y, n_splits=n_splits, split_type=split_type, \n",
    "                       verbose=verbose, time_budget=time_budget)\n",
    "    model_reg_zero = auto_clf(X[D==0], y[D==0], groups=groups, n_splits=n_splits, split_type=split_type, \n",
    "                              verbose=verbose, time_budget=time_budget)\n",
    "    model_reg_one = auto_clf(X[D==1], y[D==1], groups=groups, n_splits=n_splits, split_type=split_type, \n",
    "                             verbose=verbose, time_budget=time_budget)\n",
    "else:\n",
    "    model_reg = auto_reg(np.column_stack((D, X)), y, groups=groups, n_splits=n_splits, split_type=split_type, \n",
    "                         verbose=verbose, time_budget=time_budget)\n",
    "    model_y = auto_reg(X, y, groups=groups, n_splits=n_splits, split_type=split_type, \n",
    "                       verbose=verbose, time_budget=time_budget)\n",
    "    model_reg_zero = auto_reg(X[D==0], y[D==0], groups=groups, n_splits=n_splits, split_type=split_type, \n",
    "                              verbose=verbose, time_budget=time_budget)\n",
    "    model_reg_one = auto_reg(X[D==1], y[D==1], groups=groups, n_splits=n_splits, split_type=split_type, \n",
    "                             verbose=verbose, time_budget=time_budget)\n",
    "model_t = auto_clf(X, D, groups=groups, n_splits=n_splits, split_type=split_type, \n",
    "                   verbose=verbose, time_budget=time_budget)"
   ]
  },
  {
   "cell_type": "code",
   "execution_count": 19,
   "metadata": {},
   "outputs": [
    {
     "data": {
      "text/html": [
       "<style>#sk-container-id-1 {color: black;background-color: white;}#sk-container-id-1 pre{padding: 0;}#sk-container-id-1 div.sk-toggleable {background-color: white;}#sk-container-id-1 label.sk-toggleable__label {cursor: pointer;display: block;width: 100%;margin-bottom: 0;padding: 0.3em;box-sizing: border-box;text-align: center;}#sk-container-id-1 label.sk-toggleable__label-arrow:before {content: \"▸\";float: left;margin-right: 0.25em;color: #696969;}#sk-container-id-1 label.sk-toggleable__label-arrow:hover:before {color: black;}#sk-container-id-1 div.sk-estimator:hover label.sk-toggleable__label-arrow:before {color: black;}#sk-container-id-1 div.sk-toggleable__content {max-height: 0;max-width: 0;overflow: hidden;text-align: left;background-color: #f0f8ff;}#sk-container-id-1 div.sk-toggleable__content pre {margin: 0.2em;color: black;border-radius: 0.25em;background-color: #f0f8ff;}#sk-container-id-1 input.sk-toggleable__control:checked~div.sk-toggleable__content {max-height: 200px;max-width: 100%;overflow: auto;}#sk-container-id-1 input.sk-toggleable__control:checked~label.sk-toggleable__label-arrow:before {content: \"▾\";}#sk-container-id-1 div.sk-estimator input.sk-toggleable__control:checked~label.sk-toggleable__label {background-color: #d4ebff;}#sk-container-id-1 div.sk-label input.sk-toggleable__control:checked~label.sk-toggleable__label {background-color: #d4ebff;}#sk-container-id-1 input.sk-hidden--visually {border: 0;clip: rect(1px 1px 1px 1px);clip: rect(1px, 1px, 1px, 1px);height: 1px;margin: -1px;overflow: hidden;padding: 0;position: absolute;width: 1px;}#sk-container-id-1 div.sk-estimator {font-family: monospace;background-color: #f0f8ff;border: 1px dotted black;border-radius: 0.25em;box-sizing: border-box;margin-bottom: 0.5em;}#sk-container-id-1 div.sk-estimator:hover {background-color: #d4ebff;}#sk-container-id-1 div.sk-parallel-item::after {content: \"\";width: 100%;border-bottom: 1px solid gray;flex-grow: 1;}#sk-container-id-1 div.sk-label:hover label.sk-toggleable__label {background-color: #d4ebff;}#sk-container-id-1 div.sk-serial::before {content: \"\";position: absolute;border-left: 1px solid gray;box-sizing: border-box;top: 0;bottom: 0;left: 50%;z-index: 0;}#sk-container-id-1 div.sk-serial {display: flex;flex-direction: column;align-items: center;background-color: white;padding-right: 0.2em;padding-left: 0.2em;position: relative;}#sk-container-id-1 div.sk-item {position: relative;z-index: 1;}#sk-container-id-1 div.sk-parallel {display: flex;align-items: stretch;justify-content: center;background-color: white;position: relative;}#sk-container-id-1 div.sk-item::before, #sk-container-id-1 div.sk-parallel-item::before {content: \"\";position: absolute;border-left: 1px solid gray;box-sizing: border-box;top: 0;bottom: 0;left: 50%;z-index: -1;}#sk-container-id-1 div.sk-parallel-item {display: flex;flex-direction: column;z-index: 1;position: relative;background-color: white;}#sk-container-id-1 div.sk-parallel-item:first-child::after {align-self: flex-end;width: 50%;}#sk-container-id-1 div.sk-parallel-item:last-child::after {align-self: flex-start;width: 50%;}#sk-container-id-1 div.sk-parallel-item:only-child::after {width: 0;}#sk-container-id-1 div.sk-dashed-wrapped {border: 1px dashed gray;margin: 0 0.4em 0.5em 0.4em;box-sizing: border-box;padding-bottom: 0.4em;background-color: white;}#sk-container-id-1 div.sk-label label {font-family: monospace;font-weight: bold;display: inline-block;line-height: 1.2em;}#sk-container-id-1 div.sk-label-container {text-align: center;}#sk-container-id-1 div.sk-container {/* jupyter's `normalize.less` sets `[hidden] { display: none; }` but bootstrap.min.css set `[hidden] { display: none !important; }` so we also need the `!important` here to be able to override the default hidden behavior on the sphinx rendered scikit-learn.org. See: https://github.com/scikit-learn/scikit-learn/issues/21755 */display: inline-block !important;position: relative;}#sk-container-id-1 div.sk-text-repr-fallback {display: none;}</style><div id=\"sk-container-id-1\" class=\"sk-top-container\"><div class=\"sk-text-repr-fallback\"><pre>AutoMLWrapCLF(model=&lt;flaml.automl.model.LGBMEstimator object at 0x00000216F6BBE290&gt;)</pre><b>In a Jupyter environment, please rerun this cell to show the HTML representation or trust the notebook. <br />On GitHub, the HTML representation is unable to render, please try loading this page with nbviewer.org.</b></div><div class=\"sk-container\" hidden><div class=\"sk-item sk-dashed-wrapped\"><div class=\"sk-label-container\"><div class=\"sk-label sk-toggleable\"><input class=\"sk-toggleable__control sk-hidden--visually\" id=\"sk-estimator-id-1\" type=\"checkbox\" ><label for=\"sk-estimator-id-1\" class=\"sk-toggleable__label sk-toggleable__label-arrow\">AutoMLWrapCLF</label><div class=\"sk-toggleable__content\"><pre>AutoMLWrapCLF(model=&lt;flaml.automl.model.LGBMEstimator object at 0x00000216F6BBE290&gt;)</pre></div></div></div><div class=\"sk-parallel\"><div class=\"sk-parallel-item\"><div class=\"sk-item\"><div class=\"sk-label-container\"><div class=\"sk-label sk-toggleable\"><input class=\"sk-toggleable__control sk-hidden--visually\" id=\"sk-estimator-id-2\" type=\"checkbox\" ><label for=\"sk-estimator-id-2\" class=\"sk-toggleable__label sk-toggleable__label-arrow\">model: LGBMEstimator</label><div class=\"sk-toggleable__content\"><pre>&lt;flaml.automl.model.LGBMEstimator object at 0x00000216F6BBE290&gt;</pre></div></div></div><div class=\"sk-serial\"><div class=\"sk-item\"><div class=\"sk-estimator sk-toggleable\"><input class=\"sk-toggleable__control sk-hidden--visually\" id=\"sk-estimator-id-3\" type=\"checkbox\" ><label for=\"sk-estimator-id-3\" class=\"sk-toggleable__label sk-toggleable__label-arrow\">LGBMEstimator</label><div class=\"sk-toggleable__content\"><pre>&lt;flaml.automl.model.LGBMEstimator object at 0x00000216F6BBE290&gt;</pre></div></div></div></div></div></div></div></div></div></div>"
      ],
      "text/plain": [
       "AutoMLWrapCLF(model=<flaml.automl.model.LGBMEstimator object at 0x00000216F6BBE290>)"
      ]
     },
     "execution_count": 19,
     "metadata": {},
     "output_type": "execute_result"
    }
   ],
   "source": [
    "model_reg()"
   ]
  },
  {
   "cell_type": "code",
   "execution_count": 20,
   "metadata": {},
   "outputs": [
    {
     "data": {
      "text/html": [
       "<style>#sk-container-id-2 {color: black;background-color: white;}#sk-container-id-2 pre{padding: 0;}#sk-container-id-2 div.sk-toggleable {background-color: white;}#sk-container-id-2 label.sk-toggleable__label {cursor: pointer;display: block;width: 100%;margin-bottom: 0;padding: 0.3em;box-sizing: border-box;text-align: center;}#sk-container-id-2 label.sk-toggleable__label-arrow:before {content: \"▸\";float: left;margin-right: 0.25em;color: #696969;}#sk-container-id-2 label.sk-toggleable__label-arrow:hover:before {color: black;}#sk-container-id-2 div.sk-estimator:hover label.sk-toggleable__label-arrow:before {color: black;}#sk-container-id-2 div.sk-toggleable__content {max-height: 0;max-width: 0;overflow: hidden;text-align: left;background-color: #f0f8ff;}#sk-container-id-2 div.sk-toggleable__content pre {margin: 0.2em;color: black;border-radius: 0.25em;background-color: #f0f8ff;}#sk-container-id-2 input.sk-toggleable__control:checked~div.sk-toggleable__content {max-height: 200px;max-width: 100%;overflow: auto;}#sk-container-id-2 input.sk-toggleable__control:checked~label.sk-toggleable__label-arrow:before {content: \"▾\";}#sk-container-id-2 div.sk-estimator input.sk-toggleable__control:checked~label.sk-toggleable__label {background-color: #d4ebff;}#sk-container-id-2 div.sk-label input.sk-toggleable__control:checked~label.sk-toggleable__label {background-color: #d4ebff;}#sk-container-id-2 input.sk-hidden--visually {border: 0;clip: rect(1px 1px 1px 1px);clip: rect(1px, 1px, 1px, 1px);height: 1px;margin: -1px;overflow: hidden;padding: 0;position: absolute;width: 1px;}#sk-container-id-2 div.sk-estimator {font-family: monospace;background-color: #f0f8ff;border: 1px dotted black;border-radius: 0.25em;box-sizing: border-box;margin-bottom: 0.5em;}#sk-container-id-2 div.sk-estimator:hover {background-color: #d4ebff;}#sk-container-id-2 div.sk-parallel-item::after {content: \"\";width: 100%;border-bottom: 1px solid gray;flex-grow: 1;}#sk-container-id-2 div.sk-label:hover label.sk-toggleable__label {background-color: #d4ebff;}#sk-container-id-2 div.sk-serial::before {content: \"\";position: absolute;border-left: 1px solid gray;box-sizing: border-box;top: 0;bottom: 0;left: 50%;z-index: 0;}#sk-container-id-2 div.sk-serial {display: flex;flex-direction: column;align-items: center;background-color: white;padding-right: 0.2em;padding-left: 0.2em;position: relative;}#sk-container-id-2 div.sk-item {position: relative;z-index: 1;}#sk-container-id-2 div.sk-parallel {display: flex;align-items: stretch;justify-content: center;background-color: white;position: relative;}#sk-container-id-2 div.sk-item::before, #sk-container-id-2 div.sk-parallel-item::before {content: \"\";position: absolute;border-left: 1px solid gray;box-sizing: border-box;top: 0;bottom: 0;left: 50%;z-index: -1;}#sk-container-id-2 div.sk-parallel-item {display: flex;flex-direction: column;z-index: 1;position: relative;background-color: white;}#sk-container-id-2 div.sk-parallel-item:first-child::after {align-self: flex-end;width: 50%;}#sk-container-id-2 div.sk-parallel-item:last-child::after {align-self: flex-start;width: 50%;}#sk-container-id-2 div.sk-parallel-item:only-child::after {width: 0;}#sk-container-id-2 div.sk-dashed-wrapped {border: 1px dashed gray;margin: 0 0.4em 0.5em 0.4em;box-sizing: border-box;padding-bottom: 0.4em;background-color: white;}#sk-container-id-2 div.sk-label label {font-family: monospace;font-weight: bold;display: inline-block;line-height: 1.2em;}#sk-container-id-2 div.sk-label-container {text-align: center;}#sk-container-id-2 div.sk-container {/* jupyter's `normalize.less` sets `[hidden] { display: none; }` but bootstrap.min.css set `[hidden] { display: none !important; }` so we also need the `!important` here to be able to override the default hidden behavior on the sphinx rendered scikit-learn.org. See: https://github.com/scikit-learn/scikit-learn/issues/21755 */display: inline-block !important;position: relative;}#sk-container-id-2 div.sk-text-repr-fallback {display: none;}</style><div id=\"sk-container-id-2\" class=\"sk-top-container\"><div class=\"sk-text-repr-fallback\"><pre>AutoMLWrapCLF(model=&lt;flaml.automl.model.LGBMEstimator object at 0x00000216F6BBE4D0&gt;)</pre><b>In a Jupyter environment, please rerun this cell to show the HTML representation or trust the notebook. <br />On GitHub, the HTML representation is unable to render, please try loading this page with nbviewer.org.</b></div><div class=\"sk-container\" hidden><div class=\"sk-item sk-dashed-wrapped\"><div class=\"sk-label-container\"><div class=\"sk-label sk-toggleable\"><input class=\"sk-toggleable__control sk-hidden--visually\" id=\"sk-estimator-id-4\" type=\"checkbox\" ><label for=\"sk-estimator-id-4\" class=\"sk-toggleable__label sk-toggleable__label-arrow\">AutoMLWrapCLF</label><div class=\"sk-toggleable__content\"><pre>AutoMLWrapCLF(model=&lt;flaml.automl.model.LGBMEstimator object at 0x00000216F6BBE4D0&gt;)</pre></div></div></div><div class=\"sk-parallel\"><div class=\"sk-parallel-item\"><div class=\"sk-item\"><div class=\"sk-label-container\"><div class=\"sk-label sk-toggleable\"><input class=\"sk-toggleable__control sk-hidden--visually\" id=\"sk-estimator-id-5\" type=\"checkbox\" ><label for=\"sk-estimator-id-5\" class=\"sk-toggleable__label sk-toggleable__label-arrow\">model: LGBMEstimator</label><div class=\"sk-toggleable__content\"><pre>&lt;flaml.automl.model.LGBMEstimator object at 0x00000216F6BBE4D0&gt;</pre></div></div></div><div class=\"sk-serial\"><div class=\"sk-item\"><div class=\"sk-estimator sk-toggleable\"><input class=\"sk-toggleable__control sk-hidden--visually\" id=\"sk-estimator-id-6\" type=\"checkbox\" ><label for=\"sk-estimator-id-6\" class=\"sk-toggleable__label sk-toggleable__label-arrow\">LGBMEstimator</label><div class=\"sk-toggleable__content\"><pre>&lt;flaml.automl.model.LGBMEstimator object at 0x00000216F6BBE4D0&gt;</pre></div></div></div></div></div></div></div></div></div></div>"
      ],
      "text/plain": [
       "AutoMLWrapCLF(model=<flaml.automl.model.LGBMEstimator object at 0x00000216F6BBE4D0>)"
      ]
     },
     "execution_count": 20,
     "metadata": {},
     "output_type": "execute_result"
    }
   ],
   "source": [
    "model_y()"
   ]
  },
  {
   "cell_type": "code",
   "execution_count": 21,
   "metadata": {},
   "outputs": [
    {
     "data": {
      "text/html": [
       "<style>#sk-container-id-3 {color: black;background-color: white;}#sk-container-id-3 pre{padding: 0;}#sk-container-id-3 div.sk-toggleable {background-color: white;}#sk-container-id-3 label.sk-toggleable__label {cursor: pointer;display: block;width: 100%;margin-bottom: 0;padding: 0.3em;box-sizing: border-box;text-align: center;}#sk-container-id-3 label.sk-toggleable__label-arrow:before {content: \"▸\";float: left;margin-right: 0.25em;color: #696969;}#sk-container-id-3 label.sk-toggleable__label-arrow:hover:before {color: black;}#sk-container-id-3 div.sk-estimator:hover label.sk-toggleable__label-arrow:before {color: black;}#sk-container-id-3 div.sk-toggleable__content {max-height: 0;max-width: 0;overflow: hidden;text-align: left;background-color: #f0f8ff;}#sk-container-id-3 div.sk-toggleable__content pre {margin: 0.2em;color: black;border-radius: 0.25em;background-color: #f0f8ff;}#sk-container-id-3 input.sk-toggleable__control:checked~div.sk-toggleable__content {max-height: 200px;max-width: 100%;overflow: auto;}#sk-container-id-3 input.sk-toggleable__control:checked~label.sk-toggleable__label-arrow:before {content: \"▾\";}#sk-container-id-3 div.sk-estimator input.sk-toggleable__control:checked~label.sk-toggleable__label {background-color: #d4ebff;}#sk-container-id-3 div.sk-label input.sk-toggleable__control:checked~label.sk-toggleable__label {background-color: #d4ebff;}#sk-container-id-3 input.sk-hidden--visually {border: 0;clip: rect(1px 1px 1px 1px);clip: rect(1px, 1px, 1px, 1px);height: 1px;margin: -1px;overflow: hidden;padding: 0;position: absolute;width: 1px;}#sk-container-id-3 div.sk-estimator {font-family: monospace;background-color: #f0f8ff;border: 1px dotted black;border-radius: 0.25em;box-sizing: border-box;margin-bottom: 0.5em;}#sk-container-id-3 div.sk-estimator:hover {background-color: #d4ebff;}#sk-container-id-3 div.sk-parallel-item::after {content: \"\";width: 100%;border-bottom: 1px solid gray;flex-grow: 1;}#sk-container-id-3 div.sk-label:hover label.sk-toggleable__label {background-color: #d4ebff;}#sk-container-id-3 div.sk-serial::before {content: \"\";position: absolute;border-left: 1px solid gray;box-sizing: border-box;top: 0;bottom: 0;left: 50%;z-index: 0;}#sk-container-id-3 div.sk-serial {display: flex;flex-direction: column;align-items: center;background-color: white;padding-right: 0.2em;padding-left: 0.2em;position: relative;}#sk-container-id-3 div.sk-item {position: relative;z-index: 1;}#sk-container-id-3 div.sk-parallel {display: flex;align-items: stretch;justify-content: center;background-color: white;position: relative;}#sk-container-id-3 div.sk-item::before, #sk-container-id-3 div.sk-parallel-item::before {content: \"\";position: absolute;border-left: 1px solid gray;box-sizing: border-box;top: 0;bottom: 0;left: 50%;z-index: -1;}#sk-container-id-3 div.sk-parallel-item {display: flex;flex-direction: column;z-index: 1;position: relative;background-color: white;}#sk-container-id-3 div.sk-parallel-item:first-child::after {align-self: flex-end;width: 50%;}#sk-container-id-3 div.sk-parallel-item:last-child::after {align-self: flex-start;width: 50%;}#sk-container-id-3 div.sk-parallel-item:only-child::after {width: 0;}#sk-container-id-3 div.sk-dashed-wrapped {border: 1px dashed gray;margin: 0 0.4em 0.5em 0.4em;box-sizing: border-box;padding-bottom: 0.4em;background-color: white;}#sk-container-id-3 div.sk-label label {font-family: monospace;font-weight: bold;display: inline-block;line-height: 1.2em;}#sk-container-id-3 div.sk-label-container {text-align: center;}#sk-container-id-3 div.sk-container {/* jupyter's `normalize.less` sets `[hidden] { display: none; }` but bootstrap.min.css set `[hidden] { display: none !important; }` so we also need the `!important` here to be able to override the default hidden behavior on the sphinx rendered scikit-learn.org. See: https://github.com/scikit-learn/scikit-learn/issues/21755 */display: inline-block !important;position: relative;}#sk-container-id-3 div.sk-text-repr-fallback {display: none;}</style><div id=\"sk-container-id-3\" class=\"sk-top-container\"><div class=\"sk-text-repr-fallback\"><pre>AutoMLWrapCLF(model=&lt;flaml.automl.model.LGBMEstimator object at 0x00000216F6BBE410&gt;)</pre><b>In a Jupyter environment, please rerun this cell to show the HTML representation or trust the notebook. <br />On GitHub, the HTML representation is unable to render, please try loading this page with nbviewer.org.</b></div><div class=\"sk-container\" hidden><div class=\"sk-item sk-dashed-wrapped\"><div class=\"sk-label-container\"><div class=\"sk-label sk-toggleable\"><input class=\"sk-toggleable__control sk-hidden--visually\" id=\"sk-estimator-id-7\" type=\"checkbox\" ><label for=\"sk-estimator-id-7\" class=\"sk-toggleable__label sk-toggleable__label-arrow\">AutoMLWrapCLF</label><div class=\"sk-toggleable__content\"><pre>AutoMLWrapCLF(model=&lt;flaml.automl.model.LGBMEstimator object at 0x00000216F6BBE410&gt;)</pre></div></div></div><div class=\"sk-parallel\"><div class=\"sk-parallel-item\"><div class=\"sk-item\"><div class=\"sk-label-container\"><div class=\"sk-label sk-toggleable\"><input class=\"sk-toggleable__control sk-hidden--visually\" id=\"sk-estimator-id-8\" type=\"checkbox\" ><label for=\"sk-estimator-id-8\" class=\"sk-toggleable__label sk-toggleable__label-arrow\">model: LGBMEstimator</label><div class=\"sk-toggleable__content\"><pre>&lt;flaml.automl.model.LGBMEstimator object at 0x00000216F6BBE410&gt;</pre></div></div></div><div class=\"sk-serial\"><div class=\"sk-item\"><div class=\"sk-estimator sk-toggleable\"><input class=\"sk-toggleable__control sk-hidden--visually\" id=\"sk-estimator-id-9\" type=\"checkbox\" ><label for=\"sk-estimator-id-9\" class=\"sk-toggleable__label sk-toggleable__label-arrow\">LGBMEstimator</label><div class=\"sk-toggleable__content\"><pre>&lt;flaml.automl.model.LGBMEstimator object at 0x00000216F6BBE410&gt;</pre></div></div></div></div></div></div></div></div></div></div>"
      ],
      "text/plain": [
       "AutoMLWrapCLF(model=<flaml.automl.model.LGBMEstimator object at 0x00000216F6BBE410>)"
      ]
     },
     "execution_count": 21,
     "metadata": {},
     "output_type": "execute_result"
    }
   ],
   "source": [
    "model_t()"
   ]
  },
  {
   "cell_type": "markdown",
   "metadata": {},
   "source": [
    "If you want to save or load these models from a previous run un-comment the following lines"
   ]
  },
  {
   "cell_type": "code",
   "execution_count": 22,
   "metadata": {},
   "outputs": [],
   "source": [
    "# joblib.dump([model_reg(), model_y(), model_t(), model_reg_zero(), model_reg_one()], 'nuisance.jbl')"
   ]
  },
  {
   "cell_type": "code",
   "execution_count": 23,
   "metadata": {},
   "outputs": [],
   "source": [
    "# mreg, my, mt, mreg_zero, mreg_one = joblib.load('nuisance.jbl')\n",
    "# model_reg = lambda: clone(mreg)\n",
    "# model_y = lambda: clone(my)\n",
    "# model_t = lambda: clone(mt)\n",
    "# model_reg_zero = lambda: clone(mreg_zero)\n",
    "# model_reg_one = lambda: clone(mreg_one)"
   ]
  },
  {
   "cell_type": "markdown",
   "metadata": {},
   "source": [
    "We now also evaluate the performance of the selected models in terms of R^2"
   ]
  },
  {
   "cell_type": "code",
   "execution_count": 24,
   "metadata": {},
   "outputs": [],
   "source": [
    "if groups is None:\n",
    "    cv = KFold(n_splits=n_splits, shuffle=True, random_state=123)\n",
    "else:\n",
    "    cv = GroupKFold(n_splits=n_splits)"
   ]
  },
  {
   "cell_type": "code",
   "execution_count": 25,
   "metadata": {},
   "outputs": [
    {
     "name": "stdout",
     "output_type": "stream",
     "text": [
      "model_reg: 0.185\n",
      "model_y: 0.185\n",
      "model_t: 0.000\n",
      "model_reg_zero: 0.270\n",
      "model_reg_one: 0.187\n"
     ]
    }
   ],
   "source": [
    "score_reg = np.mean(cross_val_score(model_reg(), X, y, groups=groups, cv=cv, scoring='r2'))\n",
    "print(f'model_reg: {score_reg:.3f}')\n",
    "score_reg = np.mean(cross_val_score(model_y(), X, y, groups=groups, cv=cv, scoring='r2'))\n",
    "print(f'model_y: {score_reg:.3f}')\n",
    "score_reg = np.mean(cross_val_score(model_t(), X, D, groups=groups, cv=cv, scoring='r2'))\n",
    "print(f'model_t: {score_reg:.3f}')\n",
    "if groups is None:\n",
    "    score_reg = np.mean(cross_val_score(model_reg_zero(), X[D==0], y[D==0], groups=None, cv=cv, scoring='r2'))\n",
    "    print(f'model_reg_zero: {score_reg:.3f}')\n",
    "    score_reg = np.mean(cross_val_score(model_reg_one(), X[D==1], y[D==1], groups=None, cv=cv, scoring='r2'))\n",
    "    print(f'model_reg_one: {score_reg:.3f}')\n",
    "else:\n",
    "    score_reg = np.mean(cross_val_score(model_reg_zero(), X[D==0], y[D==0], groups=groups[D==0], cv=cv, scoring='r2'))\n",
    "    print(f'model_reg_zero: {score_reg:.3f}')\n",
    "    score_reg = np.mean(cross_val_score(model_reg_one(), X[D==1], y[D==1], groups=groups[D==1], cv=cv, scoring='r2'))\n",
    "    print(f'model_reg_one: {score_reg:.3f}')"
   ]
  },
  {
   "cell_type": "markdown",
   "metadata": {},
   "source": [
    "# Nuisance Cross-Fitted Estimation and Prediction"
   ]
  },
  {
   "cell_type": "markdown",
   "metadata": {},
   "source": [
    "After selecting the hyper-parameters for each of the nuisance models we perform cross-fitting to get out-of-fold predictions from each of these nuisance models. At the end of this process, we will have for each sample $i$, the following out-of-fold nuisance values:\n",
    "\\begin{align}\n",
    "\\text{reg_preds} \\rightarrow~& \\hat{g}(D_i, X_i) &\n",
    "\\text{reg_one_preds} \\rightarrow~& \\hat{g}(1, X_i) &\n",
    "\\text{reg_zero_preds} \\rightarrow~& \\hat{g}(0, X_i)\\\\\n",
    "\\text{reg_preds_t} \\rightarrow~& \\hat{g}_0(X_i) (1 - D_i) + \\hat{g}_1(X_i) D_i &\n",
    "\\text{reg_one_preds_t} \\rightarrow~& \\hat{g}_1(X_i) &\n",
    "\\text{reg_zero_preds_t} \\rightarrow~& \\hat{g}_0(X_i)\\\\\n",
    "\\text{res_preds} \\rightarrow~& \\hat{q}(X_i) &\n",
    "\\text{prop_preds} \\rightarrow~& \\hat{p}(X_i)\n",
    "\\end{align}"
   ]
  },
  {
   "cell_type": "code",
   "execution_count": 26,
   "metadata": {},
   "outputs": [],
   "source": [
    "if groups is None:\n",
    "    cv = StratifiedKFold(n_splits=n_splits, shuffle=True, random_state=123)\n",
    "    splits = list(cv.split(X, D))\n",
    "else:\n",
    "    cv = StratifiedGroupKFold(n_splits=n_splits, shuffle=True, random_state=123)\n",
    "    splits = list(cv.split(X, D, groups=groups))\n",
    "\n",
    "n = X.shape[0]\n",
    "reg_preds = np.zeros(n)\n",
    "reg_zero_preds = np.zeros(n)\n",
    "reg_one_preds = np.zeros(n)\n",
    "reg_preds_t = np.zeros(n)\n",
    "reg_zero_preds_t = np.zeros(n)\n",
    "reg_one_preds_t = np.zeros(n)\n",
    "\n",
    "DX = np.column_stack((D, X))\n",
    "for train, test in splits:\n",
    "    reg = model_reg().fit(DX[train], y[train])\n",
    "    reg_preds[test] = reg.predict(DX[test])\n",
    "    reg_one_preds[test] = reg.predict(np.column_stack([np.ones(len(test)), X.iloc[test]]))\n",
    "    reg_zero_preds[test] = reg.predict(np.column_stack([np.zeros(len(test)), X.iloc[test]]))\n",
    "\n",
    "    reg_zero = model_reg_zero().fit(X.iloc[train][D[train]==0], y[train][D[train]==0])\n",
    "    reg_one = model_reg_one().fit(X.iloc[train][D[train]==1], y[train][D[train]==1])\n",
    "    reg_zero_preds_t[test] = reg_zero.predict(X.iloc[test])\n",
    "    reg_one_preds_t[test] = reg_one.predict(X.iloc[test])\n",
    "    reg_preds_t[test] = reg_zero_preds_t[test] * (1 - D[test]) + reg_one_preds_t[test] * D[test]\n",
    "\n",
    "res_preds = cross_val_predict(model_y(), X, y, cv=splits)\n",
    "prop_preds = cross_val_predict(model_t(), X, D, cv=splits)"
   ]
  },
  {
   "cell_type": "markdown",
   "metadata": {},
   "source": [
    "# ATE Estimation"
   ]
  },
  {
   "cell_type": "markdown",
   "metadata": {},
   "source": [
    "Using plain OLS of $y\\sim D, X$. For an RCT the coefficient associated with the treatment in the limit converges to the true ATE and provides correct inference for the true ATE."
   ]
  },
  {
   "cell_type": "code",
   "execution_count": 27,
   "metadata": {},
   "outputs": [
    {
     "data": {
      "text/html": [
       "<table class=\"simpletable\">\n",
       "<caption>OLS Regression Results</caption>\n",
       "<tr>\n",
       "  <th>Dep. Variable:</th>            <td>y</td>        <th>  R-squared:         </th>  <td>   0.280</td> \n",
       "</tr>\n",
       "<tr>\n",
       "  <th>Model:</th>                   <td>OLS</td>       <th>  Adj. R-squared:    </th>  <td>   0.280</td> \n",
       "</tr>\n",
       "<tr>\n",
       "  <th>Method:</th>             <td>Least Squares</td>  <th>  F-statistic:       </th>  <td>4.675e+04</td>\n",
       "</tr>\n",
       "<tr>\n",
       "  <th>Date:</th>             <td>Mon, 28 Aug 2023</td> <th>  Prob (F-statistic):</th>   <td>  0.00</td>  \n",
       "</tr>\n",
       "<tr>\n",
       "  <th>Time:</th>                 <td>10:37:02</td>     <th>  Log-Likelihood:    </th> <td>2.5025e+06</td>\n",
       "</tr>\n",
       "<tr>\n",
       "  <th>No. Observations:</th>      <td>8387755</td>     <th>  AIC:               </th> <td>-5.005e+06</td>\n",
       "</tr>\n",
       "<tr>\n",
       "  <th>Df Residuals:</th>          <td>8387741</td>     <th>  BIC:               </th> <td>-5.005e+06</td>\n",
       "</tr>\n",
       "<tr>\n",
       "  <th>Df Model:</th>              <td>    13</td>      <th>                     </th>      <td> </td>    \n",
       "</tr>\n",
       "<tr>\n",
       "  <th>Covariance Type:</th>         <td>HC1</td>       <th>                     </th>      <td> </td>    \n",
       "</tr>\n",
       "</table>\n",
       "<table class=\"simpletable\">\n",
       "<tr>\n",
       "    <td></td>       <th>coef</th>     <th>std err</th>      <th>z</th>      <th>P>|z|</th>  <th>[0.025</th>    <th>0.975]</th>  \n",
       "</tr>\n",
       "<tr>\n",
       "  <th>f0</th>    <td>   -0.0005</td> <td> 1.93e-05</td> <td>  -26.993</td> <td> 0.000</td> <td>   -0.001</td> <td>   -0.000</td>\n",
       "</tr>\n",
       "<tr>\n",
       "  <th>f1</th>    <td>   -0.0072</td> <td>    0.002</td> <td>   -4.091</td> <td> 0.000</td> <td>   -0.011</td> <td>   -0.004</td>\n",
       "</tr>\n",
       "<tr>\n",
       "  <th>f2</th>    <td>   -0.0910</td> <td>    0.000</td> <td> -235.515</td> <td> 0.000</td> <td>   -0.092</td> <td>   -0.090</td>\n",
       "</tr>\n",
       "<tr>\n",
       "  <th>f3</th>    <td>   -0.0024</td> <td>    0.000</td> <td>  -23.511</td> <td> 0.000</td> <td>   -0.003</td> <td>   -0.002</td>\n",
       "</tr>\n",
       "<tr>\n",
       "  <th>f4</th>    <td>    0.0274</td> <td>    0.001</td> <td>   30.630</td> <td> 0.000</td> <td>    0.026</td> <td>    0.029</td>\n",
       "</tr>\n",
       "<tr>\n",
       "  <th>f5</th>    <td>   -0.0077</td> <td>    0.001</td> <td>  -12.455</td> <td> 0.000</td> <td>   -0.009</td> <td>   -0.006</td>\n",
       "</tr>\n",
       "<tr>\n",
       "  <th>f6</th>    <td>   -0.0016</td> <td> 2.15e-05</td> <td>  -76.447</td> <td> 0.000</td> <td>   -0.002</td> <td>   -0.002</td>\n",
       "</tr>\n",
       "<tr>\n",
       "  <th>f7</th>    <td>    0.0005</td> <td>    0.000</td> <td>    3.461</td> <td> 0.001</td> <td>    0.000</td> <td>    0.001</td>\n",
       "</tr>\n",
       "<tr>\n",
       "  <th>f8</th>    <td>   -1.0968</td> <td>    0.004</td> <td> -298.448</td> <td> 0.000</td> <td>   -1.104</td> <td>   -1.090</td>\n",
       "</tr>\n",
       "<tr>\n",
       "  <th>f9</th>    <td>    0.0070</td> <td> 3.07e-05</td> <td>  229.451</td> <td> 0.000</td> <td>    0.007</td> <td>    0.007</td>\n",
       "</tr>\n",
       "<tr>\n",
       "  <th>f10</th>   <td>   -0.0063</td> <td>    0.001</td> <td>   -5.134</td> <td> 0.000</td> <td>   -0.009</td> <td>   -0.004</td>\n",
       "</tr>\n",
       "<tr>\n",
       "  <th>f11</th>   <td>   -0.1449</td> <td>    0.011</td> <td>  -13.403</td> <td> 0.000</td> <td>   -0.166</td> <td>   -0.124</td>\n",
       "</tr>\n",
       "<tr>\n",
       "  <th>D</th>     <td>    0.0070</td> <td>    0.000</td> <td>   42.821</td> <td> 0.000</td> <td>    0.007</td> <td>    0.007</td>\n",
       "</tr>\n",
       "<tr>\n",
       "  <th>const</th> <td>    0.0411</td> <td>    0.000</td> <td>  274.104</td> <td> 0.000</td> <td>    0.041</td> <td>    0.041</td>\n",
       "</tr>\n",
       "</table>\n",
       "<table class=\"simpletable\">\n",
       "<tr>\n",
       "  <th>Omnibus:</th>       <td>4885887.341</td> <th>  Durbin-Watson:     </th>   <td>   2.000</td>  \n",
       "</tr>\n",
       "<tr>\n",
       "  <th>Prob(Omnibus):</th>   <td> 0.000</td>    <th>  Jarque-Bera (JB):  </th> <td>58200064.400</td>\n",
       "</tr>\n",
       "<tr>\n",
       "  <th>Skew:</th>            <td> 2.614</td>    <th>  Prob(JB):          </th>   <td>    0.00</td>  \n",
       "</tr>\n",
       "<tr>\n",
       "  <th>Kurtosis:</th>        <td>14.799</td>    <th>  Cond. No.          </th>   <td>    524.</td>  \n",
       "</tr>\n",
       "</table><br/><br/>Notes:<br/>[1] Standard Errors are heteroscedasticity robust (HC1)"
      ],
      "text/plain": [
       "<class 'statsmodels.iolib.summary.Summary'>\n",
       "\"\"\"\n",
       "                            OLS Regression Results                            \n",
       "==============================================================================\n",
       "Dep. Variable:                      y   R-squared:                       0.280\n",
       "Model:                            OLS   Adj. R-squared:                  0.280\n",
       "Method:                 Least Squares   F-statistic:                 4.675e+04\n",
       "Date:                Mon, 28 Aug 2023   Prob (F-statistic):               0.00\n",
       "Time:                        10:37:02   Log-Likelihood:             2.5025e+06\n",
       "No. Observations:             8387755   AIC:                        -5.005e+06\n",
       "Df Residuals:                 8387741   BIC:                        -5.005e+06\n",
       "Df Model:                          13                                         \n",
       "Covariance Type:                  HC1                                         \n",
       "==============================================================================\n",
       "                 coef    std err          z      P>|z|      [0.025      0.975]\n",
       "------------------------------------------------------------------------------\n",
       "f0            -0.0005   1.93e-05    -26.993      0.000      -0.001      -0.000\n",
       "f1            -0.0072      0.002     -4.091      0.000      -0.011      -0.004\n",
       "f2            -0.0910      0.000   -235.515      0.000      -0.092      -0.090\n",
       "f3            -0.0024      0.000    -23.511      0.000      -0.003      -0.002\n",
       "f4             0.0274      0.001     30.630      0.000       0.026       0.029\n",
       "f5            -0.0077      0.001    -12.455      0.000      -0.009      -0.006\n",
       "f6            -0.0016   2.15e-05    -76.447      0.000      -0.002      -0.002\n",
       "f7             0.0005      0.000      3.461      0.001       0.000       0.001\n",
       "f8            -1.0968      0.004   -298.448      0.000      -1.104      -1.090\n",
       "f9             0.0070   3.07e-05    229.451      0.000       0.007       0.007\n",
       "f10           -0.0063      0.001     -5.134      0.000      -0.009      -0.004\n",
       "f11           -0.1449      0.011    -13.403      0.000      -0.166      -0.124\n",
       "D              0.0070      0.000     42.821      0.000       0.007       0.007\n",
       "const          0.0411      0.000    274.104      0.000       0.041       0.041\n",
       "==============================================================================\n",
       "Omnibus:                  4885887.341   Durbin-Watson:                   2.000\n",
       "Prob(Omnibus):                  0.000   Jarque-Bera (JB):         58200064.400\n",
       "Skew:                           2.614   Prob(JB):                         0.00\n",
       "Kurtosis:                      14.799   Cond. No.                         524.\n",
       "==============================================================================\n",
       "\n",
       "Notes:\n",
       "[1] Standard Errors are heteroscedasticity robust (HC1)\n",
       "\"\"\""
      ]
     },
     "metadata": {},
     "output_type": "display_data"
    }
   ],
   "source": [
    "dfX = X.copy()\n",
    "dfX = dfX - dfX.mean(axis=0)\n",
    "dfX['D'] = D\n",
    "dfX['const'] = 1\n",
    "if groups is None:\n",
    "    display(OLS(y, dfX).fit(cov_type='HC1').summary())\n",
    "else:\n",
    "    display(OLS(y, dfX).fit(cov_type='cluster', cov_kwds={'groups': groups}).summary())"
   ]
  },
  {
   "cell_type": "markdown",
   "metadata": {},
   "source": [
    "Using plain OLS with the interactive model of $y\\sim D, D*X, X$ (after de-meaning X). For an RCT the coefficient associated with the treatment in the limit converges to the true ATE and provides correct inference for the true ATE. Moreover, the interactions should be giving us dimensions of heterogeneity."
   ]
  },
  {
   "cell_type": "code",
   "execution_count": 28,
   "metadata": {
    "scrolled": false
   },
   "outputs": [
    {
     "data": {
      "text/html": [
       "<table class=\"simpletable\">\n",
       "<caption>OLS Regression Results</caption>\n",
       "<tr>\n",
       "  <th>Dep. Variable:</th>            <td>y</td>        <th>  R-squared:         </th>  <td>   0.281</td> \n",
       "</tr>\n",
       "<tr>\n",
       "  <th>Model:</th>                   <td>OLS</td>       <th>  Adj. R-squared:    </th>  <td>   0.281</td> \n",
       "</tr>\n",
       "<tr>\n",
       "  <th>Method:</th>             <td>Least Squares</td>  <th>  F-statistic:       </th>  <td>   13.49</td> \n",
       "</tr>\n",
       "<tr>\n",
       "  <th>Date:</th>             <td>Mon, 28 Aug 2023</td> <th>  Prob (F-statistic):</th>  <td>1.39e-06</td> \n",
       "</tr>\n",
       "<tr>\n",
       "  <th>Time:</th>                 <td>10:37:32</td>     <th>  Log-Likelihood:    </th> <td>2.5086e+06</td>\n",
       "</tr>\n",
       "<tr>\n",
       "  <th>No. Observations:</th>      <td>8387755</td>     <th>  AIC:               </th> <td>-5.017e+06</td>\n",
       "</tr>\n",
       "<tr>\n",
       "  <th>Df Residuals:</th>          <td>8387728</td>     <th>  BIC:               </th> <td>-5.017e+06</td>\n",
       "</tr>\n",
       "<tr>\n",
       "  <th>Df Model:</th>              <td>    26</td>      <th>                     </th>      <td> </td>    \n",
       "</tr>\n",
       "<tr>\n",
       "  <th>Covariance Type:</th>         <td>HC1</td>       <th>                     </th>      <td> </td>    \n",
       "</tr>\n",
       "</table>\n",
       "<table class=\"simpletable\">\n",
       "<tr>\n",
       "      <td></td>         <th>coef</th>     <th>std err</th>      <th>z</th>      <th>P>|z|</th>  <th>[0.025</th>    <th>0.975]</th>  \n",
       "</tr>\n",
       "<tr>\n",
       "  <th>Intercept</th> <td> 7.675e+05</td> <td> 5.37e+05</td> <td>    1.428</td> <td> 0.153</td> <td>-2.86e+05</td> <td> 1.82e+06</td>\n",
       "</tr>\n",
       "<tr>\n",
       "  <th>D</th>         <td>    0.0078</td> <td>    0.000</td> <td>   45.726</td> <td> 0.000</td> <td>    0.007</td> <td>    0.008</td>\n",
       "</tr>\n",
       "<tr>\n",
       "  <th>f0</th>        <td>   -0.0005</td> <td> 4.69e-05</td> <td>   -9.987</td> <td> 0.000</td> <td>   -0.001</td> <td>   -0.000</td>\n",
       "</tr>\n",
       "<tr>\n",
       "  <th>f1</th>        <td>   -0.0177</td> <td>    0.004</td> <td>   -4.064</td> <td> 0.000</td> <td>   -0.026</td> <td>   -0.009</td>\n",
       "</tr>\n",
       "<tr>\n",
       "  <th>f2</th>        <td>   -0.0858</td> <td>    0.001</td> <td>  -91.337</td> <td> 0.000</td> <td>   -0.088</td> <td>   -0.084</td>\n",
       "</tr>\n",
       "<tr>\n",
       "  <th>f3</th>        <td>    0.0038</td> <td>    0.000</td> <td>   16.105</td> <td> 0.000</td> <td>    0.003</td> <td>    0.004</td>\n",
       "</tr>\n",
       "<tr>\n",
       "  <th>f4</th>        <td>    0.0345</td> <td>    0.002</td> <td>   14.993</td> <td> 0.000</td> <td>    0.030</td> <td>    0.039</td>\n",
       "</tr>\n",
       "<tr>\n",
       "  <th>f5</th>        <td>    0.0014</td> <td>    0.002</td> <td>    0.921</td> <td> 0.357</td> <td>   -0.002</td> <td>    0.004</td>\n",
       "</tr>\n",
       "<tr>\n",
       "  <th>f6</th>        <td>   -0.0008</td> <td>    5e-05</td> <td>  -16.110</td> <td> 0.000</td> <td>   -0.001</td> <td>   -0.001</td>\n",
       "</tr>\n",
       "<tr>\n",
       "  <th>f7</th>        <td>    0.0011</td> <td>    0.000</td> <td>    2.929</td> <td> 0.003</td> <td>    0.000</td> <td>    0.002</td>\n",
       "</tr>\n",
       "<tr>\n",
       "  <th>f8</th>        <td>   -0.9912</td> <td>    0.009</td> <td> -110.557</td> <td> 0.000</td> <td>   -1.009</td> <td>   -0.974</td>\n",
       "</tr>\n",
       "<tr>\n",
       "  <th>f9</th>        <td>    0.0064</td> <td> 7.59e-05</td> <td>   83.767</td> <td> 0.000</td> <td>    0.006</td> <td>    0.007</td>\n",
       "</tr>\n",
       "<tr>\n",
       "  <th>f10</th>       <td>   -0.0143</td> <td>    0.003</td> <td>   -4.593</td> <td> 0.000</td> <td>   -0.020</td> <td>   -0.008</td>\n",
       "</tr>\n",
       "<tr>\n",
       "  <th>f11</th>       <td>   -0.2023</td> <td>    0.028</td> <td>   -7.179</td> <td> 0.000</td> <td>   -0.258</td> <td>   -0.147</td>\n",
       "</tr>\n",
       "<tr>\n",
       "  <th>D:f0</th>      <td>-6.347e-05</td> <td> 5.14e-05</td> <td>   -1.235</td> <td> 0.217</td> <td>   -0.000</td> <td> 3.72e-05</td>\n",
       "</tr>\n",
       "<tr>\n",
       "  <th>D:f1</th>      <td>    0.0115</td> <td>    0.005</td> <td>    2.416</td> <td> 0.016</td> <td>    0.002</td> <td>    0.021</td>\n",
       "</tr>\n",
       "<tr>\n",
       "  <th>D:f2</th>      <td>   -0.0061</td> <td>    0.001</td> <td>   -5.953</td> <td> 0.000</td> <td>   -0.008</td> <td>   -0.004</td>\n",
       "</tr>\n",
       "<tr>\n",
       "  <th>D:f3</th>      <td>   -0.0070</td> <td>    0.000</td> <td>  -26.924</td> <td> 0.000</td> <td>   -0.008</td> <td>   -0.007</td>\n",
       "</tr>\n",
       "<tr>\n",
       "  <th>D:f4</th>      <td>   -0.0077</td> <td>    0.002</td> <td>   -3.106</td> <td> 0.002</td> <td>   -0.013</td> <td>   -0.003</td>\n",
       "</tr>\n",
       "<tr>\n",
       "  <th>D:f5</th>      <td>   -0.0099</td> <td>    0.002</td> <td>   -5.901</td> <td> 0.000</td> <td>   -0.013</td> <td>   -0.007</td>\n",
       "</tr>\n",
       "<tr>\n",
       "  <th>D:f6</th>      <td>   -0.0010</td> <td> 5.53e-05</td> <td>  -17.534</td> <td> 0.000</td> <td>   -0.001</td> <td>   -0.001</td>\n",
       "</tr>\n",
       "<tr>\n",
       "  <th>D:f7</th>      <td>   -0.0006</td> <td>    0.000</td> <td>   -1.336</td> <td> 0.182</td> <td>   -0.001</td> <td>    0.000</td>\n",
       "</tr>\n",
       "<tr>\n",
       "  <th>D:f8</th>      <td>   -0.1233</td> <td>    0.010</td> <td>  -12.546</td> <td> 0.000</td> <td>   -0.143</td> <td>   -0.104</td>\n",
       "</tr>\n",
       "<tr>\n",
       "  <th>D:f9</th>      <td>    0.0008</td> <td>  8.3e-05</td> <td>    9.320</td> <td> 0.000</td> <td>    0.001</td> <td>    0.001</td>\n",
       "</tr>\n",
       "<tr>\n",
       "  <th>D:f10</th>     <td>    0.0090</td> <td>    0.003</td> <td>    2.649</td> <td> 0.008</td> <td>    0.002</td> <td>    0.016</td>\n",
       "</tr>\n",
       "<tr>\n",
       "  <th>D:f11</th>     <td>    0.0668</td> <td>    0.031</td> <td>    2.187</td> <td> 0.029</td> <td>    0.007</td> <td>    0.127</td>\n",
       "</tr>\n",
       "<tr>\n",
       "  <th>const</th>     <td>-7.675e+05</td> <td> 5.37e+05</td> <td>   -1.428</td> <td> 0.153</td> <td>-1.82e+06</td> <td> 2.86e+05</td>\n",
       "</tr>\n",
       "</table>\n",
       "<table class=\"simpletable\">\n",
       "<tr>\n",
       "  <th>Omnibus:</th>       <td>4885539.026</td> <th>  Durbin-Watson:     </th>   <td>   2.000</td>  \n",
       "</tr>\n",
       "<tr>\n",
       "  <th>Prob(Omnibus):</th>   <td> 0.000</td>    <th>  Jarque-Bera (JB):  </th> <td>58419350.067</td>\n",
       "</tr>\n",
       "<tr>\n",
       "  <th>Skew:</th>            <td> 2.612</td>    <th>  Prob(JB):          </th>   <td>    0.00</td>  \n",
       "</tr>\n",
       "<tr>\n",
       "  <th>Kurtosis:</th>        <td>14.827</td>    <th>  Cond. No.          </th>   <td>1.91e+13</td>  \n",
       "</tr>\n",
       "</table><br/><br/>Notes:<br/>[1] Standard Errors are heteroscedasticity robust (HC1)<br/>[2] The smallest eigenvalue is 2.24e-18. This might indicate that there are<br/>strong multicollinearity problems or that the design matrix is singular."
      ],
      "text/plain": [
       "<class 'statsmodels.iolib.summary.Summary'>\n",
       "\"\"\"\n",
       "                            OLS Regression Results                            \n",
       "==============================================================================\n",
       "Dep. Variable:                      y   R-squared:                       0.281\n",
       "Model:                            OLS   Adj. R-squared:                  0.281\n",
       "Method:                 Least Squares   F-statistic:                     13.49\n",
       "Date:                Mon, 28 Aug 2023   Prob (F-statistic):           1.39e-06\n",
       "Time:                        10:37:32   Log-Likelihood:             2.5086e+06\n",
       "No. Observations:             8387755   AIC:                        -5.017e+06\n",
       "Df Residuals:                 8387728   BIC:                        -5.017e+06\n",
       "Df Model:                          26                                         \n",
       "Covariance Type:                  HC1                                         \n",
       "==============================================================================\n",
       "                 coef    std err          z      P>|z|      [0.025      0.975]\n",
       "------------------------------------------------------------------------------\n",
       "Intercept   7.675e+05   5.37e+05      1.428      0.153   -2.86e+05    1.82e+06\n",
       "D              0.0078      0.000     45.726      0.000       0.007       0.008\n",
       "f0            -0.0005   4.69e-05     -9.987      0.000      -0.001      -0.000\n",
       "f1            -0.0177      0.004     -4.064      0.000      -0.026      -0.009\n",
       "f2            -0.0858      0.001    -91.337      0.000      -0.088      -0.084\n",
       "f3             0.0038      0.000     16.105      0.000       0.003       0.004\n",
       "f4             0.0345      0.002     14.993      0.000       0.030       0.039\n",
       "f5             0.0014      0.002      0.921      0.357      -0.002       0.004\n",
       "f6            -0.0008      5e-05    -16.110      0.000      -0.001      -0.001\n",
       "f7             0.0011      0.000      2.929      0.003       0.000       0.002\n",
       "f8            -0.9912      0.009   -110.557      0.000      -1.009      -0.974\n",
       "f9             0.0064   7.59e-05     83.767      0.000       0.006       0.007\n",
       "f10           -0.0143      0.003     -4.593      0.000      -0.020      -0.008\n",
       "f11           -0.2023      0.028     -7.179      0.000      -0.258      -0.147\n",
       "D:f0       -6.347e-05   5.14e-05     -1.235      0.217      -0.000    3.72e-05\n",
       "D:f1           0.0115      0.005      2.416      0.016       0.002       0.021\n",
       "D:f2          -0.0061      0.001     -5.953      0.000      -0.008      -0.004\n",
       "D:f3          -0.0070      0.000    -26.924      0.000      -0.008      -0.007\n",
       "D:f4          -0.0077      0.002     -3.106      0.002      -0.013      -0.003\n",
       "D:f5          -0.0099      0.002     -5.901      0.000      -0.013      -0.007\n",
       "D:f6          -0.0010   5.53e-05    -17.534      0.000      -0.001      -0.001\n",
       "D:f7          -0.0006      0.000     -1.336      0.182      -0.001       0.000\n",
       "D:f8          -0.1233      0.010    -12.546      0.000      -0.143      -0.104\n",
       "D:f9           0.0008    8.3e-05      9.320      0.000       0.001       0.001\n",
       "D:f10          0.0090      0.003      2.649      0.008       0.002       0.016\n",
       "D:f11          0.0668      0.031      2.187      0.029       0.007       0.127\n",
       "const      -7.675e+05   5.37e+05     -1.428      0.153   -1.82e+06    2.86e+05\n",
       "==============================================================================\n",
       "Omnibus:                  4885539.026   Durbin-Watson:                   2.000\n",
       "Prob(Omnibus):                  0.000   Jarque-Bera (JB):         58419350.067\n",
       "Skew:                           2.612   Prob(JB):                         0.00\n",
       "Kurtosis:                      14.827   Cond. No.                     1.91e+13\n",
       "==============================================================================\n",
       "\n",
       "Notes:\n",
       "[1] Standard Errors are heteroscedasticity robust (HC1)\n",
       "[2] The smallest eigenvalue is 2.24e-18. This might indicate that there are\n",
       "strong multicollinearity problems or that the design matrix is singular.\n",
       "\"\"\""
      ]
     },
     "metadata": {},
     "output_type": "display_data"
    }
   ],
   "source": [
    "from formulaic import Formula\n",
    "dfX = X.copy()\n",
    "dfX = dfX - dfX.mean(axis=0)\n",
    "dfX['D'] = D\n",
    "dfX = Formula('D * (' + '+'.join(X.columns) + ')').get_model_matrix(dfX)\n",
    "dfX['const'] = 1\n",
    "if groups is None:\n",
    "    display(OLS(y, dfX).fit(cov_type='HC1').summary())\n",
    "else:\n",
    "    display(OLS(y, dfX).fit(cov_type='cluster', cov_kwds={'groups': groups}).summary())"
   ]
  },
  {
   "cell_type": "markdown",
   "metadata": {},
   "source": [
    "Using the residual on residual regression, which should be giving us a correct estimate of the ATE in an RCT, and in observational settings a correct estimate of the ATE under a partially linear model (otherwise only a weighted average of the CATEs; weighted by the conditional variance of the treatment). In particular, we consider the residual outcome and the residual treatment, \n",
    "\\begin{align}\n",
    "\\tilde{Y} :=~& Y - E[Y\\mid X] \\tag{yres}\\\\\n",
    "\\tilde{D} :=~& D - E[D\\mid X] \\tag{Dres}\n",
    "\\end{align}\n",
    "and estimate the parameter in the BLP decomposition:\n",
    "\\begin{align}\n",
    "\\tilde{Y} =~& \\theta \\tilde{D} + \\epsilon, & E[\\epsilon \\tilde{D}]=~& 0\n",
    "\\end{align}\n",
    "equivalently, the parameter in the OLS $\\tilde{Y}\\sim \\tilde{D}$. If we denote with $\\theta(X):=E[Y(1)-Y(0)\\mid X]$, then the method estimates the minimizer of the loss:\n",
    "\\begin{align}\n",
    "\\min_{\\tau} E\\left[\\left(\\theta(X) - \\tau\\right)^2 \\, \\text{Var}(D\\mid X)\\right]\n",
    "\\end{align}\n",
    "For RCTs, we have $\\text{Var}(D\\mid X)=p$ (a constant) and hence $\\tau$ corresponds to the ATE $E[\\theta(X)]$."
   ]
  },
  {
   "cell_type": "code",
   "execution_count": 29,
   "metadata": {},
   "outputs": [
    {
     "data": {
      "text/html": [
       "<table class=\"simpletable\">\n",
       "<caption>OLS Regression Results</caption>\n",
       "<tr>\n",
       "  <th>Dep. Variable:</th>            <td>y</td>        <th>  R-squared (uncentered):</th>       <td>   0.000</td> \n",
       "</tr>\n",
       "<tr>\n",
       "  <th>Model:</th>                   <td>OLS</td>       <th>  Adj. R-squared (uncentered):</th>  <td>   0.000</td> \n",
       "</tr>\n",
       "<tr>\n",
       "  <th>Method:</th>             <td>Least Squares</td>  <th>  F-statistic:       </th>           <td>   2530.</td> \n",
       "</tr>\n",
       "<tr>\n",
       "  <th>Date:</th>             <td>Mon, 28 Aug 2023</td> <th>  Prob (F-statistic):</th>            <td>  0.00</td>  \n",
       "</tr>\n",
       "<tr>\n",
       "  <th>Time:</th>                 <td>10:37:34</td>     <th>  Log-Likelihood:    </th>          <td>1.9826e+06</td>\n",
       "</tr>\n",
       "<tr>\n",
       "  <th>No. Observations:</th>      <td>8387755</td>     <th>  AIC:               </th>          <td>-3.965e+06</td>\n",
       "</tr>\n",
       "<tr>\n",
       "  <th>Df Residuals:</th>          <td>8387754</td>     <th>  BIC:               </th>          <td>-3.965e+06</td>\n",
       "</tr>\n",
       "<tr>\n",
       "  <th>Df Model:</th>              <td>     1</td>      <th>                     </th>               <td> </td>    \n",
       "</tr>\n",
       "<tr>\n",
       "  <th>Covariance Type:</th>         <td>HC1</td>       <th>                     </th>               <td> </td>    \n",
       "</tr>\n",
       "</table>\n",
       "<table class=\"simpletable\">\n",
       "<tr>\n",
       "   <td></td>     <th>coef</th>     <th>std err</th>      <th>z</th>      <th>P>|z|</th>  <th>[0.025</th>    <th>0.975]</th>  \n",
       "</tr>\n",
       "<tr>\n",
       "  <th>x1</th> <td>    0.0086</td> <td>    0.000</td> <td>   50.298</td> <td> 0.000</td> <td>    0.008</td> <td>    0.009</td>\n",
       "</tr>\n",
       "</table>\n",
       "<table class=\"simpletable\">\n",
       "<tr>\n",
       "  <th>Omnibus:</th>       <td>6863334.446</td> <th>  Durbin-Watson:     </th>   <td>   1.999</td>   \n",
       "</tr>\n",
       "<tr>\n",
       "  <th>Prob(Omnibus):</th>   <td> 0.000</td>    <th>  Jarque-Bera (JB):  </th> <td>113065329.827</td>\n",
       "</tr>\n",
       "<tr>\n",
       "  <th>Skew:</th>            <td> 4.115</td>    <th>  Prob(JB):          </th>   <td>    0.00</td>   \n",
       "</tr>\n",
       "<tr>\n",
       "  <th>Kurtosis:</th>        <td>18.994</td>    <th>  Cond. No.          </th>   <td>    1.00</td>   \n",
       "</tr>\n",
       "</table><br/><br/>Notes:<br/>[1] R² is computed without centering (uncentered) since the model does not contain a constant.<br/>[2] Standard Errors are heteroscedasticity robust (HC1)"
      ],
      "text/plain": [
       "<class 'statsmodels.iolib.summary.Summary'>\n",
       "\"\"\"\n",
       "                                 OLS Regression Results                                \n",
       "=======================================================================================\n",
       "Dep. Variable:                      y   R-squared (uncentered):                   0.000\n",
       "Model:                            OLS   Adj. R-squared (uncentered):              0.000\n",
       "Method:                 Least Squares   F-statistic:                              2530.\n",
       "Date:                Mon, 28 Aug 2023   Prob (F-statistic):                        0.00\n",
       "Time:                        10:37:34   Log-Likelihood:                      1.9826e+06\n",
       "No. Observations:             8387755   AIC:                                 -3.965e+06\n",
       "Df Residuals:                 8387754   BIC:                                 -3.965e+06\n",
       "Df Model:                           1                                                  \n",
       "Covariance Type:                  HC1                                                  \n",
       "==============================================================================\n",
       "                 coef    std err          z      P>|z|      [0.025      0.975]\n",
       "------------------------------------------------------------------------------\n",
       "x1             0.0086      0.000     50.298      0.000       0.008       0.009\n",
       "==============================================================================\n",
       "Omnibus:                  6863334.446   Durbin-Watson:                   1.999\n",
       "Prob(Omnibus):                  0.000   Jarque-Bera (JB):        113065329.827\n",
       "Skew:                           4.115   Prob(JB):                         0.00\n",
       "Kurtosis:                      18.994   Cond. No.                         1.00\n",
       "==============================================================================\n",
       "\n",
       "Notes:\n",
       "[1] R² is computed without centering (uncentered) since the model does not contain a constant.\n",
       "[2] Standard Errors are heteroscedasticity robust (HC1)\n",
       "\"\"\""
      ]
     },
     "metadata": {},
     "output_type": "display_data"
    }
   ],
   "source": [
    "yres = y - res_preds\n",
    "Dres = D - prop_preds\n",
    "\n",
    "if groups is None:\n",
    "    display(OLS(yres, Dres).fit(cov_type='HC1').summary())\n",
    "else:\n",
    "    display(OLS(yres, Dres).fit(cov_type='cluster', cov_kwds={'groups': groups}).summary())"
   ]
  },
  {
   "cell_type": "markdown",
   "metadata": {},
   "source": [
    "Using the doubly robust method. In particular, we construct the doubly robust variables\n",
    "\\begin{align}\n",
    "Y_i^{DR}(\\hat{g},\\hat{p}) := \\hat{g}_1(X_i) - \\hat{g}_0(X_i) + (Y_i - \\hat{g}_{D_i}(X_i))\\frac{D_i - \\hat{p}(X_i)}{\\hat{p}(X_i) (1-\\hat{p}(X_i))}\n",
    "\\end{align}\n",
    "and then we estimate:\n",
    "\\begin{align}\n",
    "ATE = E_n\\left[Y^{DR}(\\hat{g},\\hat{p})\\right]\n",
    "\\end{align}\n",
    "This should be more efficient in the worst-case and should be returning a consistent estimate of the ATE even beyond RCTs and will also correctly account for any imbalances or violations of the randomization assumption in an RCT."
   ]
  },
  {
   "cell_type": "code",
   "execution_count": 30,
   "metadata": {},
   "outputs": [
    {
     "data": {
      "text/html": [
       "<table class=\"simpletable\">\n",
       "<caption>OLS Regression Results</caption>\n",
       "<tr>\n",
       "  <th>Dep. Variable:</th>            <td>y</td>        <th>  R-squared:         </th>  <td>   0.000</td>  \n",
       "</tr>\n",
       "<tr>\n",
       "  <th>Model:</th>                   <td>OLS</td>       <th>  Adj. R-squared:    </th>  <td>   0.000</td>  \n",
       "</tr>\n",
       "<tr>\n",
       "  <th>Method:</th>             <td>Least Squares</td>  <th>  F-statistic:       </th>  <td>     nan</td>  \n",
       "</tr>\n",
       "<tr>\n",
       "  <th>Date:</th>             <td>Mon, 28 Aug 2023</td> <th>  Prob (F-statistic):</th>   <td>   nan</td>   \n",
       "</tr>\n",
       "<tr>\n",
       "  <th>Time:</th>                 <td>10:37:37</td>     <th>  Log-Likelihood:    </th> <td>-5.5505e+06</td>\n",
       "</tr>\n",
       "<tr>\n",
       "  <th>No. Observations:</th>      <td>8387755</td>     <th>  AIC:               </th>  <td>1.110e+07</td> \n",
       "</tr>\n",
       "<tr>\n",
       "  <th>Df Residuals:</th>          <td>8387754</td>     <th>  BIC:               </th>  <td>1.110e+07</td> \n",
       "</tr>\n",
       "<tr>\n",
       "  <th>Df Model:</th>              <td>     0</td>      <th>                     </th>      <td> </td>     \n",
       "</tr>\n",
       "<tr>\n",
       "  <th>Covariance Type:</th>         <td>HC1</td>       <th>                     </th>      <td> </td>     \n",
       "</tr>\n",
       "</table>\n",
       "<table class=\"simpletable\">\n",
       "<tr>\n",
       "    <td></td>       <th>coef</th>     <th>std err</th>      <th>z</th>      <th>P>|z|</th>  <th>[0.025</th>    <th>0.975]</th>  \n",
       "</tr>\n",
       "<tr>\n",
       "  <th>const</th> <td>    0.0077</td> <td>    0.000</td> <td>   47.732</td> <td> 0.000</td> <td>    0.007</td> <td>    0.008</td>\n",
       "</tr>\n",
       "</table>\n",
       "<table class=\"simpletable\">\n",
       "<tr>\n",
       "  <th>Omnibus:</th>       <td>10189723.886</td> <th>  Durbin-Watson:     </th>    <td>   2.001</td>   \n",
       "</tr>\n",
       "<tr>\n",
       "  <th>Prob(Omnibus):</th>    <td> 0.000</td>    <th>  Jarque-Bera (JB):  </th> <td>3216178128.024</td>\n",
       "</tr>\n",
       "<tr>\n",
       "  <th>Skew:</th>             <td>-6.250</td>    <th>  Prob(JB):          </th>    <td>    0.00</td>   \n",
       "</tr>\n",
       "<tr>\n",
       "  <th>Kurtosis:</th>         <td>98.112</td>    <th>  Cond. No.          </th>    <td>    1.00</td>   \n",
       "</tr>\n",
       "</table><br/><br/>Notes:<br/>[1] Standard Errors are heteroscedasticity robust (HC1)"
      ],
      "text/plain": [
       "<class 'statsmodels.iolib.summary.Summary'>\n",
       "\"\"\"\n",
       "                            OLS Regression Results                            \n",
       "==============================================================================\n",
       "Dep. Variable:                      y   R-squared:                       0.000\n",
       "Model:                            OLS   Adj. R-squared:                  0.000\n",
       "Method:                 Least Squares   F-statistic:                       nan\n",
       "Date:                Mon, 28 Aug 2023   Prob (F-statistic):                nan\n",
       "Time:                        10:37:37   Log-Likelihood:            -5.5505e+06\n",
       "No. Observations:             8387755   AIC:                         1.110e+07\n",
       "Df Residuals:                 8387754   BIC:                         1.110e+07\n",
       "Df Model:                           0                                         \n",
       "Covariance Type:                  HC1                                         \n",
       "==============================================================================\n",
       "                 coef    std err          z      P>|z|      [0.025      0.975]\n",
       "------------------------------------------------------------------------------\n",
       "const          0.0077      0.000     47.732      0.000       0.007       0.008\n",
       "==============================================================================\n",
       "Omnibus:                 10189723.886   Durbin-Watson:                   2.001\n",
       "Prob(Omnibus):                  0.000   Jarque-Bera (JB):       3216178128.024\n",
       "Skew:                          -6.250   Prob(JB):                         0.00\n",
       "Kurtosis:                      98.112   Cond. No.                         1.00\n",
       "==============================================================================\n",
       "\n",
       "Notes:\n",
       "[1] Standard Errors are heteroscedasticity robust (HC1)\n",
       "\"\"\""
      ]
     },
     "metadata": {},
     "output_type": "display_data"
    }
   ],
   "source": [
    "dr_preds = reg_one_preds_t - reg_zero_preds_t\n",
    "dr_preds += (y - reg_preds_t) * (D - prop_preds) / np.clip(prop_preds * (1 - prop_preds), .09, np.inf)\n",
    "\n",
    "if groups is None:\n",
    "    display(OLS(dr_preds, np.ones((len(dr_preds), 1))).fit(cov_type='HC1').summary())\n",
    "else:\n",
    "    display(OLS(dr_preds, np.ones((len(dr_preds), 1))).fit(cov_type='cluster', cov_kwds={'groups': groups}).summary())"
   ]
  },
  {
   "cell_type": "markdown",
   "metadata": {},
   "source": [
    "# Best Linear CATE Predictor and Simultaneous (Joint) Confidence Intervals"
   ]
  },
  {
   "cell_type": "markdown",
   "metadata": {},
   "source": [
    "We can also use the doubly robust variables as pseudo-outcomes in an OLS regression, so as to estimate the best linear approximation of the true CATE. In an RCT, these should be similar to the coefficients recovered in a plain interactive OLS regression."
   ]
  },
  {
   "cell_type": "code",
   "execution_count": 31,
   "metadata": {},
   "outputs": [
    {
     "data": {
      "text/html": [
       "<table class=\"simpletable\">\n",
       "<caption>OLS Regression Results</caption>\n",
       "<tr>\n",
       "  <th>Dep. Variable:</th>            <td>y</td>        <th>  R-squared:         </th>  <td>   0.002</td>  \n",
       "</tr>\n",
       "<tr>\n",
       "  <th>Model:</th>                   <td>OLS</td>       <th>  Adj. R-squared:    </th>  <td>   0.002</td>  \n",
       "</tr>\n",
       "<tr>\n",
       "  <th>Method:</th>             <td>Least Squares</td>  <th>  F-statistic:       </th>  <td>   393.7</td>  \n",
       "</tr>\n",
       "<tr>\n",
       "  <th>Date:</th>             <td>Mon, 28 Aug 2023</td> <th>  Prob (F-statistic):</th>   <td>  0.00</td>   \n",
       "</tr>\n",
       "<tr>\n",
       "  <th>Time:</th>                 <td>10:37:45</td>     <th>  Log-Likelihood:    </th> <td>-5.5429e+06</td>\n",
       "</tr>\n",
       "<tr>\n",
       "  <th>No. Observations:</th>      <td>8387755</td>     <th>  AIC:               </th>  <td>1.109e+07</td> \n",
       "</tr>\n",
       "<tr>\n",
       "  <th>Df Residuals:</th>          <td>8387742</td>     <th>  BIC:               </th>  <td>1.109e+07</td> \n",
       "</tr>\n",
       "<tr>\n",
       "  <th>Df Model:</th>              <td>    12</td>      <th>                     </th>      <td> </td>     \n",
       "</tr>\n",
       "<tr>\n",
       "  <th>Covariance Type:</th>         <td>HC1</td>       <th>                     </th>      <td> </td>     \n",
       "</tr>\n",
       "</table>\n",
       "<table class=\"simpletable\">\n",
       "<tr>\n",
       "    <td></td>       <th>coef</th>     <th>std err</th>      <th>z</th>      <th>P>|z|</th>  <th>[0.025</th>    <th>0.975]</th>  \n",
       "</tr>\n",
       "<tr>\n",
       "  <th>f0</th>    <td>-3.086e-05</td> <td> 5.08e-05</td> <td>   -0.607</td> <td> 0.544</td> <td>   -0.000</td> <td> 6.87e-05</td>\n",
       "</tr>\n",
       "<tr>\n",
       "  <th>f1</th>    <td>    0.0120</td> <td>    0.004</td> <td>    2.859</td> <td> 0.004</td> <td>    0.004</td> <td>    0.020</td>\n",
       "</tr>\n",
       "<tr>\n",
       "  <th>f2</th>    <td>   -0.0035</td> <td>    0.001</td> <td>   -3.458</td> <td> 0.001</td> <td>   -0.005</td> <td>   -0.002</td>\n",
       "</tr>\n",
       "<tr>\n",
       "  <th>f3</th>    <td>   -0.0071</td> <td>    0.000</td> <td>  -28.248</td> <td> 0.000</td> <td>   -0.008</td> <td>   -0.007</td>\n",
       "</tr>\n",
       "<tr>\n",
       "  <th>f4</th>    <td>   -0.0087</td> <td>    0.002</td> <td>   -3.545</td> <td> 0.000</td> <td>   -0.014</td> <td>   -0.004</td>\n",
       "</tr>\n",
       "<tr>\n",
       "  <th>f5</th>    <td>   -0.0082</td> <td>    0.001</td> <td>   -5.515</td> <td> 0.000</td> <td>   -0.011</td> <td>   -0.005</td>\n",
       "</tr>\n",
       "<tr>\n",
       "  <th>f6</th>    <td>   -0.0010</td> <td> 5.46e-05</td> <td>  -17.787</td> <td> 0.000</td> <td>   -0.001</td> <td>   -0.001</td>\n",
       "</tr>\n",
       "<tr>\n",
       "  <th>f7</th>    <td>   -0.0003</td> <td>    0.000</td> <td>   -0.687</td> <td> 0.492</td> <td>   -0.001</td> <td>    0.000</td>\n",
       "</tr>\n",
       "<tr>\n",
       "  <th>f8</th>    <td>   -0.1105</td> <td>    0.010</td> <td>  -11.453</td> <td> 0.000</td> <td>   -0.129</td> <td>   -0.092</td>\n",
       "</tr>\n",
       "<tr>\n",
       "  <th>f9</th>    <td>    0.0008</td> <td> 7.93e-05</td> <td>    9.657</td> <td> 0.000</td> <td>    0.001</td> <td>    0.001</td>\n",
       "</tr>\n",
       "<tr>\n",
       "  <th>f10</th>   <td>    0.0088</td> <td>    0.003</td> <td>    2.651</td> <td> 0.008</td> <td>    0.002</td> <td>    0.015</td>\n",
       "</tr>\n",
       "<tr>\n",
       "  <th>f11</th>   <td>    0.0552</td> <td>    0.030</td> <td>    1.844</td> <td> 0.065</td> <td>   -0.003</td> <td>    0.114</td>\n",
       "</tr>\n",
       "<tr>\n",
       "  <th>const</th> <td>    0.0077</td> <td>    0.000</td> <td>   47.775</td> <td> 0.000</td> <td>    0.007</td> <td>    0.008</td>\n",
       "</tr>\n",
       "</table>\n",
       "<table class=\"simpletable\">\n",
       "<tr>\n",
       "  <th>Omnibus:</th>       <td>10354782.890</td> <th>  Durbin-Watson:     </th>    <td>   2.001</td>   \n",
       "</tr>\n",
       "<tr>\n",
       "  <th>Prob(Omnibus):</th>    <td> 0.000</td>    <th>  Jarque-Bera (JB):  </th> <td>3308779153.591</td>\n",
       "</tr>\n",
       "<tr>\n",
       "  <th>Skew:</th>             <td>-6.445</td>    <th>  Prob(JB):          </th>    <td>    0.00</td>   \n",
       "</tr>\n",
       "<tr>\n",
       "  <th>Kurtosis:</th>         <td>99.443</td>    <th>  Cond. No.          </th>    <td>    524.</td>   \n",
       "</tr>\n",
       "</table><br/><br/>Notes:<br/>[1] Standard Errors are heteroscedasticity robust (HC1)"
      ],
      "text/plain": [
       "<class 'statsmodels.iolib.summary.Summary'>\n",
       "\"\"\"\n",
       "                            OLS Regression Results                            \n",
       "==============================================================================\n",
       "Dep. Variable:                      y   R-squared:                       0.002\n",
       "Model:                            OLS   Adj. R-squared:                  0.002\n",
       "Method:                 Least Squares   F-statistic:                     393.7\n",
       "Date:                Mon, 28 Aug 2023   Prob (F-statistic):               0.00\n",
       "Time:                        10:37:45   Log-Likelihood:            -5.5429e+06\n",
       "No. Observations:             8387755   AIC:                         1.109e+07\n",
       "Df Residuals:                 8387742   BIC:                         1.109e+07\n",
       "Df Model:                          12                                         \n",
       "Covariance Type:                  HC1                                         \n",
       "==============================================================================\n",
       "                 coef    std err          z      P>|z|      [0.025      0.975]\n",
       "------------------------------------------------------------------------------\n",
       "f0         -3.086e-05   5.08e-05     -0.607      0.544      -0.000    6.87e-05\n",
       "f1             0.0120      0.004      2.859      0.004       0.004       0.020\n",
       "f2            -0.0035      0.001     -3.458      0.001      -0.005      -0.002\n",
       "f3            -0.0071      0.000    -28.248      0.000      -0.008      -0.007\n",
       "f4            -0.0087      0.002     -3.545      0.000      -0.014      -0.004\n",
       "f5            -0.0082      0.001     -5.515      0.000      -0.011      -0.005\n",
       "f6            -0.0010   5.46e-05    -17.787      0.000      -0.001      -0.001\n",
       "f7            -0.0003      0.000     -0.687      0.492      -0.001       0.000\n",
       "f8            -0.1105      0.010    -11.453      0.000      -0.129      -0.092\n",
       "f9             0.0008   7.93e-05      9.657      0.000       0.001       0.001\n",
       "f10            0.0088      0.003      2.651      0.008       0.002       0.015\n",
       "f11            0.0552      0.030      1.844      0.065      -0.003       0.114\n",
       "const          0.0077      0.000     47.775      0.000       0.007       0.008\n",
       "==============================================================================\n",
       "Omnibus:                 10354782.890   Durbin-Watson:                   2.001\n",
       "Prob(Omnibus):                  0.000   Jarque-Bera (JB):       3308779153.591\n",
       "Skew:                          -6.445   Prob(JB):                         0.00\n",
       "Kurtosis:                      99.443   Cond. No.                         524.\n",
       "==============================================================================\n",
       "\n",
       "Notes:\n",
       "[1] Standard Errors are heteroscedasticity robust (HC1)\n",
       "\"\"\""
      ]
     },
     "execution_count": 31,
     "metadata": {},
     "output_type": "execute_result"
    }
   ],
   "source": [
    "dr_preds = reg_one_preds_t - reg_zero_preds_t\n",
    "dr_preds += (y - reg_preds_t) * (D - prop_preds) / np.clip(prop_preds * (1 - prop_preds), .09, np.inf)\n",
    "\n",
    "dfX = X.copy()\n",
    "dfX = dfX - dfX.mean(axis=0)\n",
    "dfX['const'] = 1\n",
    "if groups is None:\n",
    "    lr = OLS(dr_preds, dfX).fit(cov_type='HC1')\n",
    "    cov = lr.get_robustcov_results(cov_type='HC1')\n",
    "else:\n",
    "    lr = OLS(dr_preds, dfX).fit(cov_type='cluster', cov_kwds={'groups': groups})\n",
    "    cov = lr.get_robustcov_results(cov_type='cluster', groups=groups)\n",
    "lr.summary()"
   ]
  },
  {
   "cell_type": "markdown",
   "metadata": {},
   "source": [
    "We can also perform joint inference on all these parameters controlling the joint probability of failure of the confidence intervals by 95%."
   ]
  },
  {
   "cell_type": "code",
   "execution_count": 32,
   "metadata": {},
   "outputs": [
    {
     "data": {
      "text/html": [
       "<div>\n",
       "<style scoped>\n",
       "    .dataframe tbody tr th:only-of-type {\n",
       "        vertical-align: middle;\n",
       "    }\n",
       "\n",
       "    .dataframe tbody tr th {\n",
       "        vertical-align: top;\n",
       "    }\n",
       "\n",
       "    .dataframe thead th {\n",
       "        text-align: right;\n",
       "    }\n",
       "</style>\n",
       "<table border=\"1\" class=\"dataframe\">\n",
       "  <thead>\n",
       "    <tr style=\"text-align: right;\">\n",
       "      <th></th>\n",
       "      <th>coef</th>\n",
       "      <th>std err</th>\n",
       "      <th>lb</th>\n",
       "      <th>ub</th>\n",
       "      <th>statsig</th>\n",
       "    </tr>\n",
       "  </thead>\n",
       "  <tbody>\n",
       "    <tr>\n",
       "      <th>f0</th>\n",
       "      <td>-0.000031</td>\n",
       "      <td>0.000051</td>\n",
       "      <td>-0.000171</td>\n",
       "      <td>0.000110</td>\n",
       "      <td></td>\n",
       "    </tr>\n",
       "    <tr>\n",
       "      <th>f1</th>\n",
       "      <td>0.012017</td>\n",
       "      <td>0.004203</td>\n",
       "      <td>0.000394</td>\n",
       "      <td>0.023640</td>\n",
       "      <td>**</td>\n",
       "    </tr>\n",
       "    <tr>\n",
       "      <th>f2</th>\n",
       "      <td>-0.003482</td>\n",
       "      <td>0.001007</td>\n",
       "      <td>-0.006268</td>\n",
       "      <td>-0.000697</td>\n",
       "      <td>**</td>\n",
       "    </tr>\n",
       "    <tr>\n",
       "      <th>f3</th>\n",
       "      <td>-0.007066</td>\n",
       "      <td>0.000250</td>\n",
       "      <td>-0.007758</td>\n",
       "      <td>-0.006374</td>\n",
       "      <td>**</td>\n",
       "    </tr>\n",
       "    <tr>\n",
       "      <th>f4</th>\n",
       "      <td>-0.008728</td>\n",
       "      <td>0.002462</td>\n",
       "      <td>-0.015538</td>\n",
       "      <td>-0.001919</td>\n",
       "      <td>**</td>\n",
       "    </tr>\n",
       "    <tr>\n",
       "      <th>f5</th>\n",
       "      <td>-0.008176</td>\n",
       "      <td>0.001483</td>\n",
       "      <td>-0.012276</td>\n",
       "      <td>-0.004076</td>\n",
       "      <td>**</td>\n",
       "    </tr>\n",
       "    <tr>\n",
       "      <th>f6</th>\n",
       "      <td>-0.000972</td>\n",
       "      <td>0.000055</td>\n",
       "      <td>-0.001123</td>\n",
       "      <td>-0.000821</td>\n",
       "      <td>**</td>\n",
       "    </tr>\n",
       "    <tr>\n",
       "      <th>f7</th>\n",
       "      <td>-0.000265</td>\n",
       "      <td>0.000385</td>\n",
       "      <td>-0.001331</td>\n",
       "      <td>0.000801</td>\n",
       "      <td></td>\n",
       "    </tr>\n",
       "    <tr>\n",
       "      <th>f8</th>\n",
       "      <td>-0.110454</td>\n",
       "      <td>0.009644</td>\n",
       "      <td>-0.137127</td>\n",
       "      <td>-0.083782</td>\n",
       "      <td>**</td>\n",
       "    </tr>\n",
       "    <tr>\n",
       "      <th>f9</th>\n",
       "      <td>0.000766</td>\n",
       "      <td>0.000079</td>\n",
       "      <td>0.000546</td>\n",
       "      <td>0.000985</td>\n",
       "      <td>**</td>\n",
       "    </tr>\n",
       "    <tr>\n",
       "      <th>f10</th>\n",
       "      <td>0.008802</td>\n",
       "      <td>0.003320</td>\n",
       "      <td>-0.000380</td>\n",
       "      <td>0.017984</td>\n",
       "      <td></td>\n",
       "    </tr>\n",
       "    <tr>\n",
       "      <th>f11</th>\n",
       "      <td>0.055248</td>\n",
       "      <td>0.029965</td>\n",
       "      <td>-0.027623</td>\n",
       "      <td>0.138118</td>\n",
       "      <td></td>\n",
       "    </tr>\n",
       "    <tr>\n",
       "      <th>const</th>\n",
       "      <td>0.007729</td>\n",
       "      <td>0.000162</td>\n",
       "      <td>0.007282</td>\n",
       "      <td>0.008177</td>\n",
       "      <td>**</td>\n",
       "    </tr>\n",
       "  </tbody>\n",
       "</table>\n",
       "</div>"
      ],
      "text/plain": [
       "           coef   std err        lb        ub statsig\n",
       "f0    -0.000031  0.000051 -0.000171  0.000110        \n",
       "f1     0.012017  0.004203  0.000394  0.023640      **\n",
       "f2    -0.003482  0.001007 -0.006268 -0.000697      **\n",
       "f3    -0.007066  0.000250 -0.007758 -0.006374      **\n",
       "f4    -0.008728  0.002462 -0.015538 -0.001919      **\n",
       "f5    -0.008176  0.001483 -0.012276 -0.004076      **\n",
       "f6    -0.000972  0.000055 -0.001123 -0.000821      **\n",
       "f7    -0.000265  0.000385 -0.001331  0.000801        \n",
       "f8    -0.110454  0.009644 -0.137127 -0.083782      **\n",
       "f9     0.000766  0.000079  0.000546  0.000985      **\n",
       "f10    0.008802  0.003320 -0.000380  0.017984        \n",
       "f11    0.055248  0.029965 -0.027623  0.138118        \n",
       "const  0.007729  0.000162  0.007282  0.008177      **"
      ]
     },
     "metadata": {},
     "output_type": "display_data"
    }
   ],
   "source": [
    "V = cov.cov_params()\n",
    "S = np.diag(np.diagonal(V)**(-1/2))\n",
    "epsilon = np.random.multivariate_normal(np.zeros(V.shape[0]), S @ V @ S, size=(1000))\n",
    "critical = np.percentile(np.max(np.abs(epsilon), axis=1), 95)\n",
    "stderr = np.diagonal(V)**(1/2)\n",
    "lb = cov.params - critical * stderr\n",
    "ub = cov.params + critical * stderr\n",
    "jointsummary = pd.DataFrame({'coef': cov.params,\n",
    "                             'std err': stderr,\n",
    "                             'lb': lb,\n",
    "                             'ub': ub,\n",
    "                             'statsig': ['' if ((l <= 0) & (0 <= u)) else '**' for (l, u) in zip(lb, ub)]},\n",
    "                            index=dfX.columns)\n",
    "display(jointsummary)"
   ]
  },
  {
   "cell_type": "markdown",
   "metadata": {},
   "source": [
    "We can also produce confidence intervals for the predictions of the CATE at particular points"
   ]
  },
  {
   "cell_type": "code",
   "execution_count": 33,
   "metadata": {},
   "outputs": [
    {
     "data": {
      "image/png": "[encoded data removed]",
      "text/plain": [
       "<Figure size 640x480 with 1 Axes>"
      ]
     },
     "metadata": {},
     "output_type": "display_data"
    }
   ],
   "source": [
    "grid = np.unique(np.percentile(dfX[xfeat], np.arange(0, 110, 20)))\n",
    "\n",
    "Zpd = pd.DataFrame(np.tile(np.median(dfX, axis=0, keepdims=True), (len(grid), 1)),\n",
    "                    columns=dfX.columns)\n",
    "Zpd[xfeat] = grid\n",
    "\n",
    "pred_df = lr.get_prediction(Zpd).summary_frame()\n",
    "preds, lb, ub = pred_df['mean'].values, pred_df['mean_ci_lower'].values, pred_df['mean_ci_upper'].values\n",
    "preds = preds.flatten()\n",
    "lb = lb.flatten()\n",
    "ub = ub.flatten()\n",
    "plt.errorbar(Zpd[xfeat], preds, yerr=(preds-lb, ub-preds))\n",
    "plt.xlabel(xfeat)\n",
    "plt.ylabel('Predicted CATE (at median value of other features)')\n",
    "plt.show()"
   ]
  },
  {
   "cell_type": "markdown",
   "metadata": {},
   "source": [
    "And even simultaneous inference on all these predictions that controls the joint failure probability of these confidence intervals to be at most 95%"
   ]
  },
  {
   "cell_type": "code",
   "execution_count": 34,
   "metadata": {},
   "outputs": [
    {
     "data": {
      "image/png": "[encoded data removed]",
      "text/plain": [
       "<Figure size 640x480 with 1 Axes>"
      ]
     },
     "metadata": {},
     "output_type": "display_data"
    }
   ],
   "source": [
    "predsV = Zpd.values @ V @ Zpd.values.T\n",
    "predsS = np.diag(np.diagonal(predsV)**(-1/2))\n",
    "epsilon = np.random.multivariate_normal(np.zeros(predsV.shape[0]), predsS @ predsV @ predsS, size=(1000))\n",
    "critical = np.percentile(np.max(np.abs(epsilon), axis=1), 95)\n",
    "stderr = np.diagonal(predsV)**(1/2)\n",
    "lb = preds - critical * stderr\n",
    "ub = preds + critical * stderr\n",
    "\n",
    "plt.errorbar(Zpd[xfeat], preds, yerr=(preds-lb, ub-preds))\n",
    "plt.xlabel(xfeat)\n",
    "plt.ylabel('Predicted CATE (at median value of other features)')\n",
    "plt.show()"
   ]
  },
  {
   "cell_type": "markdown",
   "metadata": {},
   "source": [
    "# CATE Model Estimation with Meta-Learners"
   ]
  },
  {
   "cell_type": "markdown",
   "metadata": {},
   "source": [
    "We specify which indices of the X variables we want to use for heterogeneity. Let's denote these subset of variables with $Z$"
   ]
  },
  {
   "cell_type": "code",
   "execution_count": 35,
   "metadata": {},
   "outputs": [],
   "source": [
    "if hetero_feats == 'all':\n",
    "    hetero_feats = X.columns\n",
    "Z, Zval, Ztest = X[hetero_feats], Xval[hetero_feats], Xtest[hetero_feats]"
   ]
  },
  {
   "cell_type": "markdown",
   "metadata": {},
   "source": [
    "We specify a generic automl approach for training the final CATE model"
   ]
  },
  {
   "cell_type": "code",
   "execution_count": 36,
   "metadata": {},
   "outputs": [],
   "source": [
    "model_final_fn = lambda Z, y: auto_reg(Z, y, groups=groups,\n",
    "                                       n_splits=n_splits, split_type=split_type, \n",
    "                                       verbose=verbose, time_budget=time_budget)"
   ]
  },
  {
   "cell_type": "markdown",
   "metadata": {},
   "source": [
    "### Single Learner (S-Learner)\n",
    "\n",
    "The S-Learner simply trains a model to predict:\n",
    "\\begin{align}\n",
    "\\hat{g}(1, X_i) - \\hat{g}(0, X_i) \\sim Z_i\n",
    "\\end{align}"
   ]
  },
  {
   "cell_type": "code",
   "execution_count": 37,
   "metadata": {
    "scrolled": true
   },
   "outputs": [],
   "source": [
    "# slearner\n",
    "slearner_best = model_final_fn(Z, reg_one_preds - reg_zero_preds)\n",
    "slearner = slearner_best().fit(Z, reg_one_preds - reg_zero_preds)\n",
    "slearner_cates = slearner.predict(Z)"
   ]
  },
  {
   "cell_type": "markdown",
   "metadata": {},
   "source": [
    "### Two Learner (T-Learner)\n",
    "\n",
    "The T-Learner simply trains a model to predict:\n",
    "\\begin{align}\n",
    "\\hat{g}_1(X_i) - \\hat{g}_0(X_i) \\sim Z_i\n",
    "\\end{align}"
   ]
  },
  {
   "cell_type": "code",
   "execution_count": 38,
   "metadata": {
    "scrolled": true
   },
   "outputs": [],
   "source": [
    "# tlearner\n",
    "tlearner_best = model_final_fn(Z, reg_one_preds_t - reg_zero_preds_t)\n",
    "tlearner = tlearner_best().fit(Z, reg_one_preds_t - reg_zero_preds_t)\n",
    "tlearner_cates = tlearner.predict(Z)"
   ]
  },
  {
   "cell_type": "markdown",
   "metadata": {},
   "source": [
    "### Cross Learner (X-Learner)\n",
    "\n",
    "The X-Learner simply trains a two treatment effect models using all the variables $X$:\n",
    "\\begin{align}\n",
    "\\hat{\\tau}_1: Y_i - \\hat{g}_0(X_i) \\sim X_i \\\\\n",
    "\\hat{\\tau}_0: \\hat{g}_1(X_i) - Y_i \\sim X_i\n",
    "\\end{align}\n",
    "And then for each target sample $X_i$ we select a mixture based on the propensity. \n",
    "If $D=1$ is more probable, then we use more heavily $\\hat{\\tau}_0$, since that uses the model $\\hat{g}_1$ which was trained on more data similar to $X_i$ (as indicated by the propensity). Similarly, if $D=0$ is more probably we put more weight on $\\hat{\\tau}_1$. \n",
    "\\begin{align}\n",
    "\\hat{\\tau}(X_i) = \\hat{p}(X_i) \\hat{\\tau}_0(X_i) + (1 - \\hat{p}(X_i)) \\hat{\\tau}_1(X_i)\n",
    "\\tag{xtarget}\n",
    "\\end{align}\n",
    "Finally, to learn a CATE model that only depends on $Z$, we predict the CATEs $\\hat{\\tau}$ from $Z$:\n",
    "\\begin{align}\n",
    "\\hat{\\tau}(X_i) \\sim Z_i\n",
    "\\end{align}"
   ]
  },
  {
   "cell_type": "code",
   "execution_count": 39,
   "metadata": {},
   "outputs": [],
   "source": [
    "# xlearner\n",
    "tau1_preds = y[D==1] - reg_zero_preds_t[D==1]\n",
    "tau0_preds = reg_one_preds_t[D==0] - y[D==0]\n",
    "tau1 = model_final_fn(X[D==1], tau1_preds)().fit(X[D==1], tau1_preds)\n",
    "tau0 = model_final_fn(X[D==0], tau0_preds)().fit(X[D==0], tau0_preds)\n",
    "xtarget = prop_preds * tau0.predict(X) + (1 - prop_preds) * tau1.predict(X)\n",
    "xlearner = model_final_fn(Z, xtarget)().fit(Z, xtarget)\n",
    "xlearner_cates = xlearner.predict(Z)"
   ]
  },
  {
   "cell_type": "markdown",
   "metadata": {},
   "source": [
    "### Doubly Robust Learner (DR-Learner)\n",
    "\n",
    "The DR-Learner (in particular, the variant based on the T-Learner) adds a de-biasing correction to the T-Learner using the propensity. In particular, we construct the doubly robust variables\n",
    "\\begin{align}\n",
    "Y_i^{DR}(\\hat{g},\\hat{p}) := \\hat{g}_1(X_i) - \\hat{g}_0(X_i) + (Y_i - \\hat{g}_{D_i}(X_i))\\frac{D_i - \\hat{p}(X_i)}{\\hat{p}(X_i) (1-\\hat{p}(X_i))}\n",
    "\\end{align}\n",
    "and then we train a CATE model by predicting these variables from $Z_i$:\n",
    "\\begin{align}\n",
    "Y_i^{DR}(\\hat{g},\\hat{p}) \\sim Z_i\n",
    "\\end{align}\n",
    "For stability we clip the co-variance that appears in the denominator at some value $c$ bounded away from zero, i.e.\n",
    "\\begin{align}\n",
    "Y_i^{DR}(\\hat{g},\\hat{p}) := \\hat{g}_1(X_i) - \\hat{g}_0(X_i) + (Y_i - \\hat{g}_{D_i}(X_i))\\frac{D_i - \\hat{p}(X_i)}{\\min\\{c, \\hat{p}(X_i) (1-\\hat{p}(X_i))\\}} \n",
    "\\tag{dr_preds}\n",
    "\\end{align}"
   ]
  },
  {
   "cell_type": "code",
   "execution_count": 40,
   "metadata": {
    "scrolled": true
   },
   "outputs": [],
   "source": [
    "# drlearner\n",
    "dr_preds = reg_one_preds_t - reg_zero_preds_t\n",
    "dr_preds += (y - reg_preds_t) * (D - prop_preds) / np.clip(prop_preds * (1 - prop_preds), .09, np.inf)\n",
    "drlearner_best = model_final_fn(Z, dr_preds)\n",
    "drlearner = drlearner_best().fit(Z, dr_preds)\n",
    "drlearner_cates = drlearner.predict(Z)"
   ]
  },
  {
   "cell_type": "markdown",
   "metadata": {},
   "source": [
    "### Residual Learner (R-Learner)\n",
    "\n",
    "The R-Learner uses the fact that if the true CATE model \n",
    "$$\\theta(X)=E[Y(1)-Y(0)\\mid X]$$\n",
    "only depends on the subset of variables $Z$, then we can write:\n",
    "\\begin{align}\n",
    "Y =~& \\tau(Z) D + b(X) + \\epsilon, & E[\\epsilon\\mid D, X]=~& 0\n",
    "\\end{align}\n",
    "This then implies that we can also write:\n",
    "\\begin{align}\n",
    "Y - E[Y\\mid X] =~& \\tau(Z) (D - E[D|X]) + \\epsilon, & E[\\epsilon\\mid D, X]=~& 0\n",
    "\\end{align}\n",
    "Hence, if we define the residual outcome and the residual treatment, \n",
    "\\begin{align}\n",
    "\\tilde{Y} :=~& Y - E[Y\\mid X] \\tag{yres}\\\\\n",
    "\\tilde{D} :=~& D - E[D\\mid X] \\tag{Dres}\n",
    "\\end{align}\n",
    "then we have:\n",
    "\\begin{align}\n",
    "\\tilde{Y} =~& \\tau(Z) \\tilde{D} + \\epsilon, & E[\\epsilon\\mid D, X]=~& 0\n",
    "\\end{align}\n",
    "Thus we can estimate the CATE by predicting $\\tilde{Y}$ from $\\tilde{D}, Z$ with a separable model of the form $\\tau(Z) \\tilde{D}$. This also implies that $\\tau$ is the minimizer of the square loss:\n",
    "\\begin{align}\n",
    "E\\left[ \\left(\\tilde{Y} - \\tau(Z) \\tilde{D}\\right)^2 \\right]\n",
    "\\end{align}\n",
    "This loss can also be re-written as a sample-weighted regression loss:\n",
    "\\begin{align}\n",
    "E\\left[ \\tilde{D}^2 \\left(\\tilde{Y}/\\tilde{D} - \\tau(Z) \\right)^2 \\right]\n",
    "\\end{align}\n",
    "We are predicting $\\tilde{Y}/\\tilde{D}$ form $Z$, using sample weights $\\tilde{D}^2$.\n",
    "\n",
    "If the true CATE $\\theta(X)$ did not only depend on $Z$, but on the bigger set of covariates $X$, then this method estimates the best projection of the CATE $\\theta(X)$ on the space of functions of $Z$, albeit, in a weighted manner, weighted by the variance of the treatment. More formally, the method estimates the minimizer of the following loss:\n",
    "\\begin{align}\n",
    "\\min_{\\tau} E\\left[\\left(\\theta(X) - \\tau(Z)\\right)^2 \\, \\text{Var}(D\\mid X)\\right]\n",
    "\\end{align}"
   ]
  },
  {
   "cell_type": "code",
   "execution_count": 41,
   "metadata": {
    "scrolled": true
   },
   "outputs": [],
   "source": [
    "# rlearner\n",
    "yres = y - res_preds\n",
    "Dres = D - prop_preds\n",
    "Dres = np.clip(Dres, .001, np.inf) * (Dres >= 0) + np.clip(Dres, -np.inf, -.001) * (Dres < 0)\n",
    "\n",
    "rlearner_fn = auto_weighted_reg(Z, yres / Dres, sample_weight=Dres**2, groups=groups,\n",
    "                                n_splits=n_splits, verbose=verbose, time_budget=time_budget)\n",
    "rlearner = rlearner_fn().fit(Z, yres / Dres, sample_weight=Dres**2)\n",
    "\n",
    "rlearner_cates = rlearner.predict(Z)"
   ]
  },
  {
   "cell_type": "markdown",
   "metadata": {},
   "source": [
    "## Constant Effect DR-Learner\n",
    "\n",
    "We also add a heavily regularized CATE model that predicts the ATE using the doubly robust pseudo outcomes."
   ]
  },
  {
   "cell_type": "code",
   "execution_count": 42,
   "metadata": {},
   "outputs": [],
   "source": [
    "drlearner_const = make_pipeline(PolynomialFeatures(degree=0, include_bias=True), \n",
    "                                LinearRegression(fit_intercept=False)).fit(Z, dr_preds)\n",
    "drlearner_const_cates = drlearner_const.predict(Z)"
   ]
  },
  {
   "cell_type": "markdown",
   "metadata": {},
   "source": [
    "# Causal Score Estimation and Definition"
   ]
  },
  {
   "cell_type": "markdown",
   "metadata": {},
   "source": [
    "We want to be able to select among all these different meta learners. For this reason we will use scoring functions that can evaluate the performance of an arbitrary CATE function and is not tailored to any particular methodology. This way we can evaluate all methods using the same score on the validation set and select the best among the methods, or ensemble the methods using this scoring metric. We will describe two such meta scores, the `R-score` and the `DR-score`."
   ]
  },
  {
   "cell_type": "markdown",
   "metadata": {},
   "source": [
    "## The Residual Score (R-Score)\n",
    "\n",
    "The R-score uses the residual loss that we used in the final stage of the R-Learner, to evaluate any CATE model. If we are given any cate model $\\hat{\\tau}$, then we can evaluate its \"loss\" on a validation set as:\n",
    "\\begin{align}\n",
    "L(\\hat{\\tau}) := E_n\\left[\\left(\\tilde{Y} - \\hat{\\tau}(Z) \\tilde{D}\\right)^2\\right] \\tag{Residual Loss}\n",
    "\\end{align}\n",
    "The residuals $\\tilde{Y}=Y-E[Y|X]$ and $\\tilde{D}=D-E[D|X]$ are constructed in the a cross-fitting manner on the validation set (or if the validation set is small, we can use the training set to estimate the nuisance models). Moreover, the R-score normalizes this loss, as compared to the score of the best constant effect model $\\tau^*=E_n\\left[\\tilde{Y}\\tilde{D}\\right]/E_n\\left[\\tilde{D}^2\\right]$ and returns an analogue of the R^2:\n",
    "\\begin{align}\n",
    "\\text{Rscore}(\\hat{\\tau}) := 1 - \\frac{L(\\hat{\\tau})}{L(\\tau^*)}\n",
    "\\end{align}"
   ]
  },
  {
   "cell_type": "code",
   "execution_count": 43,
   "metadata": {},
   "outputs": [],
   "source": [
    "# if groups is None:\n",
    "#     cv = StratifiedKFold(n_splits=n_splits, shuffle=True, random_state=123)\n",
    "#     splits_val = list(cv.split(Xval, Dval))\n",
    "# else:\n",
    "#     cv = StratifiedGroupKFold(n_splits=n_splits, shuffle=True, random_state=123)\n",
    "#     splits_val = list(cv.split(Xval, Dval, groups=groupsval))\n",
    "# yres_val = yval - cross_val_predict(model_y(), Xval, yval, cv=splits_val)\n",
    "# Dres_val = Dval - cross_val_predict(model_t(), Xval, Dval, cv=splits_val)\n",
    "\n",
    "yres_val = yval - model_y().fit(X, y).predict(Xval)\n",
    "Dres_val = Dval - model_t().fit(X, D).predict(Xval)\n",
    "\n",
    "overall_ate_val_r = np.mean(yres_val * Dres_val) / np.mean(Dres_val**2)\n",
    "\n",
    "def rscore(cate_preds): \n",
    "    rscore_t = np.mean((yres_val - cate_preds * Dres_val)**2)\n",
    "    rscore_b = np.mean((yres_val - overall_ate_val_r * Dres_val)**2)\n",
    "    return 1 - rscore_t / rscore_b"
   ]
  },
  {
   "cell_type": "markdown",
   "metadata": {},
   "source": [
    "## The Doubly Robust Score (DR-Score)\n",
    "\n",
    "The doubly robust score calculates in a cross-fitting manner, using only the validation set, the doubly robust proxy variables $Y_i^{DR}(g,p)$, where $g,p$ are fitted in the validation set in the cross-fitting manner (or if the validation set is small, we can use the training set to estimate the nuisance models). Then for any candidate CATE model $\\hat{\\tau}$, the DR-score is simply the R^2 in the regression predicting $Y_i^{DR}(g,p)$ using $Z$, i.e.\n",
    "\\begin{align}\n",
    "\\text{DRscore}(\\hat{\\tau}) := 1 - \\frac{E_n\\left[\\left(Y^{DR}(g,p) - \\hat{\\tau}(Z)\\right)^2\\right]}{\\text{Var}\\left(Y^{DR}(g,p)\\right)}\n",
    "\\end{align}\n",
    "This can also be interpreted as normalizing by the best constant CATE model, since in this case the best constant CATE model is simply $\\tau^*=E_n[Y^{DR}(g,p)]$ and therefore:\n",
    "\\begin{align}\n",
    "\\text{DRscore}(\\hat{\\tau}) = 1 - \\frac{E_n\\left[\\left(Y^{DR}(g,p) - \\hat{\\tau}(Z)\\right)^2\\right]}{E_n\\left[\\left(Y^{DR}(g,p) - \\tau^*\\right)^2\\right]}\n",
    "\\end{align}"
   ]
  },
  {
   "cell_type": "code",
   "execution_count": 44,
   "metadata": {},
   "outputs": [],
   "source": [
    "# def calculate_dr_outcomes(Xtrain, Dtrain, ytrain, groupstrain, X, D, y, groups):\n",
    "#     if groups is None:\n",
    "#         cv = StratifiedKFold(n_splits=n_splits, shuffle=True, random_state=123)\n",
    "#         splits = list(cv.split(X, D))\n",
    "#     else:\n",
    "#         cv = StratifiedGroupKFold(n_splits=n_splits, shuffle=True, random_state=123)\n",
    "#         splits = list(cv.split(X, D, groups=groups))\n",
    "\n",
    "#     n = X.shape[0]\n",
    "#     reg_preds_t = np.zeros(n)\n",
    "#     reg_zero_preds_t = np.zeros(n)\n",
    "#     reg_one_preds_t = np.zeros(n)\n",
    "\n",
    "#     for train, test in splits:\n",
    "#         reg_zero = model_reg_zero().fit(X.iloc[train][D[train]==0], y[train][D[train]==0])\n",
    "#         reg_one = model_reg_one().fit(X.iloc[train][D[train]==1], y[train][D[train]==1])\n",
    "#         reg_zero_preds_t[test] = reg_zero.predict(X.iloc[test])\n",
    "#         reg_one_preds_t[test] = reg_one.predict(X.iloc[test])\n",
    "#         reg_preds_t[test] = reg_zero_preds_t[test] * (1 - D[test]) + reg_one_preds_t[test] * D[test]\n",
    "\n",
    "#     prop_preds = cross_val_predict(model_t(), X, D, cv=splits)\n",
    "\n",
    "#     dr = reg_one_preds_t - reg_zero_preds_t\n",
    "#     reisz = (D - prop_preds) / np.clip(prop_preds * (1 - prop_preds), .09, np.inf)\n",
    "#     dr += (y - reg_preds_t) * reisz\n",
    "\n",
    "#     return dr\n",
    "\n",
    "def calculate_dr_outcomes(Xtrain, Dtrain, ytrain, groupstrain, Xval, Dval, yval, groupsval):\n",
    "\n",
    "    reg_zero = model_reg_zero().fit(Xtrain[Dtrain==0], ytrain[Dtrain==0])\n",
    "    reg_one = model_reg_one().fit(Xtrain[Dtrain==1], ytrain[Dtrain==1])\n",
    "    reg_zero_preds_t = reg_zero.predict(Xval)\n",
    "    reg_one_preds_t = reg_one.predict(Xval)\n",
    "    reg_preds_t = reg_zero_preds_t * (1 - Dval) + reg_one_preds_t * Dval\n",
    "    prop_preds = model_t().fit(Xtrain, Dtrain).predict(Xval)\n",
    "\n",
    "    dr = reg_one_preds_t - reg_zero_preds_t\n",
    "    reisz = (Dval - prop_preds) / np.clip(prop_preds * (1 - prop_preds), .09, np.inf)\n",
    "    dr += (yval - reg_preds_t) * reisz\n",
    "\n",
    "    return dr\n",
    "\n",
    "dr_val = calculate_dr_outcomes(X, D, y, groups, Xval, Dval, yval, groupsval)\n",
    "\n",
    "overall_ate_val_dr = np.mean(dr_val)\n",
    "\n",
    "def drscore(cate_preds):\n",
    "    drscore_t = np.mean((dr_val - cate_preds)**2)\n",
    "    drscore_b = np.mean((dr_val - overall_ate_val_dr)**2)\n",
    "    return 1 - drscore_t / drscore_b\n",
    "\n",
    "def drscore_delta(cate_preds):\n",
    "    drscore_t = np.mean((dr_val - cate_preds)**2)\n",
    "    drscore_b = np.mean((dr_val - overall_ate_val_dr)**2)\n",
    "    stderr = np.std((dr_val - overall_ate_val_dr)**2 - (dr_val - cate_preds)**2) / np.sqrt(cate_preds.shape[0])\n",
    "    return drscore_b - drscore_t, stderr"
   ]
  },
  {
   "cell_type": "markdown",
   "metadata": {},
   "source": [
    "# Score CATE Models\n",
    "\n",
    "We first chose one of the scorers and we score all the CATE models."
   ]
  },
  {
   "cell_type": "code",
   "execution_count": 45,
   "metadata": {},
   "outputs": [],
   "source": [
    "scorer = drscore\n",
    "score_name = 'DRscore'\n",
    "names = ['slearner', 'tlearner', 'xlearner', 'drlearner', 'rlearner', 'drlearner_const']\n",
    "models = [slearner, tlearner, xlearner, drlearner, rlearner, drlearner_const]"
   ]
  },
  {
   "cell_type": "code",
   "execution_count": 51,
   "metadata": {},
   "outputs": [
    {
     "name": "stdout",
     "output_type": "stream",
     "text": [
      "['slearner: -0.0003', 'tlearner: -0.0036', 'xlearner: -0.0031', 'drlearner: 0.0010', 'rlearner: 0.0013', 'drlearner_const: -0.0000']\n"
     ]
    }
   ],
   "source": [
    "scores = [scorer(model.predict(Zval)) for model in models]\n",
    "print([f'{name}: {score:.4f}' for name, score in zip(names, scores)])"
   ]
  },
  {
   "cell_type": "code",
   "execution_count": 52,
   "metadata": {},
   "outputs": [
    {
     "name": "stdout",
     "output_type": "stream",
     "text": [
      "slearner: -0.0001 (0.0000) [-0.0001, -0.0000]\n",
      "tlearner: -0.0008 (0.0000) [-0.0008, -0.0007]\n",
      "xlearner: -0.0007 (0.0000) [-0.0007, -0.0006]\n",
      "drlearner: 0.0002 (0.0000) [0.0002, 0.0002]\n",
      "rlearner: 0.0003 (0.0000) [0.0003, 0.0003]\n",
      "drlearner_const: -0.0000 (0.0000) [-0.0000, 0.0000]\n"
     ]
    }
   ],
   "source": [
    "for name, model in zip(names, models):\n",
    "    score = drscore_delta(model.predict(Zval))\n",
    "    print(f'{name}: {score[0]:.4f} ({score[1]:.4f}) '\n",
    "          f'[{score[0] - 1.96 * score[1]:.4f}, {score[0] + 1.96 * score[1]:.4f}]')"
   ]
  },
  {
   "cell_type": "markdown",
   "metadata": {},
   "source": [
    "# Plotting CATE"
   ]
  },
  {
   "cell_type": "code",
   "execution_count": 53,
   "metadata": {},
   "outputs": [
    {
     "data": {
      "image/png": "[encoded data removed]",
      "text/plain": [
       "<Figure size 2000x700 with 6 Axes>"
      ]
     },
     "metadata": {},
     "output_type": "display_data"
    }
   ],
   "source": [
    "if plot:\n",
    "    grid = np.unique(np.percentile(X[xfeat], np.arange(0, 105, 5)))\n",
    "    Xpd = pd.DataFrame(np.tile(np.median(X, axis=0, keepdims=True), (len(grid), 1)),\n",
    "                        columns=X.columns)\n",
    "    Xpd[xfeat] = grid\n",
    "    plt.figure(figsize=(20, 7))\n",
    "    for it, (name, model, score) in enumerate(zip(names, models, scores)):\n",
    "        plt.subplot(1, len(models), it + 1)\n",
    "        preds = model.predict(Xpd[hetero_feats])\n",
    "        plt.scatter(Xpd[xfeat], preds, label=name, alpha=.4)\n",
    "        if semi_synth:\n",
    "            plt.scatter(Xpd[xfeat], true_cate(Xpd), label='True')\n",
    "            plt.title(f'{score_name}={score:.4f}, True RMSE={rmse(true_cate(X), model.predict(Z)):.5f}')\n",
    "        else:\n",
    "            plt.title(f'{score_name}={score:.4f}, ATE={np.mean(model.predict(Z)):.3f}')\n",
    "        plt.legend()\n",
    "        plt.xlabel(xfeat)\n",
    "        plt.ylabel('Predicted CATE (at median value of other features)')\n",
    "    plt.tight_layout()\n",
    "    plt.show()"
   ]
  },
  {
   "cell_type": "markdown",
   "metadata": {},
   "source": [
    "# Causal Model Selection and Ensembling"
   ]
  },
  {
   "cell_type": "markdown",
   "metadata": {},
   "source": [
    "We can also use these scores to create an ensemble CATE model of the different methods based on the score performance. We want to create a new CATE model $\\tau_E$ that is a weighted linear combination of all the cate models, i.e.\n",
    "\\begin{align}\n",
    "\\tau_E(Z) = \\bar{\\tau} + \\sum_{m=1}^M w_m \\tau_m(Z)\n",
    "\\end{align}\n",
    "The weights $w_m$ should be increasing with the score of each CATE model $\\tau_m$. Note that it can very well be that the score of the best ensemble is smaller than the score of the best single model, i.e. $\\text{Score}(\\tau_E) \\geq \\max_{m} \\text{Score}(\\tau_m)$. One way to achieve that in a smooth manner to avoid overfitting to the performance measure is to choose weights proportional to $\\exp(\\eta s_m)$, where $s_m$ is the score of CATE model $\\tau_m$. When $\\eta=0$ this will return uniform weights over all models and when $\\eta\\to \\infty$, this will return the model with the best score. The \"temperature\" hyper-parameter $\\eta$, can be chosen so that the ensemble achieves the smallest score."
   ]
  },
  {
   "cell_type": "code",
   "execution_count": 54,
   "metadata": {},
   "outputs": [],
   "source": [
    "from sklearn.base import BaseEstimator\n",
    "\n",
    "class Ensemble(BaseEstimator):\n",
    "    \n",
    "    def __init__(self, names, models, weights, intercept=0):\n",
    "        self.names = names\n",
    "        self.models = models\n",
    "        self.weights = weights\n",
    "        self.intercept = intercept\n",
    "    \n",
    "    def predict(self, X):\n",
    "        wcate = np.sum(self.weights.reshape((-1, 1)) * np.array([m.predict(X) for m in self.models]), axis=0)\n",
    "        return self.intercept + wcate"
   ]
  },
  {
   "cell_type": "code",
   "execution_count": 55,
   "metadata": {},
   "outputs": [
    {
     "data": {
      "text/html": [
       "<style>#sk-container-id-4 {color: black;background-color: white;}#sk-container-id-4 pre{padding: 0;}#sk-container-id-4 div.sk-toggleable {background-color: white;}#sk-container-id-4 label.sk-toggleable__label {cursor: pointer;display: block;width: 100%;margin-bottom: 0;padding: 0.3em;box-sizing: border-box;text-align: center;}#sk-container-id-4 label.sk-toggleable__label-arrow:before {content: \"▸\";float: left;margin-right: 0.25em;color: #696969;}#sk-container-id-4 label.sk-toggleable__label-arrow:hover:before {color: black;}#sk-container-id-4 div.sk-estimator:hover label.sk-toggleable__label-arrow:before {color: black;}#sk-container-id-4 div.sk-toggleable__content {max-height: 0;max-width: 0;overflow: hidden;text-align: left;background-color: #f0f8ff;}#sk-container-id-4 div.sk-toggleable__content pre {margin: 0.2em;color: black;border-radius: 0.25em;background-color: #f0f8ff;}#sk-container-id-4 input.sk-toggleable__control:checked~div.sk-toggleable__content {max-height: 200px;max-width: 100%;overflow: auto;}#sk-container-id-4 input.sk-toggleable__control:checked~label.sk-toggleable__label-arrow:before {content: \"▾\";}#sk-container-id-4 div.sk-estimator input.sk-toggleable__control:checked~label.sk-toggleable__label {background-color: #d4ebff;}#sk-container-id-4 div.sk-label input.sk-toggleable__control:checked~label.sk-toggleable__label {background-color: #d4ebff;}#sk-container-id-4 input.sk-hidden--visually {border: 0;clip: rect(1px 1px 1px 1px);clip: rect(1px, 1px, 1px, 1px);height: 1px;margin: -1px;overflow: hidden;padding: 0;position: absolute;width: 1px;}#sk-container-id-4 div.sk-estimator {font-family: monospace;background-color: #f0f8ff;border: 1px dotted black;border-radius: 0.25em;box-sizing: border-box;margin-bottom: 0.5em;}#sk-container-id-4 div.sk-estimator:hover {background-color: #d4ebff;}#sk-container-id-4 div.sk-parallel-item::after {content: \"\";width: 100%;border-bottom: 1px solid gray;flex-grow: 1;}#sk-container-id-4 div.sk-label:hover label.sk-toggleable__label {background-color: #d4ebff;}#sk-container-id-4 div.sk-serial::before {content: \"\";position: absolute;border-left: 1px solid gray;box-sizing: border-box;top: 0;bottom: 0;left: 50%;z-index: 0;}#sk-container-id-4 div.sk-serial {display: flex;flex-direction: column;align-items: center;background-color: white;padding-right: 0.2em;padding-left: 0.2em;position: relative;}#sk-container-id-4 div.sk-item {position: relative;z-index: 1;}#sk-container-id-4 div.sk-parallel {display: flex;align-items: stretch;justify-content: center;background-color: white;position: relative;}#sk-container-id-4 div.sk-item::before, #sk-container-id-4 div.sk-parallel-item::before {content: \"\";position: absolute;border-left: 1px solid gray;box-sizing: border-box;top: 0;bottom: 0;left: 50%;z-index: -1;}#sk-container-id-4 div.sk-parallel-item {display: flex;flex-direction: column;z-index: 1;position: relative;background-color: white;}#sk-container-id-4 div.sk-parallel-item:first-child::after {align-self: flex-end;width: 50%;}#sk-container-id-4 div.sk-parallel-item:last-child::after {align-self: flex-start;width: 50%;}#sk-container-id-4 div.sk-parallel-item:only-child::after {width: 0;}#sk-container-id-4 div.sk-dashed-wrapped {border: 1px dashed gray;margin: 0 0.4em 0.5em 0.4em;box-sizing: border-box;padding-bottom: 0.4em;background-color: white;}#sk-container-id-4 div.sk-label label {font-family: monospace;font-weight: bold;display: inline-block;line-height: 1.2em;}#sk-container-id-4 div.sk-label-container {text-align: center;}#sk-container-id-4 div.sk-container {/* jupyter's `normalize.less` sets `[hidden] { display: none; }` but bootstrap.min.css set `[hidden] { display: none !important; }` so we also need the `!important` here to be able to override the default hidden behavior on the sphinx rendered scikit-learn.org. See: https://github.com/scikit-learn/scikit-learn/issues/21755 */display: inline-block !important;position: relative;}#sk-container-id-4 div.sk-text-repr-fallback {display: none;}</style><div id=\"sk-container-id-4\" class=\"sk-top-container\"><div class=\"sk-text-repr-fallback\"><pre>Ensemble(models=[AutoMLWrap(model=&lt;flaml.automl.model.LGBMEstimator object at 0x00000216F6A70E20&gt;),\n",
       "                 AutoMLWrap(model=&lt;flaml.automl.model.LGBMEstimator object at 0x00000216F6CA4430&gt;),\n",
       "                 AutoMLWrap(model=&lt;flaml.automl.model.LGBMEstimator object at 0x00000216F6CA4EE0&gt;),\n",
       "                 AutoMLWrap(model=&lt;flaml.automl.model.LGBMEstimator object at 0x00000216F6C63820&gt;),\n",
       "                 AutoMLWrap(model=...ct at 0x00000216F6A9A320&gt;),\n",
       "                 Pipeline(steps=[(&#x27;polynomialfeatures&#x27;,\n",
       "                                  PolynomialFeatures(degree=0)),\n",
       "                                 (&#x27;linearregression&#x27;,\n",
       "                                  LinearRegression(fit_intercept=False))])],\n",
       "         names=[&#x27;slearner&#x27;, &#x27;tlearner&#x27;, &#x27;xlearner&#x27;, &#x27;drlearner&#x27;, &#x27;rlearner&#x27;,\n",
       "                &#x27;drlearner_const&#x27;],\n",
       "         weights=array([1.17470370e-067, 4.61676858e-212, 1.63579729e-192, 7.23825897e-012,\n",
       "       1.00000000e+000, 2.84745568e-056]))</pre><b>In a Jupyter environment, please rerun this cell to show the HTML representation or trust the notebook. <br />On GitHub, the HTML representation is unable to render, please try loading this page with nbviewer.org.</b></div><div class=\"sk-container\" hidden><div class=\"sk-item\"><div class=\"sk-estimator sk-toggleable\"><input class=\"sk-toggleable__control sk-hidden--visually\" id=\"sk-estimator-id-10\" type=\"checkbox\" checked><label for=\"sk-estimator-id-10\" class=\"sk-toggleable__label sk-toggleable__label-arrow\">Ensemble</label><div class=\"sk-toggleable__content\"><pre>Ensemble(models=[AutoMLWrap(model=&lt;flaml.automl.model.LGBMEstimator object at 0x00000216F6A70E20&gt;),\n",
       "                 AutoMLWrap(model=&lt;flaml.automl.model.LGBMEstimator object at 0x00000216F6CA4430&gt;),\n",
       "                 AutoMLWrap(model=&lt;flaml.automl.model.LGBMEstimator object at 0x00000216F6CA4EE0&gt;),\n",
       "                 AutoMLWrap(model=&lt;flaml.automl.model.LGBMEstimator object at 0x00000216F6C63820&gt;),\n",
       "                 AutoMLWrap(model=...ct at 0x00000216F6A9A320&gt;),\n",
       "                 Pipeline(steps=[(&#x27;polynomialfeatures&#x27;,\n",
       "                                  PolynomialFeatures(degree=0)),\n",
       "                                 (&#x27;linearregression&#x27;,\n",
       "                                  LinearRegression(fit_intercept=False))])],\n",
       "         names=[&#x27;slearner&#x27;, &#x27;tlearner&#x27;, &#x27;xlearner&#x27;, &#x27;drlearner&#x27;, &#x27;rlearner&#x27;,\n",
       "                &#x27;drlearner_const&#x27;],\n",
       "         weights=array([1.17470370e-067, 4.61676858e-212, 1.63579729e-192, 7.23825897e-012,\n",
       "       1.00000000e+000, 2.84745568e-056]))</pre></div></div></div></div></div>"
      ],
      "text/plain": [
       "Ensemble(models=[AutoMLWrap(model=<flaml.automl.model.LGBMEstimator object at 0x00000216F6A70E20>),\n",
       "                 AutoMLWrap(model=<flaml.automl.model.LGBMEstimator object at 0x00000216F6CA4430>),\n",
       "                 AutoMLWrap(model=<flaml.automl.model.LGBMEstimator object at 0x00000216F6CA4EE0>),\n",
       "                 AutoMLWrap(model=<flaml.automl.model.LGBMEstimator object at 0x00000216F6C63820>),\n",
       "                 AutoMLWrap(model=...ct at 0x00000216F6A9A320>),\n",
       "                 Pipeline(steps=[('polynomialfeatures',\n",
       "                                  PolynomialFeatures(degree=0)),\n",
       "                                 ('linearregression',\n",
       "                                  LinearRegression(fit_intercept=False))])],\n",
       "         names=['slearner', 'tlearner', 'xlearner', 'drlearner', 'rlearner',\n",
       "                'drlearner_const'],\n",
       "         weights=array([1.17470370e-067, 4.61676858e-212, 1.63579729e-192, 7.23825897e-012,\n",
       "       1.00000000e+000, 2.84745568e-056]))"
      ]
     },
     "execution_count": 55,
     "metadata": {},
     "output_type": "execute_result"
    }
   ],
   "source": [
    "eta_grid = np.logspace(-5, 5, 10)\n",
    "ens = {}\n",
    "for eta in eta_grid:\n",
    "    weights = scipy.special.softmax(eta * np.array(scores))\n",
    "    ensemble = Ensemble(names, models, weights)\n",
    "    ens[eta] = (ensemble, scorer(ensemble.predict(Zval)))\n",
    "\n",
    "score_best = -np.inf\n",
    "for eta in eta_grid:\n",
    "    if ens[eta][1] >= score_best:\n",
    "        score_best = ens[eta][1]\n",
    "        eta_best = eta\n",
    "\n",
    "softmax_ensemble = ens[eta_best][0]\n",
    "softmax_ensemble"
   ]
  },
  {
   "cell_type": "code",
   "execution_count": 56,
   "metadata": {},
   "outputs": [
    {
     "data": {
      "image/png": "[encoded data removed]",
      "text/plain": [
       "<Figure size 1000x500 with 1 Axes>"
      ]
     },
     "metadata": {},
     "output_type": "display_data"
    }
   ],
   "source": [
    "if plot:\n",
    "    grid = np.unique(np.percentile(X[xfeat], np.arange(0, 105, 5)))\n",
    "    Xpd = pd.DataFrame(np.tile(np.median(X, axis=0, keepdims=True), (len(grid), 1)),\n",
    "                        columns=X.columns)\n",
    "    Xpd[xfeat] = grid\n",
    "    plt.figure(figsize=(10, 5))\n",
    "    plt.scatter(Xpd[xfeat], softmax_ensemble.predict(Xpd[hetero_feats]),\n",
    "                label=f'SoftMaxCATE(eta={eta_best:.3f})', alpha=.4)\n",
    "    if semi_synth:\n",
    "        plt.scatter(Xpd[xfeat], true_cate(Xpd), label='True')\n",
    "        plt.title(f'{score_name}={scorer(softmax_ensemble.predict(Zval)):.5f}, '\n",
    "                  f'True RMSE={rmse(true_cate(X), ens[eta_best][0].predict(Z)):.5f}')\n",
    "    else:\n",
    "        plt.title(f'{score_name}={scorer(softmax_ensemble.predict(Zval)):.5f}, '\n",
    "                  f'ATE={np.mean(ens[eta_best][0].predict(Z)):.5f}')\n",
    "    plt.xlabel(xfeat)\n",
    "    plt.ylabel('CATE predictions (at median value of other features)')\n",
    "    plt.legend()\n",
    "    plt.show()"
   ]
  },
  {
   "cell_type": "markdown",
   "metadata": {},
   "source": [
    "Alternatively we could have also performed Stacking by fitting a (potentially $\\ell_1$-penalized) linear model to minimize the corresponding loss. For the case of the DR score this boils down to a penalized linear regression, predicting $Y^{DR}(g,p)$ on the validation set, using $\\tau_1(Z),\\ldots, \\tau_M(Z)$ as technical regressors:\n",
    "\\begin{align}\n",
    "\\min_{w} E_n\\left[ \\left(Y^{DR}(g,p) - \\bar{\\tau} - \\sum_{m=1}^M w_m \\tilde{\\tau}_m(Z)\\right)^2 \\right] + \\lambda \\text{Penalty}(w)\n",
    "\\end{align}\n",
    "where $\\bar{\\tau}$ is the ATE estimate based on the doubly robust method on the training data and $\\tilde{\\tau}_m(Z)$ are the de-meaned CATE predictions from each model, i.e. $\\tilde{\\tau}_m(Z) = \\tau_m(Z) - E_n[\\tau_m(Z)]$ where the empirical expectation is over the training data.\n",
    "\n",
    "This way we are constructing an ensemble of the CATE on top of the best constant prediction on the training data and penalizing only the offset from this ATE. We avoid adding a coefficient around $\\bar{\\tau}$ to avoid introducing noise to the ATE estimate, due to the smaller sample in the validation set.\n",
    "\n",
    "For the case of the R-loss, this boils down to a penalized linear regression, predicting $\\tilde{Y}$ on the validation set, using $\\tau_1(Z)\\tilde{D}, \\ldots, \\tau_M(Z)\\tilde{D}$ as technical regressors:\n",
    "\\begin{align}\n",
    "\\min_{w} E_n\\left[ \\left(\\tilde{Y} - \\bar{\\tau} \\tilde{D} - \\sum_{m=1}^M w_m \\tilde{\\tau}_m(Z) \\tilde{D}\\right)^2 \\right] + \\lambda \\text{Penalty}(w)\n",
    "\\end{align}\n",
    "where the penalty can also be chosen within the validation set via cross-validation or based on theoretical specifications (e.g. for the Lasso)."
   ]
  },
  {
   "cell_type": "code",
   "execution_count": 57,
   "metadata": {},
   "outputs": [
    {
     "data": {
      "text/html": [
       "<style>#sk-container-id-5 {color: black;background-color: white;}#sk-container-id-5 pre{padding: 0;}#sk-container-id-5 div.sk-toggleable {background-color: white;}#sk-container-id-5 label.sk-toggleable__label {cursor: pointer;display: block;width: 100%;margin-bottom: 0;padding: 0.3em;box-sizing: border-box;text-align: center;}#sk-container-id-5 label.sk-toggleable__label-arrow:before {content: \"▸\";float: left;margin-right: 0.25em;color: #696969;}#sk-container-id-5 label.sk-toggleable__label-arrow:hover:before {color: black;}#sk-container-id-5 div.sk-estimator:hover label.sk-toggleable__label-arrow:before {color: black;}#sk-container-id-5 div.sk-toggleable__content {max-height: 0;max-width: 0;overflow: hidden;text-align: left;background-color: #f0f8ff;}#sk-container-id-5 div.sk-toggleable__content pre {margin: 0.2em;color: black;border-radius: 0.25em;background-color: #f0f8ff;}#sk-container-id-5 input.sk-toggleable__control:checked~div.sk-toggleable__content {max-height: 200px;max-width: 100%;overflow: auto;}#sk-container-id-5 input.sk-toggleable__control:checked~label.sk-toggleable__label-arrow:before {content: \"▾\";}#sk-container-id-5 div.sk-estimator input.sk-toggleable__control:checked~label.sk-toggleable__label {background-color: #d4ebff;}#sk-container-id-5 div.sk-label input.sk-toggleable__control:checked~label.sk-toggleable__label {background-color: #d4ebff;}#sk-container-id-5 input.sk-hidden--visually {border: 0;clip: rect(1px 1px 1px 1px);clip: rect(1px, 1px, 1px, 1px);height: 1px;margin: -1px;overflow: hidden;padding: 0;position: absolute;width: 1px;}#sk-container-id-5 div.sk-estimator {font-family: monospace;background-color: #f0f8ff;border: 1px dotted black;border-radius: 0.25em;box-sizing: border-box;margin-bottom: 0.5em;}#sk-container-id-5 div.sk-estimator:hover {background-color: #d4ebff;}#sk-container-id-5 div.sk-parallel-item::after {content: \"\";width: 100%;border-bottom: 1px solid gray;flex-grow: 1;}#sk-container-id-5 div.sk-label:hover label.sk-toggleable__label {background-color: #d4ebff;}#sk-container-id-5 div.sk-serial::before {content: \"\";position: absolute;border-left: 1px solid gray;box-sizing: border-box;top: 0;bottom: 0;left: 50%;z-index: 0;}#sk-container-id-5 div.sk-serial {display: flex;flex-direction: column;align-items: center;background-color: white;padding-right: 0.2em;padding-left: 0.2em;position: relative;}#sk-container-id-5 div.sk-item {position: relative;z-index: 1;}#sk-container-id-5 div.sk-parallel {display: flex;align-items: stretch;justify-content: center;background-color: white;position: relative;}#sk-container-id-5 div.sk-item::before, #sk-container-id-5 div.sk-parallel-item::before {content: \"\";position: absolute;border-left: 1px solid gray;box-sizing: border-box;top: 0;bottom: 0;left: 50%;z-index: -1;}#sk-container-id-5 div.sk-parallel-item {display: flex;flex-direction: column;z-index: 1;position: relative;background-color: white;}#sk-container-id-5 div.sk-parallel-item:first-child::after {align-self: flex-end;width: 50%;}#sk-container-id-5 div.sk-parallel-item:last-child::after {align-self: flex-start;width: 50%;}#sk-container-id-5 div.sk-parallel-item:only-child::after {width: 0;}#sk-container-id-5 div.sk-dashed-wrapped {border: 1px dashed gray;margin: 0 0.4em 0.5em 0.4em;box-sizing: border-box;padding-bottom: 0.4em;background-color: white;}#sk-container-id-5 div.sk-label label {font-family: monospace;font-weight: bold;display: inline-block;line-height: 1.2em;}#sk-container-id-5 div.sk-label-container {text-align: center;}#sk-container-id-5 div.sk-container {/* jupyter's `normalize.less` sets `[hidden] { display: none; }` but bootstrap.min.css set `[hidden] { display: none !important; }` so we also need the `!important` here to be able to override the default hidden behavior on the sphinx rendered scikit-learn.org. See: https://github.com/scikit-learn/scikit-learn/issues/21755 */display: inline-block !important;position: relative;}#sk-container-id-5 div.sk-text-repr-fallback {display: none;}</style><div id=\"sk-container-id-5\" class=\"sk-top-container\"><div class=\"sk-text-repr-fallback\"><pre>Ensemble(intercept=-0.011065988920275431,\n",
       "         models=[AutoMLWrap(model=&lt;flaml.automl.model.LGBMEstimator object at 0x00000216F6A70E20&gt;),\n",
       "                 AutoMLWrap(model=&lt;flaml.automl.model.LGBMEstimator object at 0x00000216F6CA4430&gt;),\n",
       "                 AutoMLWrap(model=&lt;flaml.automl.model.LGBMEstimator object at 0x00000216F6CA4EE0&gt;),\n",
       "                 AutoMLWrap(model=&lt;flaml.automl.model.LGBMEstimator object at 0x0000...\n",
       "                 AutoMLWrap(model=&lt;flaml.automl.model.LGBMEstimator object at 0x00000216F6A9A320&gt;),\n",
       "                 Pipeline(steps=[(&#x27;polynomialfeatures&#x27;,\n",
       "                                  PolynomialFeatures(degree=0)),\n",
       "                                 (&#x27;linearregression&#x27;,\n",
       "                                  LinearRegression(fit_intercept=False))])],\n",
       "         names=[&#x27;slearner&#x27;, &#x27;tlearner&#x27;, &#x27;xlearner&#x27;, &#x27;drlearner&#x27;, &#x27;rlearner&#x27;,\n",
       "                &#x27;drlearner_const&#x27;],\n",
       "         weights=array([ 0.        ,  0.3043287 , -0.54586777,  2.37640916,  0.42853144,\n",
       "        0.        ]))</pre><b>In a Jupyter environment, please rerun this cell to show the HTML representation or trust the notebook. <br />On GitHub, the HTML representation is unable to render, please try loading this page with nbviewer.org.</b></div><div class=\"sk-container\" hidden><div class=\"sk-item\"><div class=\"sk-estimator sk-toggleable\"><input class=\"sk-toggleable__control sk-hidden--visually\" id=\"sk-estimator-id-11\" type=\"checkbox\" checked><label for=\"sk-estimator-id-11\" class=\"sk-toggleable__label sk-toggleable__label-arrow\">Ensemble</label><div class=\"sk-toggleable__content\"><pre>Ensemble(intercept=-0.011065988920275431,\n",
       "         models=[AutoMLWrap(model=&lt;flaml.automl.model.LGBMEstimator object at 0x00000216F6A70E20&gt;),\n",
       "                 AutoMLWrap(model=&lt;flaml.automl.model.LGBMEstimator object at 0x00000216F6CA4430&gt;),\n",
       "                 AutoMLWrap(model=&lt;flaml.automl.model.LGBMEstimator object at 0x00000216F6CA4EE0&gt;),\n",
       "                 AutoMLWrap(model=&lt;flaml.automl.model.LGBMEstimator object at 0x0000...\n",
       "                 AutoMLWrap(model=&lt;flaml.automl.model.LGBMEstimator object at 0x00000216F6A9A320&gt;),\n",
       "                 Pipeline(steps=[(&#x27;polynomialfeatures&#x27;,\n",
       "                                  PolynomialFeatures(degree=0)),\n",
       "                                 (&#x27;linearregression&#x27;,\n",
       "                                  LinearRegression(fit_intercept=False))])],\n",
       "         names=[&#x27;slearner&#x27;, &#x27;tlearner&#x27;, &#x27;xlearner&#x27;, &#x27;drlearner&#x27;, &#x27;rlearner&#x27;,\n",
       "                &#x27;drlearner_const&#x27;],\n",
       "         weights=array([ 0.        ,  0.3043287 , -0.54586777,  2.37640916,  0.42853144,\n",
       "        0.        ]))</pre></div></div></div></div></div>"
      ],
      "text/plain": [
       "Ensemble(intercept=-0.011065988920275431,\n",
       "         models=[AutoMLWrap(model=<flaml.automl.model.LGBMEstimator object at 0x00000216F6A70E20>),\n",
       "                 AutoMLWrap(model=<flaml.automl.model.LGBMEstimator object at 0x00000216F6CA4430>),\n",
       "                 AutoMLWrap(model=<flaml.automl.model.LGBMEstimator object at 0x00000216F6CA4EE0>),\n",
       "                 AutoMLWrap(model=<flaml.automl.model.LGBMEstimator object at 0x0000...\n",
       "                 AutoMLWrap(model=<flaml.automl.model.LGBMEstimator object at 0x00000216F6A9A320>),\n",
       "                 Pipeline(steps=[('polynomialfeatures',\n",
       "                                  PolynomialFeatures(degree=0)),\n",
       "                                 ('linearregression',\n",
       "                                  LinearRegression(fit_intercept=False))])],\n",
       "         names=['slearner', 'tlearner', 'xlearner', 'drlearner', 'rlearner',\n",
       "                'drlearner_const'],\n",
       "         weights=array([ 0.        ,  0.3043287 , -0.54586777,  2.37640916,  0.42853144,\n",
       "        0.        ]))"
      ]
     },
     "execution_count": 57,
     "metadata": {},
     "output_type": "execute_result"
    }
   ],
   "source": [
    "from sklearn.linear_model import RidgeCV\n",
    "\n",
    "F = np.array([m.predict(Zval) for m in models]).T\n",
    "meansF = np.mean(F, axis=0)\n",
    "F = F - meansF\n",
    "# One of LassoCV(fit_intercept=False) or ElasticNetCV(fit_intercept=False) or\n",
    "# or LinearRegression(fit_intercept=False) or LassoCV(positive=True, fit_intercept=False)\n",
    "stacker = LassoCV(fit_intercept=False)\n",
    "if score_name == 'DRscore':\n",
    "    stacker.fit(F, dr_val - np.mean(dr_preds))\n",
    "    intercept = np.mean(dr_preds) - meansF @ stacker.coef_\n",
    "    stack_ensemble = Ensemble(names, models, stacker.coef_, intercept)\n",
    "elif score_name == 'Rscore':\n",
    "    # we will avoid penalizing the intercept of the CATE by multiplying the constant 1\n",
    "    # by a large number; equivalently this divides the penalty for that parameter by that number\n",
    "    stacker.fit(F * Dres_val.reshape(-1, 1), yres_val - np.mean(dr_preds) * Dres_val)\n",
    "    intercept = np.mean(dr_preds) - meansF @ stacker.coef_\n",
    "    stack_ensemble = Ensemble(names, models, stacker.coef_, intercept)\n",
    "\n",
    "stack_ensemble"
   ]
  },
  {
   "cell_type": "code",
   "execution_count": 58,
   "metadata": {},
   "outputs": [
    {
     "data": {
      "image/png": "[encoded data removed]",
      "text/plain": [
       "<Figure size 1000x500 with 1 Axes>"
      ]
     },
     "metadata": {},
     "output_type": "display_data"
    }
   ],
   "source": [
    "if plot:\n",
    "    grid = np.unique(np.percentile(X[xfeat], np.arange(0, 105, 5)))\n",
    "    Xpd = pd.DataFrame(np.tile(np.median(X, axis=0, keepdims=True), (len(grid), 1)),\n",
    "                        columns=X.columns)\n",
    "    Xpd[xfeat] = grid\n",
    "    plt.figure(figsize=(10, 5))\n",
    "    plt.scatter(Xpd[xfeat], stack_ensemble.predict(Xpd[hetero_feats]),\n",
    "                label=f'StackedCATE', alpha=.4)\n",
    "    if semi_synth:\n",
    "        plt.scatter(Xpd[xfeat], true_cate(Xpd), label='True')\n",
    "        plt.title(f'{score_name}={scorer(stack_ensemble.predict(Zval)):.5f}, '\n",
    "                  f'True RMSE={rmse(true_cate(X), stack_ensemble.predict(Z)):.5f}')\n",
    "    else:\n",
    "        plt.title(f'{score_name}={scorer(stack_ensemble.predict(Zval)):.5f}, '\n",
    "                  f'ATE={np.mean(stack_ensemble.predict(Z)):.5f}')\n",
    "    plt.xlabel(xfeat)\n",
    "    plt.ylabel('CATE predictions (at median value of other features)')\n",
    "    plt.legend()\n",
    "    plt.show()"
   ]
  },
  {
   "cell_type": "code",
   "execution_count": 59,
   "metadata": {},
   "outputs": [],
   "source": [
    "def instance(nu, U, y):\n",
    "    n = y.shape[0]\n",
    "    ploss = np.mean((y.reshape(1, -1) - U)**2, axis=1)\n",
    "\n",
    "    def loss(x):\n",
    "        return np.mean((y - U.T @ x)**2)\n",
    "\n",
    "    def qfunction(x):\n",
    "        return (1 - nu) * loss(x) + nu * x @ ploss\n",
    "\n",
    "    def grad_q(x):\n",
    "        return - 2 * (1 - nu) * U @ (y - U.T @ x) / n + nu * ploss\n",
    "\n",
    "    return loss, qfunction, grad_q, ploss\n",
    "\n",
    "def opt(K, qfunction, grad_q):\n",
    "    res = scipy.optimize.minimize(qfunction, np.ones(K)/K, jac=grad_q, bounds=[(0, 1)]*K,\n",
    "                                  constraints=scipy.optimize.LinearConstraint(np.ones((1, K)), lb=1, ub=1),\n",
    "                                  tol=1e-12)\n",
    "    return res.x\n",
    "\n",
    "def qagg(F, y):\n",
    "    scale = max(np.max(np.abs(F)), np.max(np.abs(y)))\n",
    "    loss, qfunction, grad_q, ploss = instance(.2, F.T / scale, y / scale)\n",
    "    return opt(F.shape[1], qfunction, grad_q)"
   ]
  },
  {
   "cell_type": "code",
   "execution_count": 60,
   "metadata": {},
   "outputs": [],
   "source": [
    "F = np.array([m.predict(Zval) for m in models]).T\n",
    "stack_ensemble = Ensemble(names, models, qagg(F, dr_val), 0)"
   ]
  },
  {
   "cell_type": "code",
   "execution_count": 61,
   "metadata": {},
   "outputs": [
    {
     "data": {
      "image/png": "[encoded data removed]",
      "text/plain": [
       "<Figure size 1000x500 with 1 Axes>"
      ]
     },
     "metadata": {},
     "output_type": "display_data"
    }
   ],
   "source": [
    "if plot:\n",
    "    grid = np.unique(np.percentile(X[xfeat], np.arange(0, 105, 5)))\n",
    "    Xpd = pd.DataFrame(np.tile(np.median(X, axis=0, keepdims=True), (len(grid), 1)),\n",
    "                        columns=X.columns)\n",
    "    Xpd[xfeat] = grid\n",
    "    plt.figure(figsize=(10, 5))\n",
    "    plt.scatter(Xpd[xfeat], stack_ensemble.predict(Xpd[hetero_feats]),\n",
    "                label=f'StackedCATE', alpha=.4)\n",
    "    if semi_synth:\n",
    "        plt.scatter(Xpd[xfeat], true_cate(Xpd), label='True')\n",
    "        plt.title(f'{score_name}={scorer(stack_ensemble.predict(Zval)):.5f}, '\n",
    "                  f'True RMSE={rmse(true_cate(X), stack_ensemble.predict(Z)):.5f}')\n",
    "    else:\n",
    "        plt.title(f'{score_name}={scorer(stack_ensemble.predict(Zval)):.5f}, '\n",
    "                  f'ATE={np.mean(stack_ensemble.predict(Z)):.5f}')\n",
    "    plt.xlabel(xfeat)\n",
    "    plt.ylabel('CATE predictions (at median value of other features)')\n",
    "    plt.legend()\n",
    "    plt.show()"
   ]
  },
  {
   "cell_type": "markdown",
   "metadata": {},
   "source": [
    "We use one of these ensembles as our final best model"
   ]
  },
  {
   "cell_type": "code",
   "execution_count": 62,
   "metadata": {},
   "outputs": [],
   "source": [
    "overall_best = stack_ensemble\n",
    "# overall_best = softmax_ensemble"
   ]
  },
  {
   "cell_type": "markdown",
   "metadata": {},
   "source": [
    "# Validation Tests on Test Data"
   ]
  },
  {
   "cell_type": "markdown",
   "metadata": {},
   "source": [
    "Now that we have a selected a winning CATE model (or ensemble), we can run a set of hypothesis tests and other diagnostic metrics on the test set, to see if the model really picked up some dimensions of effect heterogeneity and satisfies some self-conistency checks."
   ]
  },
  {
   "cell_type": "markdown",
   "metadata": {},
   "source": [
    "### Hypothesis Test Based on Doubly Robust Best-Linear Predictor of CATE using model of CATE\n",
    "\n",
    "If we calculate the doubly robust pseudo outcomes $Y^{DR}(g,p)$ on the test set, using cross-fitting to estimate the models $g,p$, then we know that if the model of the CATE $\\hat{\\tau}$ is good, then the best linear predictor of the true CATE using $(1, \\hat{\\tau}(Z))$ as features should have a statistically significant coefficient on the feature associated with the CATE model. In fact, in an ideal world it should have a coefficient of $1$. Thus we can run such a significance test to measure whether the CATE model $\\tau_m$ has picked up anything signal that is correlated with the true CATE. Note that if $\\theta(X)$ is the true CATE $E[Y(1)-Y(0)\\mid X]$, then the coefficient associated with $\\hat{\\tau}$ in this regression can be interpreted as identifying the quantity:\n",
    "\\begin{align}\n",
    "\\beta_1 := \\frac{\\text{Cov}(\\theta(X), \\hat{\\tau}(Z))}{\\text{Var}(\\hat{\\tau}(Z))} = \\frac{\\text{Cov}(Y(1)-Y(0), \\hat{\\tau}(Z))}{\\text{Var}(\\hat{\\tau}(Z))}\n",
    "\\end{align}"
   ]
  },
  {
   "cell_type": "code",
   "execution_count": 63,
   "metadata": {},
   "outputs": [],
   "source": [
    "dr_test = calculate_dr_outcomes(X, D, y, groups, Xtest, Dtest, ytest, groupstest)\n",
    "cate_test = overall_best.predict(Ztest)"
   ]
  },
  {
   "cell_type": "code",
   "execution_count": 64,
   "metadata": {},
   "outputs": [
    {
     "data": {
      "text/html": [
       "<table class=\"simpletable\">\n",
       "<caption>OLS Regression Results</caption>\n",
       "<tr>\n",
       "  <th>Dep. Variable:</th>            <td>y</td>        <th>  R-squared:         </th>  <td>   0.002</td>  \n",
       "</tr>\n",
       "<tr>\n",
       "  <th>Model:</th>                   <td>OLS</td>       <th>  Adj. R-squared:    </th>  <td>   0.002</td>  \n",
       "</tr>\n",
       "<tr>\n",
       "  <th>Method:</th>             <td>Least Squares</td>  <th>  F-statistic:       </th>  <td>   5845.</td>  \n",
       "</tr>\n",
       "<tr>\n",
       "  <th>Date:</th>             <td>Mon, 28 Aug 2023</td> <th>  Prob (F-statistic):</th>   <td>  0.00</td>   \n",
       "</tr>\n",
       "<tr>\n",
       "  <th>Time:</th>                 <td>11:14:50</td>     <th>  Log-Likelihood:    </th> <td>-1.8313e+06</td>\n",
       "</tr>\n",
       "<tr>\n",
       "  <th>No. Observations:</th>      <td>2795919</td>     <th>  AIC:               </th>  <td>3.663e+06</td> \n",
       "</tr>\n",
       "<tr>\n",
       "  <th>Df Residuals:</th>          <td>2795917</td>     <th>  BIC:               </th>  <td>3.663e+06</td> \n",
       "</tr>\n",
       "<tr>\n",
       "  <th>Df Model:</th>              <td>     1</td>      <th>                     </th>      <td> </td>     \n",
       "</tr>\n",
       "<tr>\n",
       "  <th>Covariance Type:</th>      <td>nonrobust</td>    <th>                     </th>      <td> </td>     \n",
       "</tr>\n",
       "</table>\n",
       "<table class=\"simpletable\">\n",
       "<tr>\n",
       "    <td></td>       <th>coef</th>     <th>std err</th>      <th>t</th>      <th>P>|t|</th>  <th>[0.025</th>    <th>0.975]</th>  \n",
       "</tr>\n",
       "<tr>\n",
       "  <th>const</th> <td>   -0.0143</td> <td>    0.000</td> <td>  -35.522</td> <td> 0.000</td> <td>   -0.015</td> <td>   -0.014</td>\n",
       "</tr>\n",
       "<tr>\n",
       "  <th>x1</th>    <td>    2.6457</td> <td>    0.035</td> <td>   76.454</td> <td> 0.000</td> <td>    2.578</td> <td>    2.714</td>\n",
       "</tr>\n",
       "</table>\n",
       "<table class=\"simpletable\">\n",
       "<tr>\n",
       "  <th>Omnibus:</th>       <td>3431274.036</td> <th>  Durbin-Watson:     </th>    <td>   2.002</td>   \n",
       "</tr>\n",
       "<tr>\n",
       "  <th>Prob(Omnibus):</th>   <td> 0.000</td>    <th>  Jarque-Bera (JB):  </th> <td>1102372917.166</td>\n",
       "</tr>\n",
       "<tr>\n",
       "  <th>Skew:</th>            <td>-6.368</td>    <th>  Prob(JB):          </th>    <td>    0.00</td>   \n",
       "</tr>\n",
       "<tr>\n",
       "  <th>Kurtosis:</th>        <td>99.439</td>    <th>  Cond. No.          </th>    <td>    124.</td>   \n",
       "</tr>\n",
       "</table><br/><br/>Notes:<br/>[1] Standard Errors assume that the covariance matrix of the errors is correctly specified."
      ],
      "text/plain": [
       "<class 'statsmodels.iolib.summary.Summary'>\n",
       "\"\"\"\n",
       "                            OLS Regression Results                            \n",
       "==============================================================================\n",
       "Dep. Variable:                      y   R-squared:                       0.002\n",
       "Model:                            OLS   Adj. R-squared:                  0.002\n",
       "Method:                 Least Squares   F-statistic:                     5845.\n",
       "Date:                Mon, 28 Aug 2023   Prob (F-statistic):               0.00\n",
       "Time:                        11:14:50   Log-Likelihood:            -1.8313e+06\n",
       "No. Observations:             2795919   AIC:                         3.663e+06\n",
       "Df Residuals:                 2795917   BIC:                         3.663e+06\n",
       "Df Model:                           1                                         \n",
       "Covariance Type:            nonrobust                                         \n",
       "==============================================================================\n",
       "                 coef    std err          t      P>|t|      [0.025      0.975]\n",
       "------------------------------------------------------------------------------\n",
       "const         -0.0143      0.000    -35.522      0.000      -0.015      -0.014\n",
       "x1             2.6457      0.035     76.454      0.000       2.578       2.714\n",
       "==============================================================================\n",
       "Omnibus:                  3431274.036   Durbin-Watson:                   2.002\n",
       "Prob(Omnibus):                  0.000   Jarque-Bera (JB):       1102372917.166\n",
       "Skew:                          -6.368   Prob(JB):                         0.00\n",
       "Kurtosis:                      99.439   Cond. No.                         124.\n",
       "==============================================================================\n",
       "\n",
       "Notes:\n",
       "[1] Standard Errors assume that the covariance matrix of the errors is correctly specified.\n",
       "\"\"\""
      ]
     },
     "execution_count": 64,
     "metadata": {},
     "output_type": "execute_result"
    }
   ],
   "source": [
    "OLS(dr_test, np.stack((np.ones(len(dr_test)), cate_test), axis=-1)).fit().summary()"
   ]
  },
  {
   "cell_type": "markdown",
   "metadata": {},
   "source": [
    "### Validation Based on Calibration"
   ]
  },
  {
   "cell_type": "markdown",
   "metadata": {},
   "source": [
    "We can measure whether each group defined by the quartile levels of CATE predictions is consistent with the out-of-sample Group ATE (GATE) for the corresponding group based on the doubly robust GATE estimate. (standard errors here ignore cluster/group correlations)"
   ]
  },
  {
   "cell_type": "code",
   "execution_count": 65,
   "metadata": {},
   "outputs": [
    {
     "data": {
      "image/png": "[encoded data removed]",
      "text/plain": [
       "<Figure size 640x480 with 1 Axes>"
      ]
     },
     "metadata": {},
     "output_type": "display_data"
    }
   ],
   "source": [
    "cate_val = overall_best.predict(Zval)\n",
    "qs = np.percentile(cate_val, np.arange(0, 101, 25))\n",
    "\n",
    "gate, gate_std, group_prob = np.zeros(len(qs) - 1), np.zeros(len(qs) - 1), np.zeros(len(qs) - 1)\n",
    "predicted_gate = np.zeros(len(qs) - 1)\n",
    "for it in range(len(qs) - 1):\n",
    "    # samples in the [q[it], q[it+1]) quantile group of predicted CATEs\n",
    "    inds = (qs[it] <= cate_test) & (cate_test <= qs[it + 1]) \n",
    "    gate[it] = np.mean(dr_test[inds]) # DR estimate of group average treatment effect (GATE)\n",
    "    gate_std[it] = np.std(dr_test[inds])/np.sqrt(np.sum(inds)) # standard error of GATE\n",
    "    group_prob[it] = np.mean(inds) # probability mass of group\n",
    "    predicted_gate[it] = np.mean(cate_test[inds]) # GATE as calculated from CATE model\n",
    "\n",
    "# weighted average calibration error of cate model\n",
    "cal = np.sum(group_prob * np.abs(gate - predicted_gate))\n",
    "# weighted average calibration error of a constant cate model\n",
    "calbase = np.sum(group_prob * np.abs(gate - np.mean(dr_test)))\n",
    "# calibration score\n",
    "calscore = 1 - cal/calbase\n",
    "plt.title(f'CalScore={calscore:.4f}')\n",
    "plt.errorbar(predicted_gate, gate, yerr=1.96*gate_std, fmt='o')\n",
    "plt.xlabel('Predicted GATE based on CATE model')\n",
    "plt.ylabel('Doubly Robust GATE estimate')\n",
    "plt.show()"
   ]
  },
  {
   "cell_type": "markdown",
   "metadata": {},
   "source": [
    "We can also try to interpret what are the differences of characteristics between the top and bottom CATE groups; if we find that they have statistically significantly different GATEs. We can do that by either reporting the mean values of the covariates in the two groups or building some interpretable classification model that distinguishes between the two groups."
   ]
  },
  {
   "cell_type": "code",
   "execution_count": 66,
   "metadata": {},
   "outputs": [],
   "source": [
    "group1 = (qs[0] <= cate_test) & (cate_test < qs[1]) \n",
    "group2 = (qs[-2] <= cate_test) & (cate_test < qs[-1])\n",
    "Ztest1 = Ztest[group1]\n",
    "Ztest2 = Ztest[group2]"
   ]
  },
  {
   "cell_type": "code",
   "execution_count": 67,
   "metadata": {},
   "outputs": [
    {
     "data": {
      "text/html": [
       "<div>\n",
       "<style scoped>\n",
       "    .dataframe tbody tr th:only-of-type {\n",
       "        vertical-align: middle;\n",
       "    }\n",
       "\n",
       "    .dataframe tbody tr th {\n",
       "        vertical-align: top;\n",
       "    }\n",
       "\n",
       "    .dataframe thead th {\n",
       "        text-align: right;\n",
       "    }\n",
       "</style>\n",
       "<table border=\"1\" class=\"dataframe\">\n",
       "  <thead>\n",
       "    <tr style=\"text-align: right;\">\n",
       "      <th></th>\n",
       "      <th>group1 means</th>\n",
       "      <th>group1 s.e.</th>\n",
       "      <th>group2 means</th>\n",
       "      <th>group2 s.e.</th>\n",
       "      <th>group1 means - group2 means</th>\n",
       "      <th>diff s.e.</th>\n",
       "    </tr>\n",
       "  </thead>\n",
       "  <tbody>\n",
       "    <tr>\n",
       "      <th>f0</th>\n",
       "      <td>17.076193</td>\n",
       "      <td>0.015308</td>\n",
       "      <td>19.731357</td>\n",
       "      <td>0.003272</td>\n",
       "      <td>-2.655164</td>\n",
       "      <td>0.018580</td>\n",
       "    </tr>\n",
       "    <tr>\n",
       "      <th>f1</th>\n",
       "      <td>10.062971</td>\n",
       "      <td>0.000153</td>\n",
       "      <td>10.070065</td>\n",
       "      <td>0.000064</td>\n",
       "      <td>-0.007094</td>\n",
       "      <td>0.000217</td>\n",
       "    </tr>\n",
       "    <tr>\n",
       "      <th>f2</th>\n",
       "      <td>8.392328</td>\n",
       "      <td>0.000454</td>\n",
       "      <td>8.448954</td>\n",
       "      <td>0.000185</td>\n",
       "      <td>-0.056626</td>\n",
       "      <td>0.000639</td>\n",
       "    </tr>\n",
       "    <tr>\n",
       "      <th>f3</th>\n",
       "      <td>4.523843</td>\n",
       "      <td>0.001140</td>\n",
       "      <td>4.167063</td>\n",
       "      <td>0.000826</td>\n",
       "      <td>0.356780</td>\n",
       "      <td>0.001966</td>\n",
       "    </tr>\n",
       "    <tr>\n",
       "      <th>f4</th>\n",
       "      <td>10.747634</td>\n",
       "      <td>0.002716</td>\n",
       "      <td>10.321665</td>\n",
       "      <td>0.000173</td>\n",
       "      <td>0.425969</td>\n",
       "      <td>0.002890</td>\n",
       "    </tr>\n",
       "    <tr>\n",
       "      <th>f5</th>\n",
       "      <td>4.006879</td>\n",
       "      <td>0.001431</td>\n",
       "      <td>4.029952</td>\n",
       "      <td>0.000260</td>\n",
       "      <td>-0.023073</td>\n",
       "      <td>0.001691</td>\n",
       "    </tr>\n",
       "    <tr>\n",
       "      <th>f6</th>\n",
       "      <td>-3.454451</td>\n",
       "      <td>0.014875</td>\n",
       "      <td>-4.183076</td>\n",
       "      <td>0.002780</td>\n",
       "      <td>0.728625</td>\n",
       "      <td>0.017654</td>\n",
       "    </tr>\n",
       "    <tr>\n",
       "      <th>f7</th>\n",
       "      <td>5.204823</td>\n",
       "      <td>0.004328</td>\n",
       "      <td>5.097657</td>\n",
       "      <td>0.000730</td>\n",
       "      <td>0.107166</td>\n",
       "      <td>0.005058</td>\n",
       "    </tr>\n",
       "    <tr>\n",
       "      <th>f8</th>\n",
       "      <td>3.785497</td>\n",
       "      <td>0.000094</td>\n",
       "      <td>3.939699</td>\n",
       "      <td>0.000030</td>\n",
       "      <td>-0.154202</td>\n",
       "      <td>0.000123</td>\n",
       "    </tr>\n",
       "    <tr>\n",
       "      <th>f9</th>\n",
       "      <td>36.116206</td>\n",
       "      <td>0.025929</td>\n",
       "      <td>15.191976</td>\n",
       "      <td>0.003383</td>\n",
       "      <td>20.924230</td>\n",
       "      <td>0.029312</td>\n",
       "    </tr>\n",
       "    <tr>\n",
       "      <th>f10</th>\n",
       "      <td>5.528589</td>\n",
       "      <td>0.001136</td>\n",
       "      <td>5.325324</td>\n",
       "      <td>0.000091</td>\n",
       "      <td>0.203265</td>\n",
       "      <td>0.001226</td>\n",
       "    </tr>\n",
       "    <tr>\n",
       "      <th>f11</th>\n",
       "      <td>-0.188477</td>\n",
       "      <td>0.000187</td>\n",
       "      <td>-0.170222</td>\n",
       "      <td>0.000012</td>\n",
       "      <td>-0.018256</td>\n",
       "      <td>0.000199</td>\n",
       "    </tr>\n",
       "  </tbody>\n",
       "</table>\n",
       "</div>"
      ],
      "text/plain": [
       "     group1 means  group1 s.e.  group2 means  group2 s.e.  \\\n",
       "f0      17.076193     0.015308     19.731357     0.003272   \n",
       "f1      10.062971     0.000153     10.070065     0.000064   \n",
       "f2       8.392328     0.000454      8.448954     0.000185   \n",
       "f3       4.523843     0.001140      4.167063     0.000826   \n",
       "f4      10.747634     0.002716     10.321665     0.000173   \n",
       "f5       4.006879     0.001431      4.029952     0.000260   \n",
       "f6      -3.454451     0.014875     -4.183076     0.002780   \n",
       "f7       5.204823     0.004328      5.097657     0.000730   \n",
       "f8       3.785497     0.000094      3.939699     0.000030   \n",
       "f9      36.116206     0.025929     15.191976     0.003383   \n",
       "f10      5.528589     0.001136      5.325324     0.000091   \n",
       "f11     -0.188477     0.000187     -0.170222     0.000012   \n",
       "\n",
       "     group1 means - group2 means  diff s.e.  \n",
       "f0                     -2.655164   0.018580  \n",
       "f1                     -0.007094   0.000217  \n",
       "f2                     -0.056626   0.000639  \n",
       "f3                      0.356780   0.001966  \n",
       "f4                      0.425969   0.002890  \n",
       "f5                     -0.023073   0.001691  \n",
       "f6                      0.728625   0.017654  \n",
       "f7                      0.107166   0.005058  \n",
       "f8                     -0.154202   0.000123  \n",
       "f9                     20.924230   0.029312  \n",
       "f10                     0.203265   0.001226  \n",
       "f11                    -0.018256   0.000199  "
      ]
     },
     "execution_count": 67,
     "metadata": {},
     "output_type": "execute_result"
    }
   ],
   "source": [
    "df = pd.DataFrame({'group1 means': np.mean(Ztest1), \n",
    "                   'group1 s.e.': np.std(Ztest1) / np.sqrt(Ztest1.shape[0]),\n",
    "                   'group2 means': np.mean(Ztest2),\n",
    "                   'group2 s.e.': np.std(Ztest2) / np.sqrt(Ztest2.shape[0]),\n",
    "                   'group1 means - group2 means': np.mean(Ztest1) - np.mean(Ztest2),\n",
    "                   'diff s.e.': np.std(Ztest1) / np.sqrt(Ztest1.shape[0]) + np.std(Ztest2) / np.sqrt(Ztest2.shape[0])})\n",
    "df"
   ]
  },
  {
   "cell_type": "code",
   "execution_count": 68,
   "metadata": {},
   "outputs": [
    {
     "data": {
      "image/png": "[encoded data removed]",
      "text/plain": [
       "<Figure size 640x480 with 1 Axes>"
      ]
     },
     "metadata": {},
     "output_type": "display_data"
    }
   ],
   "source": [
    "tree = DecisionTreeClassifier(max_depth=2)\n",
    "tree.fit(pd.concat((Ztest1, Ztest2)),\n",
    "         np.concatenate((np.zeros(len(Ztest1)), np.ones(len(Ztest2)))))\n",
    "plot_tree(tree, filled=True, feature_names=Ztest1.columns, class_names=['group1', 'group2'])\n",
    "plt.show()"
   ]
  },
  {
   "cell_type": "markdown",
   "metadata": {},
   "source": [
    "### Validation Based on Uplift Curves"
   ]
  },
  {
   "cell_type": "markdown",
   "metadata": {},
   "source": [
    "These curves are related to \"prioritization\" or \"stratification\" implications of the CATE model. What if we target to treat a $q$-percentage of the population. Then if we trust and follow the CATE model, then we should be offering the treatment to the parts of the population that the CATE model predicts have a CATE larger than the $1-q$-th percentile of the CATE distribution as produced by the CATE.\n",
    "\n",
    "In this case, we might care about the group average treatment effect of the group of people that are treated under such a prioritization rule and how that compares with the overall average treatment effect. Ideally, the group average treatment effect should be larger than the overall average treatment effect if the prioritization rule is correct.\n",
    "\n",
    "Thus if we have a rough estimate $\\hat{\\mu}(q)$ of the $1-q$-quantile $\\mu(q)$ of the CATE predictions distribution we can calculate:\n",
    "\\begin{align}\n",
    "\\tau(q) =~& E[Y(1) - Y(0) \\mid \\hat{\\tau}(Z) \\geq \\hat{\\mu}(q)] - E[Y(1) - Y(0)]\\\\\n",
    "=~& E\\left[(Y(1) - Y(0)) \\frac{1\\{\\hat{\\tau}(Z) \\geq \\hat{\\mu}(q)\\}}{\\Pr(\\hat{\\tau}(Z) \\geq \\hat{\\mu}(q))}\\right] - E[Y(1) - Y(0)]\n",
    "~=~ \\text{Cov}\\left(Y(1) - Y(0), \\frac{1\\{\\hat{\\tau}(Z) \\geq \\hat{\\mu}(q)\\}}{\\Pr(\\hat{\\tau}(Z) \\geq \\hat{\\mu}(q))}\\right)\n",
    "\\end{align}\n",
    "We can get such good quantile estimates out-of-sample, by looking at the $1-q$-the empirical quantile of the cate predictions on a sample other than the one that we are using to calculate $\\tau(q)$. For instance, we can use the training/validation samples but not the test samples. This gives us a set of thresholds $\\hat{\\mu}(q_1), \\ldots, \\hat{\\mu}(q_m)$ that are good approximations of the quantile of the predicted CATE distribution. If we target to treat every person with CATE greater than $\\hat{\\mu}(q_t)$ we should expect roughly $q_t$ fraction of the population to be treated.\n",
    "\n",
    "This quantity is identified by replacing the individual effects with the doubly robust pseudo-outcomes:\n",
    "\\begin{align}\n",
    "\\tau(q) =~& E\\left[Y^{DR}(g,p) \\mid \\hat{\\tau}(Z) \\geq \\hat{\\mu}(q)\\right] - E\\left[Y^{DR}(g,p)\\right]\n",
    "~=~ \\text{Cov}\\left(Y^{DR}(g,p), \\frac{1\\{\\hat{\\tau}(Z) \\geq \\hat{\\mu}(q)\\}}{\\Pr(\\hat{\\tau}(Z) \\geq \\hat{\\mu}(q))}\\right)\n",
    "\\end{align}\n",
    "\n",
    "We can then plot the curve $\\tau(q)$, understand the Area Under the Curve:\n",
    "\\begin{align}\n",
    "AUTOC := \\int_0^1 \\tau(q) dq\n",
    "\\end{align}\n",
    "and run tests whether that area is positive or that there is any positive point in the curve. These are tests that indicate that the CATE model detected heterogeneity with statistical significance. Moreover, the larger the Area Under the Curve, the better the CATE model is at treatment prioritization. (standard errors here ignore cluster/group correlations)"
   ]
  },
  {
   "cell_type": "code",
   "execution_count": 69,
   "metadata": {},
   "outputs": [],
   "source": [
    "# Based on out-of-sample CATE thresholds\n",
    "ugrid = np.linspace(5, 95, 50)\n",
    "qs = np.percentile(overall_best.predict(Zval), ugrid)\n",
    "\n",
    "toc, toc_std, group_prob = np.zeros(len(qs)), np.zeros(len(qs)), np.zeros(len(qs))\n",
    "true_toc = np.zeros(len(qs))\n",
    "toc_psi = np.zeros((len(qs), dr_test.shape[0])) # influence function representation of the TOC at each quantile\n",
    "n = len(dr_test)\n",
    "ate = np.mean(dr_test)\n",
    "for it in range(len(qs)):\n",
    "    inds = (qs[it] <= cate_test) # group with larger CATE prediction than the q-th quantile\n",
    "    group_prob = np.sum(inds) / n # fraction of population in this group\n",
    "    toc[it]= np.mean(dr_test[inds]) - ate # tau(q) := E[Y(1) - Y(0) | tau(X) >= q[it]] - E[Y(1) - Y(0)]\n",
    "    # influence function for the tau(q); it is a standard influence function of a \"covariance\"\n",
    "    toc_psi[it, :] = (dr_test - ate) * (inds / group_prob - 1) - toc[it]\n",
    "    toc_std[it] = np.sqrt(np.mean(toc_psi[it]**2) / n) # standard error of tau(q)\n",
    "    if semi_synth:\n",
    "        true_toc[it] = np.mean((true_cate(Xtest) - np.mean(true_cate(Xtest))) * (inds * n / np.sum(inds) - 1))"
   ]
  },
  {
   "cell_type": "code",
   "execution_count": 70,
   "metadata": {},
   "outputs": [
    {
     "data": {
      "image/png": "[encoded data removed]",
      "text/plain": [
       "<Figure size 640x480 with 1 Axes>"
      ]
     },
     "metadata": {},
     "output_type": "display_data"
    }
   ],
   "source": [
    "plt.errorbar(100 - ugrid, toc, yerr=1.96*toc_std, fmt='o', label='Est. TOC')\n",
    "plt.plot(100 - ugrid, np.zeros(len(ugrid)))\n",
    "if semi_synth:\n",
    "    plt.plot(100 - ugrid, true_toc, 'o', label='True TOC')\n",
    "plt.xlabel(\"Percentage treated\")\n",
    "plt.ylabel(\"Gain in Average Effect of Treated by CATE over Random\")\n",
    "plt.legend()\n",
    "plt.show()"
   ]
  },
  {
   "cell_type": "markdown",
   "metadata": {},
   "source": [
    "#### Uniform Confidence Band with Multiplier Bootstrap\n",
    "\n",
    "In fact the \"1.96\" is wrong if we want the confidence intervals to hold simultaneoulsy for the whole curve. To have such \"simultaneous coverage\" guarantees we need to calculate a larger \"critical value\" than 1.96. We can calculate the appropriate such constant using the multiplier bootstrap, which tries to estimate the maximum deviation around the mean as a multiple of the standard deviation for each point. "
   ]
  },
  {
   "cell_type": "code",
   "execution_count": 71,
   "metadata": {},
   "outputs": [
    {
     "name": "stdout",
     "output_type": "stream",
     "text": [
      "2.389502343443299\n"
     ]
    }
   ],
   "source": [
    "# For computational reasons if dataset is too large, we should not be constructing\n",
    "# an n_samples x n_bootstrap_samples matrix of multipliers due to memory issues;\n",
    "# even though constructing such a matrix avoids a for loop in python, which is always advised.\n",
    "if dr_test.shape[0] > 1e6:\n",
    "    mboot = np.zeros((len(qs), 1000))\n",
    "    for it in range(1000):\n",
    "        w = np.random.normal(0, 1, size=(dr_test.shape[0],))\n",
    "        mboot[:, it] = (toc_psi / toc_std.reshape(-1, 1)) @ w / n\n",
    "else:\n",
    "    w = np.random.normal(0, 1, size=(dr_test.shape[0], 1000))\n",
    "    mboot = (toc_psi / toc_std.reshape(-1, 1)) @ w / n\n",
    "\n",
    "max_mboot = np.max(np.abs(mboot), axis=0)\n",
    "uniform_critical_value = np.percentile(max_mboot, 95)\n",
    "print(uniform_critical_value)"
   ]
  },
  {
   "cell_type": "code",
   "execution_count": 72,
   "metadata": {},
   "outputs": [
    {
     "data": {
      "image/png": "[encoded data removed]",
      "text/plain": [
       "<Figure size 640x480 with 1 Axes>"
      ]
     },
     "metadata": {},
     "output_type": "display_data"
    }
   ],
   "source": [
    "plt.errorbar(100 - ugrid, toc, yerr=uniform_critical_value*toc_std, fmt='o', label='Est. TOC')\n",
    "plt.plot(100 - ugrid, np.zeros(len(ugrid)))\n",
    "if semi_synth:\n",
    "    plt.plot(100 - ugrid, true_toc, 'o', label='True TOC')\n",
    "plt.xlabel(\"Percentage treated\")\n",
    "plt.ylabel(\"Gain in Average Effect of Treated by CATE over Random\")\n",
    "plt.legend()\n",
    "plt.show()"
   ]
  },
  {
   "cell_type": "markdown",
   "metadata": {},
   "source": [
    "Note that if there is any point that is above the zero line, with confidence, in this curve, then the CATE model $\\hat{\\tau}$ has identified heterogeneity in the effect in a statistically significant manner. To do this we need a one-sided confidence interval, as we only care that the quantities are larger than some value with high confidence. We can then calculate the critical value for a uniform one-sided confidence interval across all the points, using the multiplier bootstrap. "
   ]
  },
  {
   "cell_type": "code",
   "execution_count": 73,
   "metadata": {},
   "outputs": [
    {
     "name": "stdout",
     "output_type": "stream",
     "text": [
      "2.049058712717699\n"
     ]
    }
   ],
   "source": [
    "min_mboot = np.min(mboot, axis=0)\n",
    "uniform_one_side_critical_value = np.abs(np.percentile(min_mboot, 5))\n",
    "print(uniform_one_side_critical_value)"
   ]
  },
  {
   "cell_type": "code",
   "execution_count": 74,
   "metadata": {},
   "outputs": [
    {
     "data": {
      "image/png": "[encoded data removed]",
      "text/plain": [
       "<Figure size 640x480 with 1 Axes>"
      ]
     },
     "metadata": {},
     "output_type": "display_data"
    }
   ],
   "source": [
    "plt.errorbar(100 - ugrid, toc,\n",
    "             yerr=[uniform_one_side_critical_value*toc_std, np.zeros(len(toc))], fmt='o', label='Est. TOC')\n",
    "plt.plot(100 - ugrid, np.zeros(len(ugrid)))\n",
    "if semi_synth:\n",
    "    plt.plot(100 - ugrid, true_toc, 'o', label='True TOC')\n",
    "plt.xlabel(\"Percentage treated\")\n",
    "plt.ylabel(\"Gain in Average Effect of Treated by CATE over Random\")\n",
    "plt.legend()\n",
    "plt.show()"
   ]
  },
  {
   "cell_type": "code",
   "execution_count": 75,
   "metadata": {},
   "outputs": [
    {
     "name": "stdout",
     "output_type": "stream",
     "text": [
      "Heterogeneity Statistic: 0.07604635373824613\n"
     ]
    }
   ],
   "source": [
    "print(f'Heterogeneity Statistic: {np.max(toc - uniform_one_side_critical_value*toc_std)}')"
   ]
  },
  {
   "cell_type": "markdown",
   "metadata": {},
   "source": [
    "We can also calcualte the area under the curve and the confidence interval for that area. If the confidence interval does not contain zero, then we have again detected heterogeneity."
   ]
  },
  {
   "cell_type": "code",
   "execution_count": 76,
   "metadata": {},
   "outputs": [
    {
     "name": "stdout",
     "output_type": "stream",
     "text": [
      "AUTOC: 0.0024, s.e.: 0.0002, One-Sided 95% CI=[0.0021, Infty]\n"
     ]
    }
   ],
   "source": [
    "autoc_psi = np.sum(toc_psi[:-1] * np.diff(ugrid).reshape(-1, 1) / 100, 0)\n",
    "autoc = np.sum(toc[:-1] * np.diff(ugrid) / 100)\n",
    "autoc_stderr = np.sqrt(np.mean(autoc_psi**2) / n)\n",
    "print(f'AUTOC: {autoc:.4f}, s.e.: {autoc_stderr:.4f}, '\n",
    "      f'One-Sided 95% CI=[{autoc - scipy.stats.norm.ppf(.95) * autoc_stderr:.4f}, Infty]')"
   ]
  },
  {
   "cell_type": "markdown",
   "metadata": {},
   "source": [
    "### Qini Curve\n",
    "\n",
    "Similar to the $\\tau(q)$ curve, we can also consider a small variant of that curve that also incorporates the probability of treatment. So instead of looking just at the group average effect of the group of people that are prioritized by the CATE model and subtract the overall effect, we can look at the \"total value\" exctracted by the treated group and contrast it with the total value that would be extracted by an equally large group treated uniformly at random. This corresponds to:\n",
    "\\begin{align}\n",
    "\\tau_{\\text{QINI}}(q) :=~& \\tau(q)\\, \\Pr(\\hat{\\tau}(Z) \\geq \\hat{\\mu}(q))\\\\\n",
    "=~& \\left(E[Y(1) - Y(0)\\mid \\hat{\\tau}(Z) \\geq \\hat{\\mu}(q)] - E[Y(1) - Y(0)]\\right)\\, \\Pr(\\hat{\\tau}(Z) \\geq \\hat{\\mu}(q))\\\\\n",
    "=~& E\\left[ (Y(1) - Y(0)) 1\\{\\hat{\\tau}(Z) \\geq \\hat{\\mu}(q)\\}\\right] - E[Y(1) - Y(0)]\\, \\Pr(\\hat{\\tau}(Z) \\geq \\hat{\\mu}(q))\\\\\n",
    "=~& E\\left[ (Y(1) - Y(0)) 1\\{\\hat{\\tau}(Z) \\geq \\hat{\\mu}(q)\\}\\right] - E[Y(1) - Y(0)]\\, E\\left[1\\{\\hat{\\tau}(Z) \\geq \\hat{\\mu}(q)\\}\\right]\\\\\n",
    "=~& \\text{Cov}\\left(Y(1) - Y(0), 1\\{\\hat{\\tau}(Z) \\geq \\hat{\\mu}(q)\\}\\right)\n",
    "\\end{align}\n",
    "The latter is approximately $\\tau_{\\text{QINI}}(q) \\approx q \\tau(q)$, but might not be exactly so, due to the inaccuracy of the quantile approximation $\\hat{\\mu}(q)$. \n",
    "\n",
    "The $\\tau_{\\text{QINI}}(q)$ quantity is identified by replacing the individual effects $Y(1)-Y(0)$ with the doubly robust pseudo-outcomes:\n",
    "\\begin{align}\n",
    "\\tau_{\\text{QINI}}(q) := \\text{Cov}\\left(Y^{DR}(g,p), 1\\{\\hat{\\tau}(Z) \\geq \\hat{\\mu}(q)\\}\\right)\n",
    "\\end{align}\n",
    "\n",
    "Similarly, we can look at the area under this curve:\n",
    "\\begin{align}\n",
    "\\text{QINI} := \\int_0^1 \\tau_{\\text{QINI}}(q) dq\n",
    "\\end{align}\n",
    "which is known as the QINI coefficient. (standard errors here ignore cluster/group correlations)"
   ]
  },
  {
   "cell_type": "code",
   "execution_count": 77,
   "metadata": {},
   "outputs": [],
   "source": [
    "# Based on out-of-sample CATE thresholds\n",
    "ugrid = np.linspace(5, 95, 50)\n",
    "qs = np.percentile(overall_best.predict(Zval), ugrid)\n",
    "\n",
    "toc, toc_std, group_prob = np.zeros(len(qs)), np.zeros(len(qs)), np.zeros(len(qs))\n",
    "true_toc = np.zeros(len(qs))\n",
    "toc_psi = np.zeros((len(qs), dr_test.shape[0]))\n",
    "n = len(dr_test)\n",
    "ate = np.mean(dr_test)\n",
    "for it in range(len(qs)):\n",
    "    inds = (qs[it] <= cate_test) # group with larger CATE prediction than the q-th quantile\n",
    "    group_prob = np.sum(inds) / n # fraction of population in this group\n",
    "    toc[it] = group_prob * (np.mean(dr_test[inds]) - ate) # tau(q) = q * E[Y(1) - Y(0) | tau(X) >= q[it]] - E[Y(1) - Y(0)]\n",
    "    toc_psi[it, :] = (dr_test - ate) * (inds - group_prob) - toc[it] # influence function for the tau(q)\n",
    "    toc_std[it] = np.sqrt(np.mean(toc_psi[it]**2) / n) # standard error of tau(q)\n",
    "    if semi_synth:\n",
    "        true_toc[it] = np.mean((true_cate(Xtest) - np.mean(true_cate(Xtest))) * (inds - group_prob))"
   ]
  },
  {
   "cell_type": "code",
   "execution_count": 78,
   "metadata": {},
   "outputs": [
    {
     "data": {
      "image/png": "[encoded data removed]",
      "text/plain": [
       "<Figure size 640x480 with 1 Axes>"
      ]
     },
     "metadata": {},
     "output_type": "display_data"
    }
   ],
   "source": [
    "plt.errorbar(100 - ugrid, toc, yerr=1.96*toc_std, fmt='o', label='Est. QINI')\n",
    "plt.plot(100 - ugrid, np.zeros(len(ugrid)))\n",
    "if semi_synth:\n",
    "    plt.plot(100 - ugrid, true_toc, 'o', label='True QINI')\n",
    "plt.xlabel(\"Percentage treated\")\n",
    "plt.ylabel(\"Gain in Policy Value over Random Treatment\")\n",
    "plt.legend()\n",
    "plt.show()"
   ]
  },
  {
   "cell_type": "markdown",
   "metadata": {},
   "source": [
    "And for uniform coverage we can again use the multiplier bootstrap"
   ]
  },
  {
   "cell_type": "code",
   "execution_count": 79,
   "metadata": {},
   "outputs": [
    {
     "name": "stdout",
     "output_type": "stream",
     "text": [
      "2.3531335117465013\n"
     ]
    }
   ],
   "source": [
    "if dr_test.shape[0] > 1e6:\n",
    "    mboot = np.zeros((len(qs), 1000))\n",
    "    for it in range(1000):\n",
    "        w = np.random.normal(0, 1, size=(dr_test.shape[0],))\n",
    "        mboot[:, it] = (toc_psi / toc_std.reshape(-1, 1)) @ w / n\n",
    "else:\n",
    "    w = np.random.normal(0, 1, size=(dr_test.shape[0], 1000))\n",
    "    mboot = (toc_psi / toc_std.reshape(-1, 1)) @ w / n\n",
    "\n",
    "max_mboot = np.max(np.abs(mboot), axis=0)\n",
    "uniform_critical_value = np.percentile(max_mboot, 95)\n",
    "print(uniform_critical_value)"
   ]
  },
  {
   "cell_type": "code",
   "execution_count": 80,
   "metadata": {},
   "outputs": [
    {
     "data": {
      "image/png": "[encoded data removed]",
      "text/plain": [
       "<Figure size 640x480 with 1 Axes>"
      ]
     },
     "metadata": {},
     "output_type": "display_data"
    }
   ],
   "source": [
    "plt.errorbar(100 - ugrid, toc, yerr=uniform_critical_value*toc_std, fmt='o', label='Est. QINI')\n",
    "plt.plot(100 - ugrid, np.zeros(len(ugrid)))\n",
    "if semi_synth:\n",
    "    plt.plot(100 - ugrid, true_toc, 'o', label='True QINI')\n",
    "plt.xlabel(\"Percentage treated\")\n",
    "plt.ylabel(\"Gain in Policy Valuee over Random Treatment\")\n",
    "plt.legend()\n",
    "plt.show()"
   ]
  },
  {
   "cell_type": "markdown",
   "metadata": {},
   "source": [
    "Or the one-sided multiplier bootstrap"
   ]
  },
  {
   "cell_type": "code",
   "execution_count": 81,
   "metadata": {},
   "outputs": [
    {
     "name": "stdout",
     "output_type": "stream",
     "text": [
      "2.032115026745084\n"
     ]
    }
   ],
   "source": [
    "min_mboot = np.min(mboot, axis=0)\n",
    "uniform_one_side_critical_value = np.abs(np.percentile(min_mboot, 5))\n",
    "print(uniform_one_side_critical_value)"
   ]
  },
  {
   "cell_type": "code",
   "execution_count": 82,
   "metadata": {},
   "outputs": [
    {
     "data": {
      "image/png": "[encoded data removed]",
      "text/plain": [
       "<Figure size 640x480 with 1 Axes>"
      ]
     },
     "metadata": {},
     "output_type": "display_data"
    }
   ],
   "source": [
    "plt.errorbar(100 - ugrid, toc, yerr=[uniform_one_side_critical_value*toc_std, np.zeros(len(toc))],\n",
    "             fmt='o', label='Est. QINI')\n",
    "plt.plot(100 - ugrid, np.zeros(len(ugrid)))\n",
    "if semi_synth:\n",
    "    plt.plot(100 - ugrid, true_toc, 'o', label='True QINI')\n",
    "plt.xlabel(\"Percentage treated\")\n",
    "plt.ylabel(\"Gain in Average Effect of Treated by CATE over Random\")\n",
    "plt.legend()\n",
    "plt.show()"
   ]
  },
  {
   "cell_type": "code",
   "execution_count": 83,
   "metadata": {},
   "outputs": [
    {
     "name": "stdout",
     "output_type": "stream",
     "text": [
      "Heterogeneity Statistic: 0.004068835735916011\n"
     ]
    }
   ],
   "source": [
    "print(f'Heterogeneity Statistic: {np.max(toc - uniform_one_side_critical_value*toc_std)}')"
   ]
  },
  {
   "cell_type": "code",
   "execution_count": 84,
   "metadata": {},
   "outputs": [
    {
     "name": "stdout",
     "output_type": "stream",
     "text": [
      "QINI: 0.0001, s.e.: 0.0001, One-Sided 95% CI=[-0.0002, Infty]\n"
     ]
    }
   ],
   "source": [
    "qini_psi = np.sum(toc_psi[:-1] * np.diff(ugrid).reshape(-1, 1) / 100, 0)\n",
    "qini = np.sum(toc[:-1] * np.diff(ugrid) / 100)\n",
    "qini_stderr = np.sqrt(np.mean(qini_psi**2) / n)\n",
    "print(f'QINI: {qini:.4f}, s.e.: {qini_stderr:.4f}, '\n",
    "      f'One-Sided 95% CI=[{qini - scipy.stats.norm.ppf(.95) * qini_stderr:.4f}, Infty]')"
   ]
  },
  {
   "cell_type": "markdown",
   "metadata": {},
   "source": [
    "# Confidence Intervals on CATE Predictions"
   ]
  },
  {
   "cell_type": "markdown",
   "metadata": {},
   "source": [
    "We now move on to the subject of constructing confidence intervals for the predictions of CATE models. Confidence intervals for CATE predictions is an inherently harder task. In its generality it is at least as hard as constructing confidence intervals for the predictions of a non-parametric regression function; which is a statistically daunting task. \n",
    "\n",
    "Two approaches help here:\n",
    "- the first is to relax our goals and only go after the best linear approximation of the CATE on some pre-defined set of engineered features. This is the approach taken by the DRLearner with a linear final CATE model. We have already seen this approach earlier in this notebook and how we can even construct simultaneous (joint) confidence intervals for CATE parameters and for CATE predictions.\n",
    "- the second is to use more data-adaptive approaches like random forests to side step the curse of dimensionality and potentially adapt to sparsity in the regression function (though theoretically such an adaptivity is in the worst case imposssible; it tends to work well in practice. This is the approach taken by CausalForests or Doubly Robust Forests that are both based on the idea of Generalized Random Forests, which is an extension of classical forests for solving problems defined via conditional moment restrictions."
   ]
  },
  {
   "cell_type": "markdown",
   "metadata": {},
   "source": [
    "# Confidence Intervals on BLPs of CATE with the DRLearner"
   ]
  },
  {
   "cell_type": "code",
   "execution_count": null,
   "metadata": {},
   "outputs": [],
   "source": [
    "from statsmodels.formula.api import ols\n",
    "df = X.copy()\n",
    "df['dr'] = dr_preds\n",
    "if groups is None:\n",
    "    lr = ols('dr ~ ' + blp_formula, df).fit(cov_type='HC1')\n",
    "else:\n",
    "    lr = ols('dr ~ ' + blp_formula, df).fit(cov_type='cluster', cov_kwds={'groups': groups})\n",
    "lr.summary()"
   ]
  },
  {
   "cell_type": "code",
   "execution_count": null,
   "metadata": {},
   "outputs": [],
   "source": [
    "grid = np.unique(np.percentile(X[xfeat], np.arange(0, 110, 20)))\n",
    "Xpd = pd.DataFrame(np.tile(np.median(X, axis=0, keepdims=True), (len(grid), 1)),\n",
    "                    columns=X.columns)\n",
    "Xpd[xfeat] = grid\n",
    "pred_df = lr.get_prediction(Xpd).summary_frame(alpha=.1)"
   ]
  },
  {
   "cell_type": "code",
   "execution_count": null,
   "metadata": {},
   "outputs": [],
   "source": [
    "plt.plot(Xpd[xfeat], pred_df['mean'])\n",
    "plt.fill_between(Xpd[xfeat], pred_df['mean_ci_lower'], pred_df['mean_ci_upper'], alpha=.4)\n",
    "plt.xlabel(xfeat + ' (other features fixed at median value)')\n",
    "plt.ylabel('Predicted CATE BLP: cate ~' + blp_formula)\n",
    "plt.show()"
   ]
  },
  {
   "cell_type": "code",
   "execution_count": null,
   "metadata": {},
   "outputs": [],
   "source": [
    "if semi_synth:\n",
    "    df = X.copy()\n",
    "    pred_df = lr.get_prediction(df).summary_frame(alpha=.1)\n",
    "    df['cate'] = true_cate(X)\n",
    "    lr = ols('cate ~ ' + blp_formula, df).fit()\n",
    "    true_proj = lr.get_prediction(df).summary_frame(alpha=.1)['mean']\n",
    "    inds = np.argsort(true_proj)\n",
    "    plt.plot(true_proj[inds], pred_df['mean'][inds])\n",
    "    plt.fill_between(true_proj[inds], pred_df['mean_ci_lower'][inds], pred_df['mean_ci_upper'][inds], alpha=.4)\n",
    "    plt.plot(np.linspace(np.min(true_proj), np.max(true_proj), 100),\n",
    "             np.linspace(np.min(true_proj), np.max(true_proj), 100))\n",
    "    plt.xlabel('True CATE BLP: cate ~' + blp_formula)\n",
    "    plt.ylabel('Predicted CATE BLP: cate ~' + blp_formula)\n",
    "    plt.show()"
   ]
  },
  {
   "cell_type": "markdown",
   "metadata": {},
   "source": [
    "# Non-Parametric Confidence Intervals with Causal Forests"
   ]
  },
  {
   "cell_type": "markdown",
   "metadata": {},
   "source": [
    "(standard errors here ignore cluster/group correlations)"
   ]
  },
  {
   "cell_type": "code",
   "execution_count": null,
   "metadata": {},
   "outputs": [],
   "source": [
    "from econml.grf import CausalForest\n",
    "\n",
    "yres = y - res_preds\n",
    "Dres = D - prop_preds\n",
    "cf = CausalForest(4000, criterion='het', max_depth=5, max_samples=.4, min_samples_leaf=50, min_weight_fraction_leaf=.0)\n",
    "cf.fit(Z, Dres, yres)"
   ]
  },
  {
   "cell_type": "code",
   "execution_count": null,
   "metadata": {},
   "outputs": [],
   "source": [
    "top_feat = np.argsort(cf.feature_importances_)[-1]\n",
    "print(Z.columns[top_feat])"
   ]
  },
  {
   "cell_type": "code",
   "execution_count": null,
   "metadata": {},
   "outputs": [],
   "source": [
    "grid = np.unique(np.percentile(Z.iloc[:, top_feat], np.arange(0, 105, 5)))\n",
    "Zpd = pd.DataFrame(np.tile(np.median(Z, axis=0, keepdims=True), (len(grid), 1)),\n",
    "                    columns=Z.columns)\n",
    "Zpd.iloc[:, top_feat] = grid\n",
    "\n",
    "preds, lb, ub = cf.predict(Zpd, interval=True, alpha=.1)\n",
    "preds = preds.flatten()\n",
    "lb = lb.flatten()\n",
    "ub = ub.flatten()\n",
    "plt.errorbar(Zpd.iloc[:, top_feat], preds, yerr=(preds-lb, ub-preds))\n",
    "plt.xlabel(Zpd.columns[top_feat])\n",
    "plt.ylabel('Predicted CATE (at median value of other features)')\n",
    "plt.show()"
   ]
  },
  {
   "cell_type": "code",
   "execution_count": null,
   "metadata": {},
   "outputs": [],
   "source": [
    "if semi_synth:\n",
    "    true_proj = true_cate(X)\n",
    "    preds, lb, ub = cf.predict(Z, interval=True, alpha=.1)\n",
    "    preds = preds.flatten()\n",
    "    lb = lb.flatten()\n",
    "    ub = ub.flatten()\n",
    "    inds = np.argsort(true_proj)\n",
    "    plt.plot(true_proj[inds], preds[inds])\n",
    "    plt.fill_between(true_proj[inds], lb[inds].flatten(), ub[inds].flatten(), alpha=.4)\n",
    "    plt.plot(np.linspace(np.min(true_proj), np.max(true_proj), 100),\n",
    "             np.linspace(np.min(true_proj), np.max(true_proj), 100))\n",
    "    plt.xlabel('True CATE')\n",
    "    plt.ylabel('Predicted CATE')\n",
    "    plt.show()"
   ]
  },
  {
   "cell_type": "markdown",
   "metadata": {},
   "source": [
    "# Non-Parametric Confidence Intervals with Doubly Robust Forests"
   ]
  },
  {
   "cell_type": "markdown",
   "metadata": {},
   "source": [
    "(standard errors here ignore cluster/group correlations)"
   ]
  },
  {
   "cell_type": "code",
   "execution_count": null,
   "metadata": {},
   "outputs": [],
   "source": [
    "from econml.grf import RegressionForest\n",
    "\n",
    "drrf = RegressionForest(4000, max_depth=5, max_samples=.4, min_samples_leaf=50,\n",
    "                       min_weight_fraction_leaf=.0)\n",
    "drrf.fit(Z, dr_preds)"
   ]
  },
  {
   "cell_type": "code",
   "execution_count": null,
   "metadata": {},
   "outputs": [],
   "source": [
    "top_feat = np.argsort(drrf.feature_importances_)[-1]\n",
    "print(Z.columns[top_feat])"
   ]
  },
  {
   "cell_type": "code",
   "execution_count": null,
   "metadata": {},
   "outputs": [],
   "source": [
    "grid = np.unique(np.percentile(Z.iloc[:, top_feat], np.arange(0, 105, 5)))\n",
    "Zpd = pd.DataFrame(np.tile(np.median(Z, axis=0, keepdims=True), (len(grid), 1)),\n",
    "                    columns=Z.columns)\n",
    "Zpd.iloc[:, top_feat] = grid\n",
    "\n",
    "preds, lb, ub = drrf.predict(Zpd, interval=True, alpha=.1)\n",
    "preds = preds.flatten()\n",
    "lb = lb.flatten()\n",
    "ub = ub.flatten()\n",
    "plt.errorbar(Zpd.iloc[:, top_feat], preds, yerr=(preds-lb, ub-preds))\n",
    "plt.xlabel(Zpd.columns[top_feat])\n",
    "plt.ylabel('Predicted CATE (at median value of other features)')\n",
    "plt.show()"
   ]
  },
  {
   "cell_type": "code",
   "execution_count": null,
   "metadata": {},
   "outputs": [],
   "source": [
    "if semi_synth:\n",
    "    true_proj = true_cate(X)\n",
    "    preds, lb, ub = drrf.predict(Z, interval=True, alpha=.1)\n",
    "    preds = preds.flatten()\n",
    "    lb = lb.flatten()\n",
    "    ub = ub.flatten()\n",
    "    inds = np.argsort(true_proj)\n",
    "    plt.plot(true_proj[inds], preds[inds])\n",
    "    plt.fill_between(true_proj[inds], lb[inds].flatten(), ub[inds].flatten(), alpha=.4)\n",
    "    plt.plot(np.linspace(np.min(true_proj), np.max(true_proj), 100),\n",
    "             np.linspace(np.min(true_proj), np.max(true_proj), 100))\n",
    "    plt.xlabel('True CATE')\n",
    "    plt.ylabel('Predicted CATE')\n",
    "    plt.show()"
   ]
  },
  {
   "cell_type": "markdown",
   "metadata": {},
   "source": [
    "# Policy Learning"
   ]
  },
  {
   "cell_type": "markdown",
   "metadata": {},
   "source": [
    "Suppose our goal is to estimate the best treatment policy $\\pi: Z \\to \\{0, 1\\}$. The policy gains over no treatment for any policy $\\pi$ can be identified as:\n",
    "\\begin{align}\n",
    "V(\\pi) := E[\\pi(Z)\\, (Y(1) - Y(0))] = E\\left[\\pi(Z)\\, Y^{DR}(g,p)\\right]\n",
    "\\end{align}\n",
    "\n",
    "Moreover, note that optimizing the linear objective $E[\\pi(Z)\\, Y^{DR}(g,p)]$ can also be written as a sample-weighted classification problem, where the goal of $\\pi$ is to much the sign of $Y^{DR}(g,p)$, with sample weights $|Y^{DR}(g,p)|$.\n",
    "\\begin{align}\n",
    "\\text{argmin}_{\\pi} V(\\pi) =~& \\text{argmin}_{\\pi} E\\left[(2\\pi(Z) - 1)\\, Y^{DR}(g,p)\\right]\\\\\n",
    "=~& \\text{argmin}_{\\pi} E\\left[\\left(2\\pi(Z) - 1\\right)\\, \\text{sign}\\left(Y^{DR}(g,p)\\right)\\, \\left|Y^{DR}(g,p)\\right|\\right] \\\\\n",
    "=~& \\text{argmin}_{\\pi} E\\left[1\\left\\{2\\pi(Z) - 1 = \\text{sign}\\left(Y^{DR}(g,p)\\right)\\right\\} \\left|Y^{DR}(g,p)\\right|\\right] \n",
    "\\end{align}"
   ]
  },
  {
   "cell_type": "code",
   "execution_count": null,
   "metadata": {},
   "outputs": [],
   "source": [
    "policy = DecisionTreeClassifier(max_depth=2, min_impurity_decrease=1e-3)\n",
    "policy.fit(Z, np.sign(dr_preds), sample_weight=np.abs(dr_preds))"
   ]
  },
  {
   "cell_type": "markdown",
   "metadata": {},
   "source": [
    "We can also plot the tree to visualize the partitions and the treatment recommendations. The details that are displayed on each node are also useful in understanding the group average treatment effect for each node. In particular, the information `samples=N`, gives us the size of each node $N$, and the information `value=[A, B]`, then `A` is the sum of the $|Y^{DR}(g,p)|$ for the samples where $Y^{DR}(g,p)<0$ and similarly, `B` is the sum of $|Y^{DR}(g,p)|$ for the samples where $Y^{DR}(g,p)>0$. Thus to get the GATE for each node, we simply do `(B-A)/N`, which would correspond to $\\frac{1}{N}\\sum_{i\\in \\text{node}} Y^{DR}(g,p)$, which is the doubly robust estimate of the GATE for the node."
   ]
  },
  {
   "cell_type": "code",
   "execution_count": null,
   "metadata": {},
   "outputs": [],
   "source": [
    "plt.figure(figsize=(10, 5))\n",
    "plot_tree(policy, filled=True, feature_names=Z.columns,\n",
    "          class_names=['Negative', 'Positive'])\n",
    "plt.show()"
   ]
  },
  {
   "cell_type": "markdown",
   "metadata": {},
   "source": [
    "We can also compare with the optimal tree policy if we had access to the true treatment CATE values for each sample."
   ]
  },
  {
   "cell_type": "code",
   "execution_count": null,
   "metadata": {},
   "outputs": [],
   "source": [
    "true_cates = true_cate(X)\n",
    "oracle_policy = DecisionTreeClassifier(max_depth=2, min_impurity_decrease=1e-3)\n",
    "oracle_policy.fit(Z, np.sign(true_cates), sample_weight=np.abs(true_cates))"
   ]
  },
  {
   "cell_type": "code",
   "execution_count": null,
   "metadata": {},
   "outputs": [],
   "source": [
    "plt.figure(figsize=(10, 5))\n",
    "plot_tree(oracle_policy, filled=True, feature_names=Z.columns)\n",
    "plt.show()"
   ]
  },
  {
   "cell_type": "code",
   "execution_count": null,
   "metadata": {},
   "outputs": [],
   "source": []
  }
 ],
 "metadata": {
  "kernelspec": {
   "display_name": "Python 3 (ipykernel)",
   "language": "python",
   "name": "python3"
  },
  "language_info": {
   "codemirror_mode": {
    "name": "ipython",
    "version": 3
   },
   "file_extension": ".py",
   "mimetype": "text/x-python",
   "name": "python",
   "nbconvert_exporter": "python",
   "pygments_lexer": "ipython3",
   "version": "3.10.9"
  }
 },
 "nbformat": 4,
 "nbformat_minor": 4
}
