{
 "cells": [
  {
   "cell_type": "code",
   "execution_count": 1,
   "id": "f89a7e88",
   "metadata": {},
   "outputs": [],
   "source": [
    "%load_ext autoreload\n",
    "%autoreload 2"
   ]
  },
  {
   "cell_type": "markdown",
   "id": "f38ec19a",
   "metadata": {},
   "source": [
    "# Experiments on Toy Data"
   ]
  },
  {
   "cell_type": "code",
   "execution_count": 2,
   "id": "46e4ff88",
   "metadata": {},
   "outputs": [],
   "source": [
    "from aggregation import experiment\n",
    "import numpy as np\n",
    "\n",
    "mses, cates = experiment(4, n=500, random_state=3)"
   ]
  },
  {
   "cell_type": "code",
   "execution_count": null,
   "id": "0bc04417",
   "metadata": {},
   "outputs": [],
   "source": [
    "import matplotlib.pyplot as plt\n",
    "\n",
    "plt.figure(figsize=(10, 10))\n",
    "for it, (name, mse) in enumerate(mses.items()):\n",
    "    plt.subplot(4, 6, it + 1)\n",
    "    plt.plot(cates['Ztest'], cates[name], '--', label=f'{name}: {np.sqrt(mse):.3f}')\n",
    "    plt.plot(cates['Ztest'], cates['True'], '-', label=f'True')\n",
    "    plt.xlabel('$Z$')\n",
    "    plt.ylabel('$Y$')\n",
    "    plt.legend()\n",
    "plt.show()"
   ]
  },
  {
   "cell_type": "code",
   "execution_count": null,
   "id": "128ca453",
   "metadata": {},
   "outputs": [
    {
     "name": "stderr",
     "output_type": "stream",
     "text": [
      "[Parallel(n_jobs=-1)]: Using backend LokyBackend with 8 concurrent workers.\n",
      "[Parallel(n_jobs=-1)]: Done  16 tasks      | elapsed:  5.6min\n",
      "[Parallel(n_jobs=-1)]: Done 100 out of 100 | elapsed: 37.9min finished\n",
      "[Parallel(n_jobs=-1)]: Using backend LokyBackend with 8 concurrent workers.\n",
      "[Parallel(n_jobs=-1)]: Done  16 tasks      | elapsed:  5.6min\n",
      "[Parallel(n_jobs=-1)]: Done 100 out of 100 | elapsed: 38.7min finished\n",
      "[Parallel(n_jobs=-1)]: Using backend LokyBackend with 8 concurrent workers.\n",
      "[Parallel(n_jobs=-1)]: Done  16 tasks      | elapsed:  6.1min\n",
      "[Parallel(n_jobs=-1)]: Done 100 out of 100 | elapsed: 37.1min finished\n",
      "[Parallel(n_jobs=-1)]: Using backend LokyBackend with 8 concurrent workers.\n"
     ]
    }
   ],
   "source": [
    "from aggregation import experiment\n",
    "import numpy as np\n",
    "import joblib\n",
    "from joblib import Parallel, delayed \n",
    "\n",
    "all_results = {}\n",
    "# all_results = joblib.load('all_results.jbl')\n",
    "for n in [250, 500, 1000, 2000, 5000, 10000]:\n",
    "    for dgp in np.arange(1, 7):\n",
    "        all_results[(n, dgp)] = Parallel(n_jobs=-1, verbose=3)(delayed(experiment)(dgp, n=n,\n",
    "                                                                              random_state=it)\n",
    "                                                          for it in range(100))\n",
    "        joblib.dump(all_results, 'all_results.jbl')"
   ]
  },
  {
   "cell_type": "code",
   "execution_count": null,
   "id": "4f8d822b",
   "metadata": {
    "scrolled": false
   },
   "outputs": [],
   "source": [
    "import matplotlib.pyplot as plt\n",
    "import numpy as np\n",
    "import pandas as pd\n",
    "import joblib\n",
    "plt.figure(figsize=(15, 10))\n",
    "it = 1\n",
    "attr = 'median'\n",
    "ylabel = 'Median RMSE Regret'\n",
    "all_results = joblib.load('all_results.jbl')\n",
    "for dgp in np.arange(1, 7):\n",
    "    rmses_agg = {}\n",
    "    for n in [500, 1000, 10000]:\n",
    "        results = all_results[(n, dgp)]\n",
    "        \n",
    "        for r in results:\n",
    "            r[1]['Uni'] = np.array([r[1][name] for name in ['T', 'S', 'IPS', 'DR', 'R', 'X', 'DRX']]).mean(axis=0)\n",
    "            r[0]['Uni'] = np.mean((r[1]['Uni'] - r[1]['True'])**2)\n",
    "\n",
    "        mses, _ = results[0]\n",
    "        names = list(mses.keys())\n",
    "        rmses_agg[n] = {}\n",
    "        oracle = np.min(np.array([np.sqrt(np.array([r[0][name] for r in results])) for name in names\n",
    "                                  if ((not name.startswith('Q')) and (not name.startswith('Best'))\n",
    "                                      and (not name.startswith('Uni')))]),\n",
    "                        axis=0)\n",
    "        for name in names:\n",
    "            rmses = np.sqrt(np.array([r[0][name] for r in results])) - oracle\n",
    "            rmses_agg[n][name] = {'mean': np.mean(rmses), 'std': np.std(rmses),\n",
    "                                   'stderr': np.std(rmses) / np.sqrt(len(results)),\n",
    "                                   'median': np.median(rmses), '5': np.percentile(rmses, 5),\n",
    "                                   '95': np.percentile(rmses, 95)}\n",
    "\n",
    "    \n",
    "    plt.subplot(2, 3, it)\n",
    "    ngrid = [500, 1000, 10000]\n",
    "    plt.plot(ngrid, [rmses_agg[n]['Qtrain'][attr] for n in ngrid], linewidth=5, label='Qtrain')\n",
    "    for name in ['X', 'Uni', 'DRX', 'R', 'T', 'S', 'DR']:\n",
    "        plt.plot(ngrid, [rmses_agg[n][name][attr] for n in ngrid], label=name)\n",
    "    plt.title(f'DGP: {dgp}')\n",
    "    plt.legend()\n",
    "    plt.xlabel('n')\n",
    "    plt.ylabel(ylabel)\n",
    "    it += 1\n",
    "plt.tight_layout()\n",
    "plt.savefig('median_rmse_regret_qtrain.png', dpi=600)\n",
    "plt.show()"
   ]
  },
  {
   "cell_type": "code",
   "execution_count": null,
   "id": "856199da",
   "metadata": {},
   "outputs": [],
   "source": [
    "import matplotlib.pyplot as plt\n",
    "import numpy as np\n",
    "import pandas as pd\n",
    "import joblib\n",
    "\n",
    "#all_results = joblib.load('all_results.jbl')\n",
    "rmses_agg = {}\n",
    "for dgp in np.arange(4, 7):\n",
    "    rmses_agg[f'DGP {dgp}'] = {}\n",
    "    for n in [500, 1000, 10000]:\n",
    "        results = all_results[(n, dgp)]\n",
    "        \n",
    "        for r in results:\n",
    "            r[1]['Uni'] = np.array([r[1][name] for name in ['T', 'S', 'IPS', 'DR', 'R', 'X', 'DRX']]).mean(axis=0)\n",
    "            r[0]['Uni'] = np.mean((r[1]['Uni'] - r[1]['True'])**2)\n",
    "\n",
    "        mses, _ = results[0]\n",
    "        names = list(mses.keys())\n",
    "        rmses_agg[f'DGP {dgp}'][n] = {}\n",
    "        oracle = np.min(np.array([np.sqrt(np.array([r[0][name] for r in results])) for name in names\n",
    "                                  if ((not name.startswith('Q')) and (not name.startswith('Best'))\n",
    "                                      and (not name.startswith('Uni')))]),\n",
    "                        axis=0)\n",
    "        for name in names:\n",
    "            rmses = np.sqrt(np.array([r[0][name] for r in results])) - oracle\n",
    "            rmses_agg[f'DGP {dgp}'][n][name] = f'{np.median(rmses):.2f} ({np.percentile(rmses, 95):.2f})'\n",
    "\n",
    "    rmses_agg[f'DGP {dgp}'] = pd.DataFrame(rmses_agg[f'DGP {dgp}'])\n",
    "\n",
    "table = pd.concat(rmses_agg, axis=1)"
   ]
  },
  {
   "cell_type": "code",
   "execution_count": null,
   "id": "9c38a1bd",
   "metadata": {},
   "outputs": [],
   "source": [
    "table"
   ]
  },
  {
   "cell_type": "code",
   "execution_count": null,
   "id": "16ab8fe7",
   "metadata": {},
   "outputs": [],
   "source": [
    "print(table.to_latex(multicolumn=True,bold_rows=True, multirow=True, column_format='r|ccc|ccc|ccc'))"
   ]
  },
  {
   "cell_type": "code",
   "execution_count": null,
   "id": "07229859",
   "metadata": {
    "scrolled": false
   },
   "outputs": [],
   "source": [
    "import matplotlib.pyplot as plt\n",
    "import numpy as np\n",
    "import pandas as pd\n",
    "import joblib\n",
    "\n",
    "#all_results = joblib.load('all_results.jbl')\n",
    "for n in [500, 1000, 10000]:\n",
    "    for dgp in np.arange(1, 7):\n",
    "        results = all_results[(n, dgp)]\n",
    "        \n",
    "        for r in results:\n",
    "            r[1]['Uni'] = np.array([r[1][name] for name in ['T', 'S', 'IPS', 'DR', 'R', 'X', 'DRX']]).mean(axis=0)\n",
    "            r[0]['Uni'] = np.mean((r[1]['Uni'] - r[1]['True'])**2)\n",
    "\n",
    "        mses, _ = results[0]\n",
    "        names = list(mses.keys())\n",
    "        rmses_agg = {}\n",
    "        rmses_all = {}\n",
    "        for name in names:\n",
    "            rmses = np.sqrt(np.array([r[0][name] for r in results]))\n",
    "            # clip top 1% failure modes\n",
    "#             q1 = np.percentile(rmses, 99)\n",
    "#             rmses = rmses[(rmses<q1)]\n",
    "            rmses_all[name] = rmses\n",
    "            rmses_agg[name] = {'mean': np.mean(rmses), 'std': np.std(rmses),\n",
    "                               'stderr': np.std(rmses) / np.sqrt(len(results)),\n",
    "                               'median': np.median(rmses)}\n",
    "\n",
    "        agg_means = pd.DataFrame(rmses_agg).T['mean'].values\n",
    "        min_rmse = np.min(agg_means)\n",
    "        min_ind = np.argmin(agg_means)\n",
    "        min_name = names[min_ind]\n",
    "        min_rmse_std = rmses_agg[min_name]['stderr']\n",
    "        print(min_rmse, min_name, min_rmse_std)\n",
    "        \n",
    "        oracle = np.min(np.array([np.sqrt(np.array([r[0][name] for r in results])) for name in names\n",
    "                                  if ((not name.startswith('Q')) and (not name.startswith('Best'))\n",
    "                                      and (not name.startswith('Uni')))]),\n",
    "                        axis=0)\n",
    "        rmses_all['oracle'] = oracle\n",
    "        rmses_agg['oracle'] = {'mean': np.mean(oracle), 'std': np.std(oracle),\n",
    "                               'stderr': np.std(oracle) / np.sqrt(len(results)),\n",
    "                               'median': np.median(oracle)}\n",
    "\n",
    "        plt.figure(figsize=(15, 7))\n",
    "        it = 0\n",
    "        for name, agg in rmses_agg.items():\n",
    "            mean = agg['mean']\n",
    "            if mean >= min_rmse + 20*min_rmse_std:\n",
    "                continue\n",
    "            plt.violinplot(rmses_all[name], positions=[it], showmeans=False, showmedians=True,\n",
    "                           showextrema=True, quantiles=[.05, .95])\n",
    "            plt.scatter(name, mean)\n",
    "            it += 1\n",
    "        plt.title(f'DGP: {dgp} (n={n})')\n",
    "        plt.xlabel('Method')\n",
    "        plt.ylabel('RMSE')\n",
    "        plt.xlim([-1, it])\n",
    "        plt.show()\n",
    "        display(pd.DataFrame(rmses_agg).T)"
   ]
  },
  {
   "cell_type": "markdown",
   "id": "9a2e8edd",
   "metadata": {},
   "source": [
    "# Experiments on Semi-Synthetic Data"
   ]
  },
  {
   "cell_type": "code",
   "execution_count": null,
   "id": "b60d7747",
   "metadata": {},
   "outputs": [],
   "source": [
    "data = 'welfare' # which dataset, one of {'401k', 'criteo', 'welfare', 'poverty', 'star'}\n",
    "\n",
    "## For semi-synthetic data generation\n",
    "semi_synth = True # Whether true outcome y should be replaced by a fake outcome from a known CEF\n",
    "simple_synth = True # Whether the true CEF of the fake y should be simple or fitted from data\n",
    "max_depth = 2 # max depth of random forest during for semi-synthetic model fitting\n",
    "scale = .2 # magnitude of noise in semi-synthetic data\n",
    "def simple_true_cef(D, X): # simple CEF of the outcome for semi-synthetic data\n",
    "    return .5 * np.array(X)[:, 1] * D + np.array(X)[:, 1]"
   ]
  },
  {
   "cell_type": "code",
   "execution_count": null,
   "id": "f1e28609",
   "metadata": {},
   "outputs": [],
   "source": [
    "mses, cates = experiment(data,\n",
    "                         semi_synth=semi_synth,\n",
    "                         simple_synth=simple_synth,\n",
    "                         max_depth=max_depth,\n",
    "                         scale=scale,\n",
    "                         true_f=simple_true_cef,\n",
    "                         random_state=1)"
   ]
  },
  {
   "cell_type": "code",
   "execution_count": null,
   "id": "220133d4",
   "metadata": {},
   "outputs": [],
   "source": [
    "import matplotlib.pyplot as plt\n",
    "\n",
    "plt.figure(figsize=(10, 10))\n",
    "for it, (name, mse) in enumerate(mses.items()):\n",
    "    plt.subplot(4, 4, it + 1)\n",
    "    plt.scatter(cates['Ztest'][:, 1], cates[name], label=f'{name}: {np.sqrt(mse):.4f}')\n",
    "    plt.scatter(cates['Ztest'][:, 1], cates['True'],  label=f'True')\n",
    "    plt.xlabel('$Z$')\n",
    "    plt.ylabel('$Y$')\n",
    "    plt.legend()\n",
    "plt.show()"
   ]
  },
  {
   "cell_type": "code",
   "execution_count": null,
   "id": "0525c2f6",
   "metadata": {},
   "outputs": [],
   "source": [
    "results = Parallel(n_jobs=-1, verbose=3)(delayed(experiment)(data,\n",
    "                                                             semi_synth=semi_synth,\n",
    "                                                             simple_synth=simple_synth,\n",
    "                                                             max_depth=max_depth,\n",
    "                                                             scale=scale,\n",
    "                                                             true_f=simple_true_cef,\n",
    "                                                             random_state=it)\n",
    "                                                  for it in range(100))"
   ]
  },
  {
   "cell_type": "code",
   "execution_count": null,
   "id": "ccefc84c",
   "metadata": {},
   "outputs": [],
   "source": [
    "mses, _ = results[0]\n",
    "names = list(mses.keys())\n",
    "rmses_agg = {}\n",
    "rmses_all = {}\n",
    "for name in names:\n",
    "    rmses = np.sqrt(np.array([r[0][name] for r in results]))\n",
    "    # clip top 1% failure modes\n",
    "    q1 = np.percentile(rmses, 99)\n",
    "    rmses = rmses[(rmses<q1)]\n",
    "    rmses_all[name] = rmses\n",
    "    rmses_agg[name] = {'mean': np.mean(rmses), 'std': np.std(rmses),\n",
    "                       'stderr': np.std(rmses) / np.sqrt(len(results)),\n",
    "                       'median': np.median(rmses)}\n",
    "\n",
    "agg_means = pd.DataFrame(rmses_agg).T['mean'].values\n",
    "min_rmse = np.min(agg_means)\n",
    "min_ind = np.argmin(agg_means)\n",
    "min_name = names[min_ind]\n",
    "min_rmse_std = rmses_agg[min_name]['stderr']\n",
    "print(min_rmse, min_name, min_rmse_std)\n",
    "\n",
    "oracle = np.min(np.array([np.sqrt(np.array([r[0][name] for r in results])) for name in names\n",
    "                          if ((not name.startswith('Q')) and (not name.startswith('Best'))\n",
    "                              and (not name.startswith('Uni')))]),\n",
    "                axis=0)\n",
    "rmses_all['oracle'] = oracle\n",
    "rmses_agg['oracle'] = {'mean': np.mean(oracle), 'std': np.std(oracle),\n",
    "                       'stderr': np.std(oracle) / np.sqrt(len(results)),\n",
    "                       'median': np.median(oracle)}\n",
    "\n",
    "plt.show()\n",
    "it = 0\n",
    "for name, agg in rmses_agg.items():\n",
    "    mean = agg['mean']\n",
    "    if mean >= min_rmse + 20*min_rmse_std:\n",
    "        continue\n",
    "    plt.violinplot(rmses_all[name], positions=[it], showmeans=False, showmedians=True,\n",
    "                   showextrema=True, quantiles=[.1, .9])\n",
    "    plt.scatter(name, mean)\n",
    "    it += 1\n",
    "plt.title(f'DGP: {dgp} (n={n})')\n",
    "plt.xlabel('Method')\n",
    "plt.ylabel('RMSE')\n",
    "plt.xlim([-1, it])\n",
    "plt.show()\n",
    "display(pd.DataFrame(rmses_agg).T)"
   ]
  }
 ],
 "metadata": {
  "kernelspec": {
   "display_name": "Python 3",
   "language": "python",
   "name": "python3"
  },
  "language_info": {
   "codemirror_mode": {
    "name": "ipython",
    "version": 3
   },
   "file_extension": ".py",
   "mimetype": "text/x-python",
   "name": "python",
   "nbconvert_exporter": "python",
   "pygments_lexer": "ipython3",
   "version": "3.6.10"
  }
 },
 "nbformat": 4,
 "nbformat_minor": 5
}
