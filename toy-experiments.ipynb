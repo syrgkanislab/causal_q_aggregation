{
 "cells": [
  {
   "cell_type": "code",
   "execution_count": null,
   "id": "e6cb6d2d",
   "metadata": {},
   "outputs": [],
   "source": [
    "%load_ext autoreload\n",
    "%autoreload 2"
   ]
  },
  {
   "cell_type": "code",
   "execution_count": null,
   "id": "198bf8f6",
   "metadata": {},
   "outputs": [],
   "source": [
    "from aggregation import experiment\n",
    "from joblib import Parallel, delayed \n",
    "\n",
    "all_results = {}\n",
    "for dgp in np.arange(1, 7):\n",
    "    all_results[dgp] = Parallel(n_jobs=-1, verbose=3)(delayed(experiment)(500, dgp, it) for it in range(100))"
   ]
  },
  {
   "cell_type": "code",
   "execution_count": null,
   "id": "5f1ab77a",
   "metadata": {},
   "outputs": [],
   "source": [
    "all_results = results"
   ]
  },
  {
   "cell_type": "code",
   "execution_count": null,
   "id": "569716a2",
   "metadata": {},
   "outputs": [],
   "source": [
    "import numpy as np\n",
    "import pandas as pd\n",
    "\n",
    "for dgp in np.arange(1, 7):\n",
    "    results = all_results[dgp]\n",
    "    mses, _ = results[0]\n",
    "    names = list(mses.keys())\n",
    "    mses_agg = {}\n",
    "    mses_all = {}\n",
    "    for name in names:\n",
    "        mses = [r[0][name] for r in results]\n",
    "        mses_all[name] = np.array(mses)\n",
    "        mses_agg[name] = (np.mean(mses), np.std(mses), np.std(mses) / np.sqrt(len(results)))\n",
    "\n",
    "    min_mse, _, _ = np.min(pd.DataFrame(mses_agg), axis=1)\n",
    "    min_ind, _, _ = np.argmin(pd.DataFrame(mses_agg).values, axis=1)\n",
    "    min_name = names[min_ind]\n",
    "    min_mse_std = mses_agg[min_name][2]\n",
    "    \n",
    "    \n",
    "    plt.show()\n",
    "    it = 0\n",
    "    for name, (mean, std, stderr) in mses_agg.items():\n",
    "        if mean >= min_mse + 20*min_mse_std:\n",
    "            continue\n",
    "        plt.violinplot(mses_all[name], positions=[it], showmeans=True, showmedians=True, showextrema=True)\n",
    "        plt.scatter(name, mean)\n",
    "        plt.errorbar(name, mean, yerr=2*stderr)\n",
    "        it += 1\n",
    "    plt.title(f'DGP {dgp}')\n",
    "    plt.xlabel('Method')\n",
    "    plt.ylabel('MSE')\n",
    "    plt.xlim([-1, it])\n",
    "    plt.show()"
   ]
  },
  {
   "cell_type": "code",
   "execution_count": null,
   "id": "51a6bacc",
   "metadata": {},
   "outputs": [],
   "source": [
    "import matplotlib.pyplot as plt\n",
    "\n",
    "for name, mse in mses.items():\n",
    "    plt.plot(cates['Ztest'], cates[name], '--', label=f'{name}: {mse:.4f}')\n",
    "plt.xlabel('$Z$')\n",
    "plt.ylabel('$Y$')\n",
    "plt.legend()\n",
    "plt.show()"
   ]
  }
 ],
 "metadata": {
  "kernelspec": {
   "display_name": "Python 3 (ipykernel)",
   "language": "python",
   "name": "python3"
  },
  "language_info": {
   "codemirror_mode": {
    "name": "ipython",
    "version": 3
   },
   "file_extension": ".py",
   "mimetype": "text/x-python",
   "name": "python",
   "nbconvert_exporter": "python",
   "pygments_lexer": "ipython3",
   "version": "3.10.9"
  }
 },
 "nbformat": 4,
 "nbformat_minor": 5
}
